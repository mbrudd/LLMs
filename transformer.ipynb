{
 "cells": [
  {
   "cell_type": "code",
   "execution_count": 3,
   "id": "9c99e39c",
   "metadata": {},
   "outputs": [],
   "source": [
    "import torch\n",
    "import torch.nn as nn"
   ]
  },
  {
   "cell_type": "code",
   "execution_count": 4,
   "id": "bbb78f4b",
   "metadata": {},
   "outputs": [],
   "source": [
    "GPT_CONFIG_124M = {\n",
    "    \"vocab_size\": 50257,    # Vocabulary size\n",
    "    \"context_length\": 1024, # Context length\n",
    "    \"emb_dim\": 768,         # Embedding dimension\n",
    "    \"n_heads\": 12,          # Number of attention heads\n",
    "    \"n_layers\": 12,         # Number of layers\n",
    "    \"drop_rate\": 0.1,       # Dropout rate\n",
    "    \"qkv_bias\": False       # Query-Key-Value bias\n",
    "}"
   ]
  },
  {
   "cell_type": "code",
   "execution_count": 5,
   "id": "3a5158ed",
   "metadata": {},
   "outputs": [],
   "source": [
    "class LayerNorm(nn.Module):\n",
    "    def __init__(self, emb_dim):\n",
    "        super().__init__()\n",
    "        self.eps = 1e-5\n",
    "        self.scale = nn.Parameter(torch.ones(emb_dim))\n",
    "        self.shift = nn.Parameter(torch.zeros(emb_dim))\n",
    "\n",
    "    def forward(self, x):\n",
    "        mean = x.mean(dim=-1, keepdim=True)\n",
    "        var = x.var(dim=-1, keepdim=True, unbiased=False)\n",
    "        norm_x = (x - mean) / torch.sqrt(var + self.eps)\n",
    "        return self.scale * norm_x + self.shift"
   ]
  },
  {
   "cell_type": "code",
   "execution_count": 6,
   "id": "b8169591",
   "metadata": {},
   "outputs": [],
   "source": [
    "class GELU(nn.Module):\n",
    "    def __init__(self):\n",
    "        super().__init__()\n",
    "\n",
    "    def forward(self, x):\n",
    "        return 0.5 * x * (1 + torch.tanh(\n",
    "            torch.sqrt(torch.tensor(2.0 / torch.pi)) * \n",
    "            (x + 0.044715 * torch.pow(x, 3))\n",
    "        ))\n",
    "\n",
    "class FeedForward(nn.Module):\n",
    "    def __init__(self, cfg):\n",
    "        super().__init__()\n",
    "        self.layers = nn.Sequential(\n",
    "            nn.Linear(cfg[\"emb_dim\"], 4 * cfg[\"emb_dim\"]),\n",
    "            GELU(),\n",
    "            nn.Linear(4 * cfg[\"emb_dim\"], cfg[\"emb_dim\"]),\n",
    "        )\n",
    "\n",
    "    def forward(self, x):\n",
    "        return self.layers(x)"
   ]
  },
  {
   "cell_type": "code",
   "execution_count": 7,
   "id": "85a7b584",
   "metadata": {},
   "outputs": [],
   "source": [
    "class MultiHeadAttention(nn.Module):\n",
    "    def __init__(self, d_in, d_out, context_length, dropout, num_heads, qkv_bias=False):\n",
    "        super().__init__()\n",
    "        assert (d_out % num_heads == 0), \\\n",
    "            \"d_out must be divisible by num_heads\"\n",
    "\n",
    "        self.d_out = d_out\n",
    "        self.num_heads = num_heads\n",
    "        self.head_dim = d_out // num_heads # Reduce the projection dim to match desired output dim\n",
    "\n",
    "        self.W_query = nn.Linear(d_in, d_out, bias=qkv_bias)\n",
    "        self.W_key = nn.Linear(d_in, d_out, bias=qkv_bias)\n",
    "        self.W_value = nn.Linear(d_in, d_out, bias=qkv_bias)\n",
    "        self.out_proj = nn.Linear(d_out, d_out)  # Linear layer to combine head outputs\n",
    "        self.dropout = nn.Dropout(dropout)\n",
    "        self.register_buffer(\n",
    "            \"mask\",\n",
    "            torch.triu(torch.ones(context_length, context_length),\n",
    "                       diagonal=1)\n",
    "        )\n",
    "\n",
    "    def forward(self, x):\n",
    "        b, num_tokens, d_in = x.shape\n",
    "        # As in `CausalAttention`, for inputs where `num_tokens` exceeds `context_length`, \n",
    "        # this will result in errors in the mask creation further below. \n",
    "        # In practice, this is not a problem since the LLM (chapters 4-7) ensures that inputs  \n",
    "        # do not exceed `context_length` before reaching this forward method.\n",
    "\n",
    "        keys = self.W_key(x) # Shape: (b, num_tokens, d_out)\n",
    "        queries = self.W_query(x)\n",
    "        values = self.W_value(x)\n",
    "\n",
    "        # We implicitly split the matrix by adding a `num_heads` dimension\n",
    "        # Unroll last dim: (b, num_tokens, d_out) -> (b, num_tokens, num_heads, head_dim)\n",
    "        keys = keys.view(b, num_tokens, self.num_heads, self.head_dim) \n",
    "        values = values.view(b, num_tokens, self.num_heads, self.head_dim)\n",
    "        queries = queries.view(b, num_tokens, self.num_heads, self.head_dim)\n",
    "\n",
    "        # Transpose: (b, num_tokens, num_heads, head_dim) -> (b, num_heads, num_tokens, head_dim)\n",
    "        keys = keys.transpose(1, 2)\n",
    "        queries = queries.transpose(1, 2)\n",
    "        values = values.transpose(1, 2)\n",
    "\n",
    "        # Compute scaled dot-product attention (aka self-attention) with a causal mask\n",
    "        attn_scores = queries @ keys.transpose(2, 3)  # Dot product for each head\n",
    "\n",
    "        # Original mask truncated to the number of tokens and converted to boolean\n",
    "        mask_bool = self.mask.bool()[:num_tokens, :num_tokens]\n",
    "\n",
    "        # Use the mask to fill attention scores\n",
    "        attn_scores.masked_fill_(mask_bool, -torch.inf)\n",
    "        \n",
    "        attn_weights = torch.softmax(attn_scores / keys.shape[-1]**0.5, dim=-1)\n",
    "        attn_weights = self.dropout(attn_weights)\n",
    "\n",
    "        # Shape: (b, num_tokens, num_heads, head_dim)\n",
    "        context_vec = (attn_weights @ values).transpose(1, 2) \n",
    "        \n",
    "        # Combine heads, where self.d_out = self.num_heads * self.head_dim\n",
    "        context_vec = context_vec.contiguous().view(b, num_tokens, self.d_out)\n",
    "        context_vec = self.out_proj(context_vec) # optional projection\n",
    "\n",
    "        return context_vec"
   ]
  },
  {
   "cell_type": "code",
   "execution_count": 8,
   "id": "893768cd",
   "metadata": {},
   "outputs": [],
   "source": [
    "class TransformerBlock( nn.Module ):\n",
    "    def __init__( self, cfg ):\n",
    "        super().__init__()\n",
    "        self.norm1 = LayerNorm( cfg[\"emb_dim\"] )\n",
    "        self.att = MultiHeadAttention( \n",
    "            d_in = cfg[\"emb_dim\"], \n",
    "            d_out = cfg[\"emb_dim\"], \n",
    "            context_length = cfg[\"context_length\"], \n",
    "            dropout = cfg[\"drop_rate\"], \n",
    "            num_heads = cfg[\"n_heads\"] \n",
    "        )\n",
    "        self.dropout = nn.Dropout( cfg[\"drop_rate\"] )\n",
    "        self.norm2 = LayerNorm( cfg[\"emb_dim\"] )\n",
    "        self.feedforward = FeedForward( cfg )\n",
    "        \n",
    "    def forward( self, x ):\n",
    "        \n",
    "        # the attention chunk in this transformer:\n",
    "        shortcut = x \n",
    "        x = self.norm1( x )\n",
    "        x = self.att( x )\n",
    "        x = self.dropout( x )\n",
    "        x = x + shortcut \n",
    "        \n",
    "        # the feed forward chunk:\n",
    "        shortcut = x\n",
    "        x = self.norm2( x ) \n",
    "        x = self.feedforward( x )\n",
    "        x = self.dropout( x )\n",
    "        x = x + shortcut \n",
    "        \n",
    "        return x "
   ]
  },
  {
   "cell_type": "code",
   "execution_count": 16,
   "id": "6fa29021",
   "metadata": {},
   "outputs": [],
   "source": [
    "# instantiate TransformerBlock\n",
    "block = TransformerBlock( GPT_CONFIG_124M )"
   ]
  },
  {
   "cell_type": "code",
   "execution_count": 10,
   "id": "93312707",
   "metadata": {},
   "outputs": [],
   "source": [
    "input = torch.randn( 3, 4, 768 )"
   ]
  },
  {
   "cell_type": "code",
   "execution_count": 12,
   "id": "3d0ee72b",
   "metadata": {},
   "outputs": [
    {
     "data": {
      "text/plain": [
       "tensor([[[ 1.5852,  0.7124, -2.5290,  ..., -0.2645, -1.0078, -1.9439],\n",
       "         [ 0.4323, -0.9077,  0.3917,  ..., -0.5338,  0.5965, -0.0693],\n",
       "         [ 0.6425, -0.7272,  0.3455,  ...,  0.2187, -0.6524,  0.5125],\n",
       "         [ 1.3831, -0.5528, -1.5321,  ..., -0.2248, -2.2606, -1.5190]],\n",
       "\n",
       "        [[ 1.0384,  1.2424,  0.3253,  ..., -1.6248, -0.1245,  1.5261],\n",
       "         [ 0.4452,  1.2925,  1.7482,  ..., -1.4313,  0.0444,  0.7872],\n",
       "         [ 0.5506, -0.0762, -0.2268,  ...,  0.0315,  0.8042,  0.3774],\n",
       "         [ 0.9559, -1.6619, -0.0335,  ...,  0.1404,  1.1857, -0.3181]],\n",
       "\n",
       "        [[-1.2879, -0.8503, -0.8217,  ..., -0.6292, -0.8111, -1.1771],\n",
       "         [-0.1639, -0.2283, -2.0225,  ...,  0.6507, -0.4333,  0.5057],\n",
       "         [ 0.5500, -1.0073,  0.9555,  ...,  0.4867,  0.8316,  1.3187],\n",
       "         [ 0.3468, -0.9812,  0.9767,  ..., -1.6317, -0.4394,  0.2164]]])"
      ]
     },
     "execution_count": 12,
     "metadata": {},
     "output_type": "execute_result"
    }
   ],
   "source": [
    "input"
   ]
  },
  {
   "cell_type": "code",
   "execution_count": 17,
   "id": "428e3914",
   "metadata": {},
   "outputs": [],
   "source": [
    "output = block( input )"
   ]
  },
  {
   "cell_type": "code",
   "execution_count": 18,
   "id": "844bff50",
   "metadata": {},
   "outputs": [
    {
     "data": {
      "text/plain": [
       "torch.Size([3, 4, 768])"
      ]
     },
     "execution_count": 18,
     "metadata": {},
     "output_type": "execute_result"
    }
   ],
   "source": [
    "output.shape"
   ]
  },
  {
   "cell_type": "code",
   "execution_count": 19,
   "id": "f86ac4a6",
   "metadata": {},
   "outputs": [
    {
     "data": {
      "text/plain": [
       "tensor([[[ 1.8379e+00,  1.1030e+00, -2.4613e+00,  ...,  3.2189e-01,\n",
       "          -9.5638e-01, -2.2712e+00],\n",
       "         [ 9.3938e-02, -1.0500e+00,  2.3328e-01,  ..., -5.7315e-02,\n",
       "           6.0815e-01,  2.4787e-02],\n",
       "         [ 8.3045e-01, -2.4316e-01,  1.4642e-03,  ...,  5.0329e-01,\n",
       "          -1.2575e+00,  3.4773e-01],\n",
       "         [ 1.3165e+00, -2.1253e-01, -1.5922e+00,  ..., -2.2829e-01,\n",
       "          -2.4800e+00, -1.4317e+00]],\n",
       "\n",
       "        [[ 1.6071e+00,  9.2813e-01,  2.5890e-01,  ..., -1.6606e+00,\n",
       "          -3.1930e-01,  1.9111e+00],\n",
       "         [ 1.2527e+00,  1.4183e+00,  1.5575e+00,  ..., -1.6615e+00,\n",
       "          -3.5827e-01,  1.0733e+00],\n",
       "         [ 3.3395e-01, -1.7665e-02,  8.4564e-02,  ..., -2.1349e-02,\n",
       "           4.6464e-01,  5.8978e-01],\n",
       "         [ 1.0218e+00, -1.5232e+00,  1.2663e-01,  ..., -1.5243e-01,\n",
       "           1.0848e+00, -2.6935e-01]],\n",
       "\n",
       "        [[-1.0797e+00, -7.6656e-01, -7.5902e-01,  ...,  2.1022e-01,\n",
       "          -3.1099e-01, -1.8383e+00],\n",
       "         [-1.7802e-01,  3.3552e-01, -2.4010e+00,  ...,  6.5066e-01,\n",
       "           3.5831e-01,  4.7154e-01],\n",
       "         [ 3.8395e-01, -5.1153e-01,  9.9818e-01,  ...,  5.5288e-01,\n",
       "           1.2759e+00,  7.2193e-01],\n",
       "         [ 2.3650e-01, -5.7264e-01,  7.8983e-01,  ..., -1.8636e+00,\n",
       "          -1.4894e-01, -4.1965e-01]]], grad_fn=<AddBackward0>)"
      ]
     },
     "execution_count": 19,
     "metadata": {},
     "output_type": "execute_result"
    }
   ],
   "source": [
    "output"
   ]
  },
  {
   "cell_type": "code",
   "execution_count": null,
   "id": "1d0ea4e0",
   "metadata": {},
   "outputs": [],
   "source": []
  }
 ],
 "metadata": {
  "kernelspec": {
   "display_name": "Python 3 (ipykernel)",
   "language": "python",
   "name": "python3"
  },
  "language_info": {
   "codemirror_mode": {
    "name": "ipython",
    "version": 3
   },
   "file_extension": ".py",
   "mimetype": "text/x-python",
   "name": "python",
   "nbconvert_exporter": "python",
   "pygments_lexer": "ipython3",
   "version": "3.10.12"
  }
 },
 "nbformat": 4,
 "nbformat_minor": 5
}
