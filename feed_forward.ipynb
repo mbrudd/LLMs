{
 "cells": [
  {
   "cell_type": "code",
   "execution_count": 1,
   "id": "0832d31d",
   "metadata": {},
   "outputs": [],
   "source": [
    "import torch\n",
    "import torch.nn as nn"
   ]
  },
  {
   "cell_type": "code",
   "execution_count": 2,
   "id": "6efd35c2",
   "metadata": {},
   "outputs": [],
   "source": [
    "GPT_CONFIG_124M = {\n",
    "    \"vocab_size\": 50257,    # Vocabulary size\n",
    "    \"context_length\": 1024, # Context length\n",
    "    \"emb_dim\": 768,         # Embedding dimension\n",
    "    \"n_heads\": 12,          # Number of attention heads\n",
    "    \"n_layers\": 12,         # Number of layers\n",
    "    \"drop_rate\": 0.1,       # Dropout rate\n",
    "    \"qkv_bias\": False       # Query-Key-Value bias\n",
    "}"
   ]
  },
  {
   "cell_type": "code",
   "execution_count": 3,
   "id": "06d03bef",
   "metadata": {},
   "outputs": [],
   "source": [
    "class GELU(nn.Module):\n",
    "    def __init__(self):\n",
    "        super().__init__()\n",
    "\n",
    "    def forward(self, x):\n",
    "        return 0.5 * x * (1 + torch.tanh(\n",
    "            torch.sqrt(torch.tensor(2.0 / torch.pi)) * \n",
    "            (x + 0.044715 * torch.pow(x, 3))\n",
    "        ))\n"
   ]
  },
  {
   "cell_type": "code",
   "execution_count": 5,
   "id": "725280b8",
   "metadata": {},
   "outputs": [],
   "source": [
    "class FeedForward(nn.Module):\n",
    "    def __init__(self, cfg):\n",
    "        super().__init__()\n",
    "        self.layers = nn.Sequential(\n",
    "            nn.Linear(cfg[\"emb_dim\"], 4 * cfg[\"emb_dim\"]),\n",
    "            GELU(),\n",
    "            nn.Linear(4 * cfg[\"emb_dim\"], cfg[\"emb_dim\"]),\n",
    "        )\n",
    "\n",
    "    def forward(self, x):\n",
    "        return self.layers(x)"
   ]
  },
  {
   "cell_type": "code",
   "execution_count": 6,
   "id": "c3ec7e27",
   "metadata": {},
   "outputs": [],
   "source": [
    "ff = FeedForward( GPT_CONFIG_124M )"
   ]
  },
  {
   "cell_type": "code",
   "execution_count": 16,
   "id": "260c5f7e",
   "metadata": {},
   "outputs": [],
   "source": [
    "input = torch.randn( 3, 4, 768 )"
   ]
  },
  {
   "cell_type": "code",
   "execution_count": 17,
   "id": "840ee203",
   "metadata": {},
   "outputs": [
    {
     "data": {
      "text/plain": [
       "torch.Size([3, 4, 768])"
      ]
     },
     "execution_count": 17,
     "metadata": {},
     "output_type": "execute_result"
    }
   ],
   "source": [
    "input.shape"
   ]
  },
  {
   "cell_type": "code",
   "execution_count": 18,
   "id": "8724d2ca",
   "metadata": {},
   "outputs": [
    {
     "data": {
      "text/plain": [
       "tensor([[[-0.2870,  0.7796, -0.7771,  ...,  1.7675,  1.8325,  0.5533],\n",
       "         [ 0.1195, -2.3766, -0.1168,  ..., -2.3687, -1.2073,  1.0442],\n",
       "         [-0.2396,  0.4309, -0.2816,  ...,  1.0989,  1.2649,  0.2766],\n",
       "         [-0.4581,  1.5925,  0.2930,  ..., -0.2397, -0.3849, -0.3977]],\n",
       "\n",
       "        [[ 0.7581, -0.9504, -0.2990,  ...,  0.8219, -0.9427,  0.0995],\n",
       "         [ 1.0189, -0.0502, -2.3815,  ..., -0.7028, -0.3381,  0.9931],\n",
       "         [ 0.8898, -0.6445,  0.0743,  ...,  0.8665,  1.0166,  3.1018],\n",
       "         [-0.9737,  1.1691,  0.1148,  ...,  1.1822, -0.9717,  0.2131]],\n",
       "\n",
       "        [[ 0.7425, -0.4969,  0.5585,  ...,  0.1093,  0.4270, -0.6889],\n",
       "         [ 1.1036, -0.1694, -1.0940,  ..., -0.0278,  1.4463,  0.2761],\n",
       "         [ 1.1362,  1.4879, -1.4161,  ..., -1.5167,  0.7745, -0.5070],\n",
       "         [-1.7635,  0.2199, -0.9448,  ..., -0.3491, -0.7865, -0.5740]]])"
      ]
     },
     "execution_count": 18,
     "metadata": {},
     "output_type": "execute_result"
    }
   ],
   "source": [
    "input"
   ]
  },
  {
   "cell_type": "code",
   "execution_count": 19,
   "id": "02d3e8aa",
   "metadata": {},
   "outputs": [],
   "source": [
    "output = ff( input )"
   ]
  },
  {
   "cell_type": "code",
   "execution_count": 20,
   "id": "0d5869ca",
   "metadata": {},
   "outputs": [
    {
     "data": {
      "text/plain": [
       "torch.Size([3, 4, 768])"
      ]
     },
     "execution_count": 20,
     "metadata": {},
     "output_type": "execute_result"
    }
   ],
   "source": [
    "output.shape"
   ]
  },
  {
   "cell_type": "code",
   "execution_count": 21,
   "id": "ced27e3f",
   "metadata": {},
   "outputs": [
    {
     "data": {
      "text/plain": [
       "tensor([[[ 0.0598,  0.3697, -0.1852,  ..., -0.0229,  0.3158,  0.1028],\n",
       "         [ 0.1493,  0.0107, -0.0634,  ..., -0.0833,  0.2734,  0.0432],\n",
       "         [ 0.1720, -0.1238, -0.0281,  ..., -0.4287,  0.1268, -0.3343],\n",
       "         [-0.0652, -0.0863,  0.2504,  ...,  0.0721,  0.1843,  0.0671]],\n",
       "\n",
       "        [[-0.0446,  0.0477,  0.1705,  ..., -0.1635,  0.1314,  0.2709],\n",
       "         [ 0.3319, -0.3284, -0.2539,  ..., -0.1909, -0.3113, -0.1813],\n",
       "         [-0.0656, -0.1042, -0.1510,  ..., -0.3866,  0.0474, -0.3870],\n",
       "         [-0.0093, -0.0023,  0.2439,  ...,  0.0949,  0.0429,  0.0032]],\n",
       "\n",
       "        [[ 0.2431,  0.1199, -0.1315,  ...,  0.0235,  0.0798, -0.2464],\n",
       "         [ 0.1190, -0.1328, -0.0661,  ..., -0.1330,  0.1880, -0.2039],\n",
       "         [ 0.2175, -0.0821, -0.0230,  ..., -0.0782,  0.1226,  0.0551],\n",
       "         [-0.0900,  0.0584,  0.0264,  ...,  0.1051, -0.1146, -0.1833]]],\n",
       "       grad_fn=<ViewBackward0>)"
      ]
     },
     "execution_count": 21,
     "metadata": {},
     "output_type": "execute_result"
    }
   ],
   "source": [
    "output"
   ]
  },
  {
   "cell_type": "code",
   "execution_count": 22,
   "id": "55c60e84",
   "metadata": {},
   "outputs": [],
   "source": [
    "output = ff( output )"
   ]
  },
  {
   "cell_type": "code",
   "execution_count": 23,
   "id": "414e1dbb",
   "metadata": {},
   "outputs": [
    {
     "data": {
      "text/plain": [
       "torch.Size([3, 4, 768])"
      ]
     },
     "execution_count": 23,
     "metadata": {},
     "output_type": "execute_result"
    }
   ],
   "source": [
    "output.shape"
   ]
  },
  {
   "cell_type": "code",
   "execution_count": null,
   "id": "af6d668c",
   "metadata": {},
   "outputs": [],
   "source": []
  }
 ],
 "metadata": {
  "kernelspec": {
   "display_name": "Python 3 (ipykernel)",
   "language": "python",
   "name": "python3"
  },
  "language_info": {
   "codemirror_mode": {
    "name": "ipython",
    "version": 3
   },
   "file_extension": ".py",
   "mimetype": "text/x-python",
   "name": "python",
   "nbconvert_exporter": "python",
   "pygments_lexer": "ipython3",
   "version": "3.10.12"
  }
 },
 "nbformat": 4,
 "nbformat_minor": 5
}
