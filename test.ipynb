{
  "nbformat": 4,
  "nbformat_minor": 0,
  "metadata": {
    "colab": {
      "provenance": [],
      "authorship_tag": "ABX9TyPhaCmRkioktLTAzTEcxxFq",
      "include_colab_link": true
    },
    "kernelspec": {
      "name": "python3",
      "display_name": "Python 3"
    },
    "language_info": {
      "name": "python"
    }
  },
  "cells": [
    {
      "cell_type": "markdown",
      "metadata": {
        "id": "view-in-github",
        "colab_type": "text"
      },
      "source": [
        "<a href=\"https://colab.research.google.com/github/mbrudd/LLMs/blob/main/test.ipynb\" target=\"_parent\"><img src=\"https://colab.research.google.com/assets/colab-badge.svg\" alt=\"Open In Colab\"/></a>"
      ]
    },
    {
      "cell_type": "code",
      "execution_count": 2,
      "metadata": {
        "id": "ssEOz2zw4snD"
      },
      "outputs": [],
      "source": [
        "import random"
      ]
    },
    {
      "cell_type": "code",
      "source": [
        "numbers = [ random.randint(1,40) for i in range(30)]"
      ],
      "metadata": {
        "id": "JR8Sj-NR4vsS"
      },
      "execution_count": 3,
      "outputs": []
    },
    {
      "cell_type": "code",
      "source": [
        "numbers"
      ],
      "metadata": {
        "id": "d3MsVgfn42A5",
        "outputId": "a95b9955-9f13-4780-95f4-43a40abdc70c",
        "colab": {
          "base_uri": "https://localhost:8080/"
        }
      },
      "execution_count": 4,
      "outputs": [
        {
          "output_type": "execute_result",
          "data": {
            "text/plain": [
              "[34,\n",
              " 15,\n",
              " 38,\n",
              " 40,\n",
              " 18,\n",
              " 7,\n",
              " 11,\n",
              " 32,\n",
              " 12,\n",
              " 13,\n",
              " 34,\n",
              " 35,\n",
              " 2,\n",
              " 6,\n",
              " 8,\n",
              " 2,\n",
              " 12,\n",
              " 21,\n",
              " 24,\n",
              " 1,\n",
              " 13,\n",
              " 4,\n",
              " 22,\n",
              " 6,\n",
              " 14,\n",
              " 16,\n",
              " 11,\n",
              " 25,\n",
              " 38,\n",
              " 10]"
            ]
          },
          "metadata": {},
          "execution_count": 4
        }
      ]
    },
    {
      "cell_type": "code",
      "source": [],
      "metadata": {
        "id": "FOPxq0oI43EI"
      },
      "execution_count": null,
      "outputs": []
    }
  ]
}