{
 "cells": [
  {
   "cell_type": "code",
   "execution_count": 1,
   "id": "a5cfd35b",
   "metadata": {},
   "outputs": [],
   "source": [
    "import torch\n",
    "import tiktoken"
   ]
  },
  {
   "cell_type": "code",
   "execution_count": 2,
   "id": "d4b56bad",
   "metadata": {},
   "outputs": [
    {
     "data": {
      "text/plain": [
       "'ABOUT fifteen years ago, on a date late in August '"
      ]
     },
     "execution_count": 2,
     "metadata": {},
     "output_type": "execute_result"
    }
   ],
   "source": [
    "with open( \"humphreys.txt\", \"r\" ) as f:\n",
    "    raw_text = f.read()\n",
    "\n",
    "raw_text[:50]"
   ]
  },
  {
   "cell_type": "code",
   "execution_count": 3,
   "id": "6308daeb",
   "metadata": {},
   "outputs": [],
   "source": [
    "tokenizer = tiktoken.get_encoding(\"gpt2\")"
   ]
  },
  {
   "cell_type": "code",
   "execution_count": 4,
   "id": "72db6aad",
   "metadata": {},
   "outputs": [],
   "source": [
    "enc_text = tokenizer.encode(raw_text)"
   ]
  },
  {
   "cell_type": "code",
   "execution_count": 5,
   "id": "8ac8088d",
   "metadata": {},
   "outputs": [
    {
     "name": "stdout",
     "output_type": "stream",
     "text": [
      "[6242, 12425, 17280, 812, 2084, 11, 319, 257, 3128, 2739, 287, 2932, 393, 1903, 287, 2693, 11, 257, 4512, 9859]\n"
     ]
    }
   ],
   "source": [
    "print(enc_text[:20])"
   ]
  },
  {
   "cell_type": "code",
   "execution_count": 6,
   "id": "f6d69ffc",
   "metadata": {},
   "outputs": [
    {
     "name": "stdout",
     "output_type": "stream",
     "text": [
      "ABOUT\n"
     ]
    }
   ],
   "source": [
    "print( tokenizer.decode( enc_text[:2]))"
   ]
  },
  {
   "cell_type": "code",
   "execution_count": 7,
   "id": "1a834191",
   "metadata": {},
   "outputs": [
    {
     "data": {
      "text/plain": [
       "14643"
      ]
     },
     "execution_count": 7,
     "metadata": {},
     "output_type": "execute_result"
    }
   ],
   "source": [
    "len( enc_text)"
   ]
  },
  {
   "cell_type": "code",
   "execution_count": 8,
   "id": "85bc9f99",
   "metadata": {},
   "outputs": [
    {
     "name": "stdout",
     "output_type": "stream",
     "text": [
      "Input: AB Target: OUT\n",
      "Input: ABOUT Target:  fifteen\n",
      "Input: ABOUT fifteen Target:  years\n",
      "Input: ABOUT fifteen years Target:  ago\n",
      "Input: ABOUT fifteen years ago Target: ,\n",
      "Input: ABOUT fifteen years ago, Target:  on\n",
      "Input: ABOUT fifteen years ago, on Target:  a\n",
      "Input: ABOUT fifteen years ago, on a Target:  date\n",
      "Input: ABOUT fifteen years ago, on a date Target:  late\n"
     ]
    }
   ],
   "source": [
    "for i in range(1,10):\n",
    "    print(\"Input:\", tokenizer.decode(enc_text[:i]), \"Target:\", tokenizer.decode([enc_text[i]]))"
   ]
  },
  {
   "cell_type": "code",
   "execution_count": 9,
   "id": "8af40fbb",
   "metadata": {},
   "outputs": [],
   "source": [
    "from torch.utils.data import Dataset, DataLoader\n",
    "\n",
    "\n",
    "class GPTDatasetV1(Dataset):\n",
    "    def __init__(self, txt, tokenizer, max_length, stride):\n",
    "        self.input_ids = []\n",
    "        self.target_ids = []\n",
    "\n",
    "        # Tokenize the entire text\n",
    "        token_ids = tokenizer.encode(txt, allowed_special={\"<|endoftext|>\"})\n",
    "        assert len(token_ids) > max_length, \"Number of tokenized inputs must at least be equal to max_length+1\"\n",
    "\n",
    "        # Use a sliding window to chunk the book into overlapping sequences of max_length\n",
    "        for i in range(0, len(token_ids) - max_length, stride):\n",
    "            input_chunk = token_ids[i:i + max_length]\n",
    "            target_chunk = token_ids[i + 1: i + max_length + 1]\n",
    "            self.input_ids.append(torch.tensor(input_chunk))\n",
    "            self.target_ids.append(torch.tensor(target_chunk))\n",
    "\n",
    "    def __len__(self):\n",
    "        return len(self.input_ids)\n",
    "\n",
    "    def __getitem__(self, idx):\n",
    "        return self.input_ids[idx], self.target_ids[idx]"
   ]
  },
  {
   "cell_type": "code",
   "execution_count": 10,
   "id": "4d7782f9",
   "metadata": {},
   "outputs": [],
   "source": [
    "def create_dataloader_v1(txt, batch_size=4, max_length=256, \n",
    "                         stride=128, shuffle=True, drop_last=True,\n",
    "                         num_workers=0):\n",
    "\n",
    "    # Initialize the tokenizer\n",
    "    tokenizer = tiktoken.get_encoding(\"gpt2\")\n",
    "\n",
    "    # Create dataset\n",
    "    dataset = GPTDatasetV1(txt, tokenizer, max_length, stride)\n",
    "\n",
    "    # Create dataloader\n",
    "    dataloader = DataLoader(\n",
    "        dataset,\n",
    "        batch_size=batch_size,\n",
    "        shuffle=shuffle,\n",
    "        drop_last=drop_last,\n",
    "        num_workers=num_workers\n",
    "    )\n",
    "\n",
    "    return dataloader"
   ]
  },
  {
   "cell_type": "code",
   "execution_count": 11,
   "id": "e3d9d245",
   "metadata": {},
   "outputs": [
    {
     "name": "stdout",
     "output_type": "stream",
     "text": [
      "Inputs:\n",
      " tensor([[ 6242, 12425, 17280,   812],\n",
      "        [ 2084,    11,   319,   257],\n",
      "        [ 3128,  2739,   287,  2932],\n",
      "        [  393,  1903,   287,  2693],\n",
      "        [   11,   257,  4512,  9859],\n",
      "        [  510,   379,  5187,   301],\n",
      "        [17899,   431,    11,   257],\n",
      "        [ 1499,  4429,   287,  8345]])\n",
      "\n",
      "Targets:\n",
      " tensor([[12425, 17280,   812,  2084],\n",
      "        [   11,   319,   257,  3128],\n",
      "        [ 2739,   287,  2932,   393],\n",
      "        [ 1903,   287,  2693,    11],\n",
      "        [  257,  4512,  9859,   510],\n",
      "        [  379,  5187,   301, 17899],\n",
      "        [  431,    11,   257,  1499],\n",
      "        [ 4429,   287,  8345,  4492]])\n"
     ]
    }
   ],
   "source": [
    "dataloader = create_dataloader_v1(raw_text, batch_size=8, max_length=4, stride=4, shuffle=False)\n",
    "\n",
    "data_iter = iter(dataloader)\n",
    "inputs, targets = next(data_iter)\n",
    "print(\"Inputs:\\n\", inputs)\n",
    "print(\"\\nTargets:\\n\", targets)"
   ]
  },
  {
   "cell_type": "code",
   "execution_count": 13,
   "id": "257b0d8b",
   "metadata": {},
   "outputs": [
    {
     "name": "stdout",
     "output_type": "stream",
     "text": [
      "ABOUT fifteen years\n",
      " ago, on a\n",
      " date late in August\n",
      " or early in September\n",
      ", a train drew\n",
      " up at Wilst\n",
      "horpe, a\n",
      " country station in Eastern\n"
     ]
    }
   ],
   "source": [
    "# to apply the tokenizer's decoder to these IDs, the rows of the tensor `inputs` have to be converted into lists:\n",
    "for row in inputs:\n",
    "    print( tokenizer.decode( row.tolist() ) )"
   ]
  },
  {
   "cell_type": "code",
   "execution_count": 15,
   "id": "e72c0c82",
   "metadata": {},
   "outputs": [
    {
     "name": "stdout",
     "output_type": "stream",
     "text": [
      "Parameter containing:\n",
      "tensor([[ 1.2456,  0.5841,  0.7223],\n",
      "        [-2.7521,  0.1307, -0.4288],\n",
      "        [-0.1844, -0.2347, -0.7426],\n",
      "        [-0.5396, -0.8305,  1.2291],\n",
      "        [ 0.1089,  0.2475, -0.9558],\n",
      "        [-0.6353, -0.7698, -1.2909]], requires_grad=True)\n"
     ]
    }
   ],
   "source": [
    "# we don't send these IDs to the LLM for training; we associate a vector a.k.a. tensor with each ID and then train the LLM on the vectors\n",
    "# as a first example, let's create embedding vectors of length 3 for each token in a vocabulary of 6 tokens\n",
    "vocab_size = 6\n",
    "output_dim = 3\n",
    "embedding = torch.nn.Embedding( vocab_size, output_dim )\n",
    "print(embedding.weight)"
   ]
  },
  {
   "cell_type": "code",
   "execution_count": null,
   "id": "6cc495c8",
   "metadata": {},
   "outputs": [
    {
     "data": {
      "text/plain": [
       "tensor([[ 1.2456,  0.5841,  0.7223],\n",
       "        [-2.7521,  0.1307, -0.4288],\n",
       "        [-0.1844, -0.2347, -0.7426],\n",
       "        [-0.5396, -0.8305,  1.2291],\n",
       "        [ 0.1089,  0.2475, -0.9558],\n",
       "        [-0.6353, -0.7698, -1.2909]])"
      ]
     },
     "execution_count": 16,
     "metadata": {},
     "output_type": "execute_result"
    }
   ],
   "source": [
    "# if you just want the tensor part of this without the requires_grad=True bit\n",
    "# method 1:\n",
    "embedding.weight.data"
   ]
  },
  {
   "cell_type": "code",
   "execution_count": 17,
   "id": "05560bd8",
   "metadata": {},
   "outputs": [
    {
     "data": {
      "text/plain": [
       "tensor([[ 1.2456,  0.5841,  0.7223],\n",
       "        [-2.7521,  0.1307, -0.4288],\n",
       "        [-0.1844, -0.2347, -0.7426],\n",
       "        [-0.5396, -0.8305,  1.2291],\n",
       "        [ 0.1089,  0.2475, -0.9558],\n",
       "        [-0.6353, -0.7698, -1.2909]])"
      ]
     },
     "execution_count": 17,
     "metadata": {},
     "output_type": "execute_result"
    }
   ],
   "source": [
    "# if you just want the tensor part of this without the requires_grad=True bit\n",
    "# method 1:\n",
    "embedding.weight.detach()"
   ]
  },
  {
   "cell_type": "code",
   "execution_count": 18,
   "id": "a99ca479",
   "metadata": {},
   "outputs": [],
   "source": [
    "# call this A for some examples:\n",
    "A = embedding.weight.detach()"
   ]
  },
  {
   "cell_type": "code",
   "execution_count": 19,
   "id": "ab1f9b2b",
   "metadata": {},
   "outputs": [
    {
     "data": {
      "text/plain": [
       "tensor([1.2456, 0.5841, 0.7223])"
      ]
     },
     "execution_count": 19,
     "metadata": {},
     "output_type": "execute_result"
    }
   ],
   "source": [
    "# first row:\n",
    "A[0]"
   ]
  },
  {
   "cell_type": "code",
   "execution_count": 20,
   "id": "5ce66031",
   "metadata": {},
   "outputs": [
    {
     "data": {
      "text/plain": [
       "tensor([-2.7521,  0.1307, -0.4288])"
      ]
     },
     "execution_count": 20,
     "metadata": {},
     "output_type": "execute_result"
    }
   ],
   "source": [
    "# second row:\n",
    "A[1]"
   ]
  },
  {
   "cell_type": "code",
   "execution_count": 21,
   "id": "8d8a0df8",
   "metadata": {},
   "outputs": [
    {
     "data": {
      "text/plain": [
       "tensor([ 1.2456, -2.7521, -0.1844, -0.5396,  0.1089, -0.6353])"
      ]
     },
     "execution_count": 21,
     "metadata": {},
     "output_type": "execute_result"
    }
   ],
   "source": [
    "# first column:\n",
    "A[:,0]"
   ]
  },
  {
   "cell_type": "code",
   "execution_count": 22,
   "id": "c189160c",
   "metadata": {},
   "outputs": [
    {
     "data": {
      "text/plain": [
       "tensor(-0.4288)"
      ]
     },
     "execution_count": 22,
     "metadata": {},
     "output_type": "execute_result"
    }
   ],
   "source": [
    "# element in row 2, column 3:\n",
    "A[1,2]"
   ]
  },
  {
   "cell_type": "code",
   "execution_count": 26,
   "id": "7cd357b1",
   "metadata": {},
   "outputs": [
    {
     "name": "stdout",
     "output_type": "stream",
     "text": [
      "tensor([1.2000, 2.1000])\n",
      "tensor([2.7000, 1.5000])\n"
     ]
    }
   ],
   "source": [
    "# to create a tensor directly:\n",
    "x = torch.tensor([1.2,2.1])\n",
    "y = torch.tensor([2.7,1.5])\n",
    "print(x) \n",
    "print(y)"
   ]
  },
  {
   "cell_type": "code",
   "execution_count": 27,
   "id": "5b663cb7",
   "metadata": {},
   "outputs": [
    {
     "data": {
      "text/plain": [
       "tensor(6.3900)"
      ]
     },
     "execution_count": 27,
     "metadata": {},
     "output_type": "execute_result"
    }
   ],
   "source": [
    "torch.dot( x,y)"
   ]
  },
  {
   "cell_type": "code",
   "execution_count": 28,
   "id": "823b60fb",
   "metadata": {},
   "outputs": [
    {
     "data": {
      "text/plain": [
       "6.390000000000001"
      ]
     },
     "execution_count": 28,
     "metadata": {},
     "output_type": "execute_result"
    }
   ],
   "source": [
    "# check:\n",
    "1.2*2.7 + 2.1*1.5"
   ]
  },
  {
   "cell_type": "code",
   "execution_count": null,
   "id": "d5f63f42",
   "metadata": {},
   "outputs": [],
   "source": []
  }
 ],
 "metadata": {
  "kernelspec": {
   "display_name": "Python 3",
   "language": "python",
   "name": "python3"
  },
  "language_info": {
   "codemirror_mode": {
    "name": "ipython",
    "version": 3
   },
   "file_extension": ".py",
   "mimetype": "text/x-python",
   "name": "python",
   "nbconvert_exporter": "python",
   "pygments_lexer": "ipython3",
   "version": "3.10.12"
  }
 },
 "nbformat": 4,
 "nbformat_minor": 5
}
