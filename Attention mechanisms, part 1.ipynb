{
 "cells": [
  {
   "cell_type": "code",
   "execution_count": 2,
   "id": "ecb13cc5",
   "metadata": {},
   "outputs": [],
   "source": [
    "import torch\n",
    "import tiktoken"
   ]
  },
  {
   "cell_type": "code",
   "execution_count": 3,
   "id": "069ae6cb",
   "metadata": {},
   "outputs": [],
   "source": [
    "raw_text = \"This is my dog Hazel\""
   ]
  },
  {
   "cell_type": "code",
   "execution_count": 5,
   "id": "753b5d90",
   "metadata": {},
   "outputs": [],
   "source": [
    "tokenizer = tiktoken.get_encoding(\"gpt2\")"
   ]
  },
  {
   "cell_type": "code",
   "execution_count": 6,
   "id": "e4f3c0f1",
   "metadata": {},
   "outputs": [
    {
     "name": "stdout",
     "output_type": "stream",
     "text": [
      "[1212, 318, 616, 3290, 42805]\n"
     ]
    }
   ],
   "source": [
    "enc_text = tokenizer.encode( raw_text )\n",
    "print(enc_text)"
   ]
  },
  {
   "cell_type": "code",
   "execution_count": 7,
   "id": "3cff8e5c",
   "metadata": {},
   "outputs": [
    {
     "name": "stdout",
     "output_type": "stream",
     "text": [
      "Parameter containing:\n",
      "tensor([[ 0.3914, -0.7047, -0.3112,  0.0725],\n",
      "        [-0.8383,  2.0826, -1.3546, -0.7066],\n",
      "        [-0.5931, -0.6351, -0.7820,  1.4764],\n",
      "        [ 1.2772, -0.1829, -0.3945,  0.1175],\n",
      "        [ 0.8090,  0.2978, -1.1922, -1.4292]], requires_grad=True)\n"
     ]
    }
   ],
   "source": [
    "vocab_size = 5\n",
    "output_dim = 4\n",
    "inputs = torch.nn.Embedding( vocab_size, output_dim )\n",
    "print( inputs.weight )"
   ]
  },
  {
   "cell_type": "code",
   "execution_count": 8,
   "id": "14fa604c",
   "metadata": {},
   "outputs": [
    {
     "data": {
      "text/plain": [
       "tensor([[ 0.3914, -0.7047, -0.3112,  0.0725],\n",
       "        [-0.8383,  2.0826, -1.3546, -0.7066],\n",
       "        [-0.5931, -0.6351, -0.7820,  1.4764],\n",
       "        [ 1.2772, -0.1829, -0.3945,  0.1175],\n",
       "        [ 0.8090,  0.2978, -1.1922, -1.4292]])"
      ]
     },
     "execution_count": 8,
     "metadata": {},
     "output_type": "execute_result"
    }
   ],
   "source": [
    "inputs = inputs.weight.data \n",
    "inputs"
   ]
  },
  {
   "cell_type": "code",
   "execution_count": 10,
   "id": "f48673aa",
   "metadata": {},
   "outputs": [
    {
     "data": {
      "text/plain": [
       "torch.Size([5, 4])"
      ]
     },
     "execution_count": 10,
     "metadata": {},
     "output_type": "execute_result"
    }
   ],
   "source": [
    "inputs.shape"
   ]
  },
  {
   "cell_type": "code",
   "execution_count": 12,
   "id": "52ecd8a2",
   "metadata": {},
   "outputs": [
    {
     "name": "stdout",
     "output_type": "stream",
     "text": [
      "[0.391354501247406, -0.7046935558319092, -0.3112082779407501, 0.072487972676754]\n",
      "[-0.8383475542068481, 2.0826263427734375, -1.3546010255813599, -0.7066236138343811]\n",
      "[-0.5930670499801636, -0.6350643634796143, -0.7820141911506653, 1.4764204025268555]\n",
      "[1.2771680355072021, -0.18288226425647736, -0.3944859802722931, 0.11750861257314682]\n",
      "[0.808978259563446, 0.2978053390979767, -1.192151665687561, -1.4292271137237549]\n"
     ]
    }
   ],
   "source": [
    "for row in inputs:\n",
    "    print(row.tolist())"
   ]
  },
  {
   "cell_type": "code",
   "execution_count": 13,
   "id": "744ab807",
   "metadata": {},
   "outputs": [],
   "source": [
    "x = torch.Tensor([1.1, 2.3])\n",
    "y = torch.Tensor([3.4,-2.1])\n"
   ]
  },
  {
   "cell_type": "code",
   "execution_count": 14,
   "id": "9969af72",
   "metadata": {},
   "outputs": [
    {
     "data": {
      "text/plain": [
       "-1.0899999999999999"
      ]
     },
     "execution_count": 14,
     "metadata": {},
     "output_type": "execute_result"
    }
   ],
   "source": [
    "1.1*3.4 + 2.3*(-2.1)"
   ]
  },
  {
   "cell_type": "code",
   "execution_count": 15,
   "id": "3d0bd2e7",
   "metadata": {},
   "outputs": [
    {
     "data": {
      "text/plain": [
       "tensor(-1.0900)"
      ]
     },
     "execution_count": 15,
     "metadata": {},
     "output_type": "execute_result"
    }
   ],
   "source": [
    "torch.dot( x, y)"
   ]
  },
  {
   "cell_type": "code",
   "execution_count": 16,
   "id": "ff8ed3cb",
   "metadata": {},
   "outputs": [
    {
     "name": "stdout",
     "output_type": "stream",
     "text": [
      "tensor([-0.5931, -0.6351, -0.7820,  1.4764])\n"
     ]
    }
   ],
   "source": [
    "query = inputs[2]\n",
    "print(query)"
   ]
  },
  {
   "cell_type": "code",
   "execution_count": 17,
   "id": "ec8044f6",
   "metadata": {},
   "outputs": [
    {
     "name": "stdout",
     "output_type": "stream",
     "text": [
      "tensor(0.5658)\n",
      "tensor(-0.8094)\n",
      "tensor(3.5464)\n",
      "tensor(-0.1593)\n",
      "tensor(-1.8468)\n"
     ]
    }
   ],
   "source": [
    "for i in range( len( inputs )):\n",
    "    print( torch.dot( query, inputs[i] ) )"
   ]
  },
  {
   "cell_type": "code",
   "execution_count": 21,
   "id": "8bc61b29",
   "metadata": {},
   "outputs": [
    {
     "name": "stdout",
     "output_type": "stream",
     "text": [
      "tensor([ 0.5658, -0.8094,  3.5464, -0.1593, -1.8468])\n"
     ]
    }
   ],
   "source": [
    "attention_scores_2 = torch.zeros( len(inputs) )\n",
    "for i in range( len( inputs )):\n",
    "    attention_scores_2[i] = torch.dot( query, inputs[i] )\n",
    "print( attention_scores_2)"
   ]
  },
  {
   "cell_type": "code",
   "execution_count": 23,
   "id": "2ea28496",
   "metadata": {},
   "outputs": [],
   "source": [
    "# normalize the attention scores using the softmax function:\n",
    "# def softmax(x):\n",
    "#     torch.exp(x) / torch.exp(x).sum()"
   ]
  },
  {
   "cell_type": "code",
   "execution_count": 29,
   "id": "13bb65e2",
   "metadata": {},
   "outputs": [
    {
     "data": {
      "text/plain": [
       "tensor([0.1591, 0.1537, 0.3793, 0.1554, 0.1525])"
      ]
     },
     "execution_count": 29,
     "metadata": {},
     "output_type": "execute_result"
    }
   ],
   "source": [
    "attention_scores_2 = torch.softmax( attention_scores_2, dim = 0 )\n",
    "attention_scores_2"
   ]
  },
  {
   "cell_type": "code",
   "execution_count": 30,
   "id": "99231a39",
   "metadata": {},
   "outputs": [
    {
     "data": {
      "text/plain": [
       "tensor(1.0000)"
      ]
     },
     "execution_count": 30,
     "metadata": {},
     "output_type": "execute_result"
    }
   ],
   "source": [
    "attention_scores_2.sum()"
   ]
  },
  {
   "cell_type": "code",
   "execution_count": 31,
   "id": "4281d09e",
   "metadata": {},
   "outputs": [
    {
     "data": {
      "text/plain": [
       "tensor([ 0.0303, -0.0159, -0.7975,  0.2632])"
      ]
     },
     "execution_count": 31,
     "metadata": {},
     "output_type": "execute_result"
    }
   ],
   "source": [
    "context_vector_2 = torch.zeros( query.shape )\n",
    "for i in range( len( attention_scores_2 ) ):\n",
    "    context_vector_2 += attention_scores_2[i]*inputs[i] \n",
    "context_vector_2"
   ]
  },
  {
   "cell_type": "code",
   "execution_count": null,
   "id": "5fef4190",
   "metadata": {},
   "outputs": [],
   "source": []
  }
 ],
 "metadata": {
  "kernelspec": {
   "display_name": "Python 3 (ipykernel)",
   "language": "python",
   "name": "python3"
  },
  "language_info": {
   "codemirror_mode": {
    "name": "ipython",
    "version": 3
   },
   "file_extension": ".py",
   "mimetype": "text/x-python",
   "name": "python",
   "nbconvert_exporter": "python",
   "pygments_lexer": "ipython3",
   "version": "3.10.12"
  }
 },
 "nbformat": 4,
 "nbformat_minor": 5
}
