{
  "cells": [
    {
      "cell_type": "markdown",
      "metadata": {
        "id": "view-in-github",
        "colab_type": "text"
      },
      "source": [
        "<a href=\"https://colab.research.google.com/github/mbrudd/LLMs/blob/main/.ipynb_checkpoints/Attention%20mechanisms%2C%20part%201-checkpoint.ipynb\" target=\"_parent\"><img src=\"https://colab.research.google.com/assets/colab-badge.svg\" alt=\"Open In Colab\"/></a>"
      ]
    },
    {
      "cell_type": "code",
      "execution_count": null,
      "id": "ecb13cc5",
      "metadata": {
        "id": "ecb13cc5"
      },
      "outputs": [],
      "source": [
        "import torch\n",
        "import tiktoken"
      ]
    },
    {
      "cell_type": "code",
      "execution_count": null,
      "id": "069ae6cb",
      "metadata": {
        "id": "069ae6cb"
      },
      "outputs": [],
      "source": [
        "raw_text = \"This is my dog Hazel\""
      ]
    },
    {
      "cell_type": "code",
      "execution_count": null,
      "id": "753b5d90",
      "metadata": {
        "id": "753b5d90"
      },
      "outputs": [],
      "source": [
        "tokenizer = tiktoken.get_encoding(\"gpt2\")"
      ]
    },
    {
      "cell_type": "code",
      "execution_count": null,
      "id": "e4f3c0f1",
      "metadata": {
        "colab": {
          "base_uri": "https://localhost:8080/"
        },
        "id": "e4f3c0f1",
        "outputId": "2a183945-f841-42d7-81b1-2cde73e069f0"
      },
      "outputs": [
        {
          "output_type": "stream",
          "name": "stdout",
          "text": [
            "[1212, 318, 616, 3290, 42805]\n"
          ]
        }
      ],
      "source": [
        "enc_text = tokenizer.encode( raw_text )\n",
        "print(enc_text)"
      ]
    },
    {
      "cell_type": "code",
      "execution_count": null,
      "id": "3cff8e5c",
      "metadata": {
        "colab": {
          "base_uri": "https://localhost:8080/"
        },
        "id": "3cff8e5c",
        "outputId": "7ad1406a-8c0f-4877-d9f7-bd4b382e7041"
      },
      "outputs": [
        {
          "output_type": "stream",
          "name": "stdout",
          "text": [
            "Parameter containing:\n",
            "tensor([[ 0.6078,  0.5842,  0.8049, -0.5765,  2.3375,  1.0910,  0.1613,  0.1589],\n",
            "        [ 0.6926,  0.4180, -0.9213, -0.7376,  2.2582,  0.5391, -0.1460,  0.1086],\n",
            "        [-1.1629,  0.3454, -0.2034, -0.4822, -0.6479,  0.8667, -0.1860, -0.7852],\n",
            "        [-0.8467,  1.8198, -0.1719, -0.1674, -0.0121, -0.7557, -0.8369,  0.9339]],\n",
            "       requires_grad=True)\n"
          ]
        }
      ],
      "source": [
        "vocab_size = 4\n",
        "output_dim = 8\n",
        "inputs = torch.nn.Embedding( vocab_size, output_dim )\n",
        "print( inputs.weight )"
      ]
    },
    {
      "cell_type": "code",
      "execution_count": null,
      "id": "14fa604c",
      "metadata": {
        "colab": {
          "base_uri": "https://localhost:8080/"
        },
        "id": "14fa604c",
        "outputId": "b0cb4244-9f4e-40a0-eb21-55bc127249b1"
      },
      "outputs": [
        {
          "output_type": "execute_result",
          "data": {
            "text/plain": [
              "tensor([[ 0.6078,  0.5842,  0.8049, -0.5765,  2.3375,  1.0910,  0.1613,  0.1589],\n",
              "        [ 0.6926,  0.4180, -0.9213, -0.7376,  2.2582,  0.5391, -0.1460,  0.1086],\n",
              "        [-1.1629,  0.3454, -0.2034, -0.4822, -0.6479,  0.8667, -0.1860, -0.7852],\n",
              "        [-0.8467,  1.8198, -0.1719, -0.1674, -0.0121, -0.7557, -0.8369,  0.9339]])"
            ]
          },
          "metadata": {},
          "execution_count": 7
        }
      ],
      "source": [
        "inputs = inputs.weight.data\n",
        "inputs"
      ]
    },
    {
      "cell_type": "code",
      "execution_count": null,
      "id": "f48673aa",
      "metadata": {
        "colab": {
          "base_uri": "https://localhost:8080/"
        },
        "id": "f48673aa",
        "outputId": "cf6b7585-4cdc-47a5-b619-c246ec0e555e"
      },
      "outputs": [
        {
          "output_type": "execute_result",
          "data": {
            "text/plain": [
              "torch.Size([4, 8])"
            ]
          },
          "metadata": {},
          "execution_count": 8
        }
      ],
      "source": [
        "inputs.shape"
      ]
    },
    {
      "cell_type": "code",
      "execution_count": null,
      "id": "52ecd8a2",
      "metadata": {
        "colab": {
          "base_uri": "https://localhost:8080/"
        },
        "id": "52ecd8a2",
        "outputId": "baccaa62-4117-4a48-d76a-a57cfc1f4ccb"
      },
      "outputs": [
        {
          "output_type": "stream",
          "name": "stdout",
          "text": [
            "[0.6078398823738098, 0.5842005610466003, 0.8049112558364868, -0.5765498280525208, 2.337498903274536, 1.0910053253173828, 0.16126438975334167, 0.15888425707817078]\n",
            "[0.6926334500312805, 0.41795268654823303, -0.921288251876831, -0.7376049160957336, 2.2582156658172607, 0.5391291975975037, -0.14602220058441162, 0.10855613648891449]\n",
            "[-1.1629329919815063, 0.3454475998878479, -0.20340225100517273, -0.4821770191192627, -0.647865891456604, 0.866673469543457, -0.18599539995193481, -0.7852029204368591]\n",
            "[-0.8467072248458862, 1.8198200464248657, -0.17190590500831604, -0.1674225926399231, -0.0120980991050601, -0.7557389140129089, -0.8369002342224121, 0.9339028596878052]\n"
          ]
        }
      ],
      "source": [
        "for row in inputs:\n",
        "    print(row.tolist())"
      ]
    },
    {
      "cell_type": "code",
      "execution_count": null,
      "id": "744ab807",
      "metadata": {
        "id": "744ab807"
      },
      "outputs": [],
      "source": [
        "x = torch.Tensor([1.1, 2.3])\n",
        "y = torch.Tensor([3.4,-2.1])\n"
      ]
    },
    {
      "cell_type": "code",
      "execution_count": null,
      "id": "9969af72",
      "metadata": {
        "colab": {
          "base_uri": "https://localhost:8080/"
        },
        "id": "9969af72",
        "outputId": "6ec80a37-61ad-40c0-c854-cce1af1e6983"
      },
      "outputs": [
        {
          "output_type": "execute_result",
          "data": {
            "text/plain": [
              "-1.0899999999999999"
            ]
          },
          "metadata": {},
          "execution_count": 11
        }
      ],
      "source": [
        "1.1*3.4 + 2.3*(-2.1)"
      ]
    },
    {
      "cell_type": "code",
      "execution_count": null,
      "id": "3d0bd2e7",
      "metadata": {
        "colab": {
          "base_uri": "https://localhost:8080/"
        },
        "id": "3d0bd2e7",
        "outputId": "8b833feb-bcb5-4b97-c1e4-fead41c174c5"
      },
      "outputs": [
        {
          "output_type": "execute_result",
          "data": {
            "text/plain": [
              "tensor(-1.0900)"
            ]
          },
          "metadata": {},
          "execution_count": 12
        }
      ],
      "source": [
        "torch.dot( x, y)"
      ]
    },
    {
      "cell_type": "code",
      "execution_count": null,
      "id": "ff8ed3cb",
      "metadata": {
        "colab": {
          "base_uri": "https://localhost:8080/"
        },
        "id": "ff8ed3cb",
        "outputId": "62771c4e-0fdf-41a5-dff6-970747f46f2d"
      },
      "outputs": [
        {
          "output_type": "stream",
          "name": "stdout",
          "text": [
            "tensor([-1.1629,  0.3454, -0.2034, -0.4822, -0.6479,  0.8667, -0.1860, -0.7852])\n"
          ]
        }
      ],
      "source": [
        "query = inputs[2]\n",
        "print(query)"
      ]
    },
    {
      "cell_type": "code",
      "execution_count": null,
      "id": "ec8044f6",
      "metadata": {
        "colab": {
          "base_uri": "https://localhost:8080/"
        },
        "id": "ec8044f6",
        "outputId": "0340f5ad-8456-4710-ee36-9c2adcea6eff"
      },
      "outputs": [
        {
          "output_type": "stream",
          "name": "stdout",
          "text": [
            "tensor(-1.1144)\n",
            "tensor(-1.1719)\n",
            "tensor(3.5676)\n",
            "tensor(0.5042)\n"
          ]
        }
      ],
      "source": [
        "for i in range( len( inputs )):\n",
        "    print( torch.dot( query, inputs[i] ) )"
      ]
    },
    {
      "cell_type": "code",
      "execution_count": null,
      "id": "8bc61b29",
      "metadata": {
        "colab": {
          "base_uri": "https://localhost:8080/"
        },
        "id": "8bc61b29",
        "outputId": "64c030eb-564d-490b-e944-6f30522d1e25"
      },
      "outputs": [
        {
          "output_type": "stream",
          "name": "stdout",
          "text": [
            "tensor([-1.1144, -1.1719,  3.5676,  0.5042])\n"
          ]
        }
      ],
      "source": [
        "attention_scores_2 = torch.zeros( len(inputs) )\n",
        "for i in range( len( inputs )):\n",
        "    attention_scores_2[i] = torch.dot( query, inputs[i] )\n",
        "print( attention_scores_2)"
      ]
    },
    {
      "cell_type": "code",
      "execution_count": null,
      "id": "2ea28496",
      "metadata": {
        "id": "2ea28496"
      },
      "outputs": [],
      "source": [
        "# normalize the attention scores using the softmax function:\n",
        "# def softmax(x):\n",
        "#     torch.exp(x) / torch.exp(x).sum()"
      ]
    },
    {
      "cell_type": "code",
      "execution_count": null,
      "id": "13bb65e2",
      "metadata": {
        "colab": {
          "base_uri": "https://localhost:8080/"
        },
        "id": "13bb65e2",
        "outputId": "0325af2d-e460-4140-a1f2-95715d37828b"
      },
      "outputs": [
        {
          "output_type": "execute_result",
          "data": {
            "text/plain": [
              "tensor([0.0087, 0.0082, 0.9392, 0.0439])"
            ]
          },
          "metadata": {},
          "execution_count": 17
        }
      ],
      "source": [
        "attention_weights_2 = torch.softmax( attention_scores_2, dim = 0 )\n",
        "attention_weights_2"
      ]
    },
    {
      "cell_type": "code",
      "execution_count": null,
      "id": "99231a39",
      "metadata": {
        "colab": {
          "base_uri": "https://localhost:8080/"
        },
        "id": "99231a39",
        "outputId": "bde00abe-878f-4405-9b7a-88fbf917b5e3"
      },
      "outputs": [
        {
          "output_type": "execute_result",
          "data": {
            "text/plain": [
              "tensor(1.)"
            ]
          },
          "metadata": {},
          "execution_count": 19
        }
      ],
      "source": [
        "attention_weights_2.sum()"
      ]
    },
    {
      "cell_type": "code",
      "execution_count": null,
      "id": "4281d09e",
      "metadata": {
        "colab": {
          "base_uri": "https://localhost:8080/"
        },
        "id": "4281d09e",
        "outputId": "8e9902dc-b871-4fe6-909d-2558641a7c39"
      },
      "outputs": [
        {
          "output_type": "execute_result",
          "data": {
            "text/plain": [
              "tensor([-1.1184,  0.4128, -0.1991, -0.4713, -0.5701,  0.7947, -0.2112, -0.6942])"
            ]
          },
          "metadata": {},
          "execution_count": 20
        }
      ],
      "source": [
        "context_vector_2 = torch.zeros( query.shape )\n",
        "for i in range( len( attention_weights_2 ) ):\n",
        "    context_vector_2 += attention_weights_2[i]*inputs[i]\n",
        "context_vector_2"
      ]
    },
    {
      "cell_type": "code",
      "source": [
        "inputs"
      ],
      "metadata": {
        "colab": {
          "base_uri": "https://localhost:8080/"
        },
        "id": "zU5taTSbgnn_",
        "outputId": "75e43a3f-208a-4613-b3db-e329e112382b"
      },
      "id": "zU5taTSbgnn_",
      "execution_count": null,
      "outputs": [
        {
          "output_type": "execute_result",
          "data": {
            "text/plain": [
              "tensor([[ 0.6078,  0.5842,  0.8049, -0.5765,  2.3375,  1.0910,  0.1613,  0.1589],\n",
              "        [ 0.6926,  0.4180, -0.9213, -0.7376,  2.2582,  0.5391, -0.1460,  0.1086],\n",
              "        [-1.1629,  0.3454, -0.2034, -0.4822, -0.6479,  0.8667, -0.1860, -0.7852],\n",
              "        [-0.8467,  1.8198, -0.1719, -0.1674, -0.0121, -0.7557, -0.8369,  0.9339]])"
            ]
          },
          "metadata": {},
          "execution_count": 23
        }
      ]
    },
    {
      "cell_type": "code",
      "source": [
        "inputs.T"
      ],
      "metadata": {
        "colab": {
          "base_uri": "https://localhost:8080/"
        },
        "id": "IFmdnq32gq50",
        "outputId": "311933cd-9058-4b55-a61e-6e66b41899d0"
      },
      "id": "IFmdnq32gq50",
      "execution_count": null,
      "outputs": [
        {
          "output_type": "execute_result",
          "data": {
            "text/plain": [
              "tensor([[ 0.6078,  0.6926, -1.1629, -0.8467],\n",
              "        [ 0.5842,  0.4180,  0.3454,  1.8198],\n",
              "        [ 0.8049, -0.9213, -0.2034, -0.1719],\n",
              "        [-0.5765, -0.7376, -0.4822, -0.1674],\n",
              "        [ 2.3375,  2.2582, -0.6479, -0.0121],\n",
              "        [ 1.0910,  0.5391,  0.8667, -0.7557],\n",
              "        [ 0.1613, -0.1460, -0.1860, -0.8369],\n",
              "        [ 0.1589,  0.1086, -0.7852,  0.9339]])"
            ]
          },
          "metadata": {},
          "execution_count": 24
        }
      ]
    },
    {
      "cell_type": "code",
      "execution_count": null,
      "id": "b099939f",
      "metadata": {
        "colab": {
          "base_uri": "https://localhost:8080/"
        },
        "id": "b099939f",
        "outputId": "c05d8eb9-a1b2-4ea3-f54f-30d2e63548f4"
      },
      "outputs": [
        {
          "output_type": "execute_result",
          "data": {
            "text/plain": [
              "tensor([[ 8.3965,  6.2094, -1.1144, -0.3327],\n",
              "        [ 6.2094,  7.4706, -1.1719,  0.2448],\n",
              "        [-1.1144, -1.1719,  3.5676,  0.5042],\n",
              "        [-0.3327,  0.2448,  0.5042,  6.2301]])"
            ]
          },
          "metadata": {},
          "execution_count": 21
        }
      ],
      "source": [
        "# get all of the attention scores via a matrix multiplication:\n",
        "attention_scores = inputs @ inputs.T\n",
        "attention_scores"
      ]
    },
    {
      "cell_type": "code",
      "source": [
        "attention_weights = torch.softmax( attention_scores, dim = -1 )\n",
        "attention_weights"
      ],
      "metadata": {
        "colab": {
          "base_uri": "https://localhost:8080/"
        },
        "id": "y63T3p7TgZvl",
        "outputId": "7abe81a3-4eb4-4597-eabe-16f805b80e42"
      },
      "id": "y63T3p7TgZvl",
      "execution_count": null,
      "outputs": [
        {
          "output_type": "execute_result",
          "data": {
            "text/plain": [
              "tensor([[8.9890e-01, 1.0089e-01, 6.6556e-05, 1.4543e-04],\n",
              "        [2.2061e-01, 7.7868e-01, 1.3740e-04, 5.6659e-04],\n",
              "        [8.6976e-03, 8.2114e-03, 9.3920e-01, 4.3888e-02],\n",
              "        [1.4018e-03, 2.4976e-03, 3.2372e-03, 9.9286e-01]])"
            ]
          },
          "metadata": {},
          "execution_count": 25
        }
      ]
    },
    {
      "cell_type": "code",
      "source": [
        "attention_weights[0].sum()"
      ],
      "metadata": {
        "colab": {
          "base_uri": "https://localhost:8080/"
        },
        "id": "Gl7K2gNAhGJx",
        "outputId": "b874b22f-f308-45a4-e2fe-112f72914fe7"
      },
      "id": "Gl7K2gNAhGJx",
      "execution_count": null,
      "outputs": [
        {
          "output_type": "execute_result",
          "data": {
            "text/plain": [
              "tensor(1.)"
            ]
          },
          "metadata": {},
          "execution_count": 26
        }
      ]
    },
    {
      "cell_type": "code",
      "source": [
        "context_vectors = attention_weights @ inputs\n",
        "context_vectors"
      ],
      "metadata": {
        "colab": {
          "base_uri": "https://localhost:8080/"
        },
        "id": "4JouXe6KhJVG",
        "outputId": "0b64b4b0-9fb7-4f68-c858-ea817b313a2d"
      },
      "id": "4JouXe6KhJVG",
      "execution_count": null,
      "outputs": [
        {
          "output_type": "execute_result",
          "data": {
            "text/plain": [
              "tensor([[ 0.6161,  0.5676,  0.6305, -0.5927,  2.3290,  1.0350,  0.1301,  0.1539],\n",
              "        [ 0.6728,  0.4554, -0.5399, -0.7017,  2.2740,  0.6602, -0.0786,  0.1200],\n",
              "        [-1.1184,  0.4128, -0.1991, -0.4713, -0.5701,  0.7947, -0.2112, -0.6942],\n",
              "        [-0.8418,  1.8098, -0.1725, -0.1704, -0.0052, -0.7447, -0.8317,  0.9252]])"
            ]
          },
          "metadata": {},
          "execution_count": 27
        }
      ]
    },
    {
      "cell_type": "code",
      "source": [],
      "metadata": {
        "id": "ik363mQchhgZ"
      },
      "id": "ik363mQchhgZ",
      "execution_count": null,
      "outputs": []
    }
  ],
  "metadata": {
    "kernelspec": {
      "display_name": "Python 3 (ipykernel)",
      "language": "python",
      "name": "python3"
    },
    "language_info": {
      "codemirror_mode": {
        "name": "ipython",
        "version": 3
      },
      "file_extension": ".py",
      "mimetype": "text/x-python",
      "name": "python",
      "nbconvert_exporter": "python",
      "pygments_lexer": "ipython3",
      "version": "3.10.12"
    },
    "colab": {
      "provenance": [],
      "include_colab_link": true
    }
  },
  "nbformat": 4,
  "nbformat_minor": 5
}