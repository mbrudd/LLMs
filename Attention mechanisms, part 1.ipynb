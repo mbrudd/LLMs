{
 "cells": [
  {
   "cell_type": "code",
   "execution_count": 1,
   "id": "ecb13cc5",
   "metadata": {},
   "outputs": [],
   "source": [
    "import torch\n",
    "import tiktoken"
   ]
  },
  {
   "cell_type": "code",
   "execution_count": 2,
   "id": "069ae6cb",
   "metadata": {},
   "outputs": [],
   "source": [
    "raw_text = \"This is my dog Hazel\""
   ]
  },
  {
   "cell_type": "code",
   "execution_count": 3,
   "id": "753b5d90",
   "metadata": {},
   "outputs": [],
   "source": [
    "tokenizer = tiktoken.get_encoding(\"gpt2\")"
   ]
  },
  {
   "cell_type": "code",
   "execution_count": 4,
   "id": "e4f3c0f1",
   "metadata": {},
   "outputs": [
    {
     "name": "stdout",
     "output_type": "stream",
     "text": [
      "[1212, 318, 616, 3290, 42805]\n"
     ]
    }
   ],
   "source": [
    "enc_text = tokenizer.encode( raw_text )\n",
    "print(enc_text)"
   ]
  },
  {
   "cell_type": "code",
   "execution_count": 5,
   "id": "3cff8e5c",
   "metadata": {},
   "outputs": [
    {
     "name": "stdout",
     "output_type": "stream",
     "text": [
      "Parameter containing:\n",
      "tensor([[ 5.5549e-01, -4.5127e-01, -2.8023e-01,  2.0503e+00],\n",
      "        [-9.6818e-01, -1.1042e+00,  1.8840e+00,  3.5029e-01],\n",
      "        [ 4.7728e-01, -8.3923e-01, -7.1929e-01, -5.2904e-01],\n",
      "        [-9.5396e-01,  1.0014e+00, -1.3068e-03, -1.8068e+00],\n",
      "        [-2.6922e+00, -6.0866e-01,  1.3370e+00, -1.0332e+00]],\n",
      "       requires_grad=True)\n"
     ]
    }
   ],
   "source": [
    "vocab_size = 5\n",
    "output_dim = 4\n",
    "inputs = torch.nn.Embedding( vocab_size, output_dim )\n",
    "print( inputs.weight )"
   ]
  },
  {
   "cell_type": "code",
   "execution_count": 6,
   "id": "14fa604c",
   "metadata": {},
   "outputs": [
    {
     "data": {
      "text/plain": [
       "tensor([[ 5.5549e-01, -4.5127e-01, -2.8023e-01,  2.0503e+00],\n",
       "        [-9.6818e-01, -1.1042e+00,  1.8840e+00,  3.5029e-01],\n",
       "        [ 4.7728e-01, -8.3923e-01, -7.1929e-01, -5.2904e-01],\n",
       "        [-9.5396e-01,  1.0014e+00, -1.3068e-03, -1.8068e+00],\n",
       "        [-2.6922e+00, -6.0866e-01,  1.3370e+00, -1.0332e+00]])"
      ]
     },
     "execution_count": 6,
     "metadata": {},
     "output_type": "execute_result"
    }
   ],
   "source": [
    "inputs = inputs.weight.data \n",
    "inputs"
   ]
  },
  {
   "cell_type": "code",
   "execution_count": 7,
   "id": "f48673aa",
   "metadata": {},
   "outputs": [
    {
     "data": {
      "text/plain": [
       "torch.Size([5, 4])"
      ]
     },
     "execution_count": 7,
     "metadata": {},
     "output_type": "execute_result"
    }
   ],
   "source": [
    "inputs.shape"
   ]
  },
  {
   "cell_type": "code",
   "execution_count": 8,
   "id": "52ecd8a2",
   "metadata": {},
   "outputs": [
    {
     "name": "stdout",
     "output_type": "stream",
     "text": [
      "[0.5554900765419006, -0.45127108693122864, -0.2802272439002991, 2.050279140472412]\n",
      "[-0.9681820869445801, -1.104203701019287, 1.8840079307556152, 0.3502862751483917]\n",
      "[0.47727930545806885, -0.8392347097396851, -0.7192875742912292, -0.5290370583534241]\n",
      "[-0.9539591073989868, 1.0013759136199951, -0.0013067919062450528, -1.8068374395370483]\n",
      "[-2.692190170288086, -0.6086598038673401, 1.3370273113250732, -1.0331642627716064]\n"
     ]
    }
   ],
   "source": [
    "for row in inputs:\n",
    "    print(row.tolist())"
   ]
  },
  {
   "cell_type": "code",
   "execution_count": 9,
   "id": "744ab807",
   "metadata": {},
   "outputs": [],
   "source": [
    "x = torch.Tensor([1.1, 2.3])\n",
    "y = torch.Tensor([3.4,-2.1])\n"
   ]
  },
  {
   "cell_type": "code",
   "execution_count": 10,
   "id": "9969af72",
   "metadata": {},
   "outputs": [
    {
     "data": {
      "text/plain": [
       "-1.0899999999999999"
      ]
     },
     "execution_count": 10,
     "metadata": {},
     "output_type": "execute_result"
    }
   ],
   "source": [
    "1.1*3.4 + 2.3*(-2.1)"
   ]
  },
  {
   "cell_type": "code",
   "execution_count": 11,
   "id": "3d0bd2e7",
   "metadata": {},
   "outputs": [
    {
     "data": {
      "text/plain": [
       "tensor(-1.0900)"
      ]
     },
     "execution_count": 11,
     "metadata": {},
     "output_type": "execute_result"
    }
   ],
   "source": [
    "torch.dot( x, y)"
   ]
  },
  {
   "cell_type": "code",
   "execution_count": 12,
   "id": "ff8ed3cb",
   "metadata": {},
   "outputs": [
    {
     "name": "stdout",
     "output_type": "stream",
     "text": [
      "tensor([ 0.4773, -0.8392, -0.7193, -0.5290])\n"
     ]
    }
   ],
   "source": [
    "query = inputs[2]\n",
    "print(query)"
   ]
  },
  {
   "cell_type": "code",
   "execution_count": 13,
   "id": "ec8044f6",
   "metadata": {},
   "outputs": [
    {
     "name": "stdout",
     "output_type": "stream",
     "text": [
      "tensor(-0.2393)\n",
      "tensor(-1.0759)\n",
      "tensor(1.7294)\n",
      "tensor(-0.3389)\n",
      "tensor(-1.1892)\n"
     ]
    }
   ],
   "source": [
    "for i in range( len( inputs )):\n",
    "    print( torch.dot( query, inputs[i] ) )"
   ]
  },
  {
   "cell_type": "code",
   "execution_count": 14,
   "id": "8bc61b29",
   "metadata": {},
   "outputs": [
    {
     "name": "stdout",
     "output_type": "stream",
     "text": [
      "tensor([-0.2393, -1.0759,  1.7294, -0.3389, -1.1892])\n"
     ]
    }
   ],
   "source": [
    "attention_scores_2 = torch.zeros( len(inputs) )\n",
    "for i in range( len( inputs )):\n",
    "    attention_scores_2[i] = torch.dot( query, inputs[i] )\n",
    "print( attention_scores_2)"
   ]
  },
  {
   "cell_type": "code",
   "execution_count": 15,
   "id": "2ea28496",
   "metadata": {},
   "outputs": [],
   "source": [
    "# normalize the attention scores using the softmax function:\n",
    "# def softmax(x):\n",
    "#     torch.exp(x) / torch.exp(x).sum()"
   ]
  },
  {
   "cell_type": "code",
   "execution_count": 16,
   "id": "13bb65e2",
   "metadata": {},
   "outputs": [
    {
     "data": {
      "text/plain": [
       "tensor([0.1012, 0.0438, 0.7243, 0.0916, 0.0391])"
      ]
     },
     "execution_count": 16,
     "metadata": {},
     "output_type": "execute_result"
    }
   ],
   "source": [
    "attention_scores_2 = torch.softmax( attention_scores_2, dim = 0 )\n",
    "attention_scores_2"
   ]
  },
  {
   "cell_type": "code",
   "execution_count": 17,
   "id": "99231a39",
   "metadata": {},
   "outputs": [
    {
     "data": {
      "text/plain": [
       "tensor(1.)"
      ]
     },
     "execution_count": 17,
     "metadata": {},
     "output_type": "execute_result"
    }
   ],
   "source": [
    "attention_scores_2.sum()"
   ]
  },
  {
   "cell_type": "code",
   "execution_count": 18,
   "id": "4281d09e",
   "metadata": {},
   "outputs": [
    {
     "data": {
      "text/plain": [
       "tensor([ 0.1668, -0.6340, -0.4146, -0.3663])"
      ]
     },
     "execution_count": 18,
     "metadata": {},
     "output_type": "execute_result"
    }
   ],
   "source": [
    "context_vector_2 = torch.zeros( query.shape )\n",
    "for i in range( len( attention_scores_2 ) ):\n",
    "    context_vector_2 += attention_scores_2[i]*inputs[i] \n",
    "context_vector_2"
   ]
  }
 ],
 "metadata": {
  "kernelspec": {
   "display_name": "Python 3",
   "language": "python",
   "name": "python3"
  },
  "language_info": {
   "codemirror_mode": {
    "name": "ipython",
    "version": 3
   },
   "file_extension": ".py",
   "mimetype": "text/x-python",
   "name": "python",
   "nbconvert_exporter": "python",
   "pygments_lexer": "ipython3",
   "version": "3.10.12"
  }
 },
 "nbformat": 4,
 "nbformat_minor": 5
}
