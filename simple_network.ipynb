{
 "cells": [
  {
   "cell_type": "code",
   "execution_count": 1,
   "id": "fc2084f1",
   "metadata": {},
   "outputs": [],
   "source": [
    "import torch\n",
    "import torch.nn as nn"
   ]
  },
  {
   "cell_type": "code",
   "execution_count": 15,
   "id": "d3f51bbb",
   "metadata": {},
   "outputs": [
    {
     "data": {
      "text/plain": [
       "tensor([[ 0.5047, -1.2738,  0.7399]])"
      ]
     },
     "execution_count": 15,
     "metadata": {},
     "output_type": "execute_result"
    }
   ],
   "source": [
    "# one way to make some typical input:\n",
    "input = torch.randn( 1, 3 )\n",
    "input"
   ]
  },
  {
   "cell_type": "code",
   "execution_count": 3,
   "id": "a0647764",
   "metadata": {},
   "outputs": [
    {
     "data": {
      "text/plain": [
       "tensor([[1., 2., 3.]])"
      ]
     },
     "execution_count": 3,
     "metadata": {},
     "output_type": "execute_result"
    }
   ],
   "source": [
    "input = torch.tensor([[ 1.0, 2.0, 3.0 ]])\n",
    "input"
   ]
  },
  {
   "cell_type": "code",
   "execution_count": 16,
   "id": "f15482bc",
   "metadata": {},
   "outputs": [],
   "source": [
    "# a simple neural network:\n",
    "model = nn.Sequential(\n",
    "    # a layer that takes 3 inputs, gives 2 outputs\n",
    "    nn.Linear( 3, 2 ),\n",
    "    # a nonlinear activation function\n",
    "    nn.ReLU(),\n",
    "    # output layer takes 2 inputs, gives scalar output\n",
    "    nn.Linear( 2, 1)\n",
    ")"
   ]
  },
  {
   "cell_type": "code",
   "execution_count": 6,
   "id": "f322c23b",
   "metadata": {},
   "outputs": [
    {
     "data": {
      "text/plain": [
       "tensor([[ 2.,  1., -1.],\n",
       "        [-2., -1.,  1.]])"
      ]
     },
     "execution_count": 6,
     "metadata": {},
     "output_type": "execute_result"
    }
   ],
   "source": [
    "model[0].weight.data = torch.tensor([[ 2.0, 1.0, -1.0 ],\n",
    "                                     [ -2.0, -1.0, 1.0 ]])\n",
    "model[0].weight.data"
   ]
  },
  {
   "cell_type": "code",
   "execution_count": 7,
   "id": "852b399b",
   "metadata": {},
   "outputs": [],
   "source": [
    "model[0].bias.data = torch.tensor([[0.0, 0.0]])"
   ]
  },
  {
   "cell_type": "code",
   "execution_count": 17,
   "id": "91c5a546",
   "metadata": {},
   "outputs": [
    {
     "data": {
      "text/plain": [
       "tensor([[ 0.3595,  0.0444, -0.0930],\n",
       "        [-0.4406, -0.3730, -0.3911]])"
      ]
     },
     "execution_count": 17,
     "metadata": {},
     "output_type": "execute_result"
    }
   ],
   "source": [
    "model[0].weight.data"
   ]
  },
  {
   "cell_type": "code",
   "execution_count": 18,
   "id": "1e7f1b7d",
   "metadata": {},
   "outputs": [
    {
     "data": {
      "text/plain": [
       "tensor([ 0.3429, -0.1515])"
      ]
     },
     "execution_count": 18,
     "metadata": {},
     "output_type": "execute_result"
    }
   ],
   "source": [
    "model[0].bias.data"
   ]
  },
  {
   "cell_type": "code",
   "execution_count": 19,
   "id": "f78055ff",
   "metadata": {},
   "outputs": [
    {
     "data": {
      "text/plain": [
       "tensor([[ 0.3990, -0.1881]])"
      ]
     },
     "execution_count": 19,
     "metadata": {},
     "output_type": "execute_result"
    }
   ],
   "source": [
    "input @ model[0].weight.data.T + model[0].bias.data"
   ]
  },
  {
   "cell_type": "code",
   "execution_count": 20,
   "id": "66f3aa09",
   "metadata": {},
   "outputs": [
    {
     "data": {
      "text/plain": [
       "tensor([[0.3990, 0.0000]])"
      ]
     },
     "execution_count": 20,
     "metadata": {},
     "output_type": "execute_result"
    }
   ],
   "source": [
    "activation = nn.ReLU()\n",
    "middle = activation( input @ model[0].weight.data.T + model[0].bias.data)\n",
    "middle"
   ]
  },
  {
   "cell_type": "code",
   "execution_count": 21,
   "id": "7d5872f3",
   "metadata": {},
   "outputs": [
    {
     "data": {
      "text/plain": [
       "tensor([[0.3317]])"
      ]
     },
     "execution_count": 21,
     "metadata": {},
     "output_type": "execute_result"
    }
   ],
   "source": [
    "middle @ model[2].weight.data.T + model[2].bias.data"
   ]
  },
  {
   "cell_type": "code",
   "execution_count": 25,
   "id": "a3440e04",
   "metadata": {},
   "outputs": [
    {
     "data": {
      "text/plain": [
       "tensor([[-0.3857],\n",
       "        [-0.3228]])"
      ]
     },
     "execution_count": 25,
     "metadata": {},
     "output_type": "execute_result"
    }
   ],
   "source": [
    "model[2].weight.data.T"
   ]
  },
  {
   "cell_type": "code",
   "execution_count": 22,
   "id": "a4186335",
   "metadata": {},
   "outputs": [
    {
     "data": {
      "text/plain": [
       "tensor([[0.3317]], grad_fn=<AddmmBackward0>)"
      ]
     },
     "execution_count": 22,
     "metadata": {},
     "output_type": "execute_result"
    }
   ],
   "source": [
    "model(input)"
   ]
  },
  {
   "cell_type": "code",
   "execution_count": null,
   "id": "7548edc8",
   "metadata": {},
   "outputs": [],
   "source": []
  }
 ],
 "metadata": {
  "kernelspec": {
   "display_name": "Python 3 (ipykernel)",
   "language": "python",
   "name": "python3"
  },
  "language_info": {
   "codemirror_mode": {
    "name": "ipython",
    "version": 3
   },
   "file_extension": ".py",
   "mimetype": "text/x-python",
   "name": "python",
   "nbconvert_exporter": "python",
   "pygments_lexer": "ipython3",
   "version": "3.12.3"
  }
 },
 "nbformat": 4,
 "nbformat_minor": 5
}
