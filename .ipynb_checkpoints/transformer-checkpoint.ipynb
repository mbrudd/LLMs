{
 "cells": [
  {
   "cell_type": "code",
   "execution_count": 1,
   "id": "9c99e39c",
   "metadata": {},
   "outputs": [],
   "source": [
    "import torch\n",
    "import torch.nn as nn"
   ]
  },
  {
   "cell_type": "code",
   "execution_count": 6,
   "id": "893768cd",
   "metadata": {},
   "outputs": [],
   "source": [
    "class TransformerBlock( nn.Module ):\n",
    "    def __init__( self, cfg ):\n",
    "        super().__init__()\n",
    "        self.norm1 = LayerNorm()\n",
    "        self.att = MultiHeadAttention()\n",
    "        self.dropout = nn.Dropout()\n",
    "        self.norm2 = LayerNorm()\n",
    "        self.feedforward = FeedForward()\n",
    "        \n",
    "    def forward( self, x ):\n",
    "        "
   ]
  },
  {
   "cell_type": "code",
   "execution_count": null,
   "id": "6fa29021",
   "metadata": {},
   "outputs": [],
   "source": []
  }
 ],
 "metadata": {
  "kernelspec": {
   "display_name": "Python 3 (ipykernel)",
   "language": "python",
   "name": "python3"
  },
  "language_info": {
   "codemirror_mode": {
    "name": "ipython",
    "version": 3
   },
   "file_extension": ".py",
   "mimetype": "text/x-python",
   "name": "python",
   "nbconvert_exporter": "python",
   "pygments_lexer": "ipython3",
   "version": "3.10.12"
  }
 },
 "nbformat": 4,
 "nbformat_minor": 5
}
