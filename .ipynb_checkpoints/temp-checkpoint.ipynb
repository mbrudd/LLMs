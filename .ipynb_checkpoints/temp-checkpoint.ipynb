{
 "cells": [
  {
   "cell_type": "code",
   "execution_count": 1,
   "id": "a5cfd35b",
   "metadata": {},
   "outputs": [],
   "source": [
    "import torch\n",
    "import tiktoken"
   ]
  },
  {
   "cell_type": "code",
   "execution_count": 2,
   "id": "d5f63f42",
   "metadata": {},
   "outputs": [],
   "source": [
    "vocab_size = 6\n",
    "output_dim = 3"
   ]
  },
  {
   "cell_type": "code",
   "execution_count": 4,
   "id": "3e7a47b7",
   "metadata": {},
   "outputs": [
    {
     "name": "stdout",
     "output_type": "stream",
     "text": [
      "Parameter containing:\n",
      "tensor([[-1.6238,  0.2692, -1.1411],\n",
      "        [-0.3117,  0.0738, -0.0961],\n",
      "        [-0.8782,  0.6601,  2.6567],\n",
      "        [-0.4376, -1.1837, -1.3214],\n",
      "        [-0.9354, -0.5126, -0.1245],\n",
      "        [-0.1378, -1.3961,  1.9718]], requires_grad=True)\n"
     ]
    }
   ],
   "source": [
    "inputs = torch.nn.Embedding( vocab_size, output_dim )\n",
    "print(inputs.weight)"
   ]
  },
  {
   "cell_type": "code",
   "execution_count": 5,
   "id": "31cb6942",
   "metadata": {},
   "outputs": [
    {
     "name": "stdout",
     "output_type": "stream",
     "text": [
      "tensor([[-1.6238,  0.2692, -1.1411],\n",
      "        [-0.3117,  0.0738, -0.0961],\n",
      "        [-0.8782,  0.6601,  2.6567],\n",
      "        [-0.4376, -1.1837, -1.3214],\n",
      "        [-0.9354, -0.5126, -0.1245],\n",
      "        [-0.1378, -1.3961,  1.9718]])\n"
     ]
    }
   ],
   "source": [
    "inputs = inputs.weight.data\n",
    "print(inputs)"
   ]
  },
  {
   "cell_type": "code",
   "execution_count": 6,
   "id": "07b1b5e1",
   "metadata": {},
   "outputs": [
    {
     "name": "stdout",
     "output_type": "stream",
     "text": [
      "tensor([-1.6238,  0.2692, -1.1411])\n",
      "tensor([-0.3117,  0.0738, -0.0961])\n",
      "tensor([-0.8782,  0.6601,  2.6567])\n",
      "tensor([-0.4376, -1.1837, -1.3214])\n",
      "tensor([-0.9354, -0.5126, -0.1245])\n",
      "tensor([-0.1378, -1.3961,  1.9718])\n"
     ]
    }
   ],
   "source": [
    "for r in inputs:\n",
    "    print(r)"
   ]
  },
  {
   "cell_type": "code",
   "execution_count": null,
   "id": "5ef4d8f1",
   "metadata": {},
   "outputs": [],
   "source": []
  }
 ],
 "metadata": {
  "kernelspec": {
   "display_name": "Python 3 (ipykernel)",
   "language": "python",
   "name": "python3"
  },
  "language_info": {
   "codemirror_mode": {
    "name": "ipython",
    "version": 3
   },
   "file_extension": ".py",
   "mimetype": "text/x-python",
   "name": "python",
   "nbconvert_exporter": "python",
   "pygments_lexer": "ipython3",
   "version": "3.10.12"
  }
 },
 "nbformat": 4,
 "nbformat_minor": 5
}
