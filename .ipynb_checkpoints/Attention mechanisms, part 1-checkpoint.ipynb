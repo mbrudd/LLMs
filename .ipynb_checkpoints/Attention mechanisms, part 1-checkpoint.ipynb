{
 "cells": [
  {
   "cell_type": "code",
   "execution_count": null,
   "id": "ecb13cc5",
   "metadata": {},
   "outputs": [],
   "source": [
    "import torch\n",
    "import tiktoken"
   ]
  },
  {
   "cell_type": "code",
   "execution_count": null,
   "id": "069ae6cb",
   "metadata": {},
   "outputs": [],
   "source": [
    "raw_text = \"This is my dog Hazel\""
   ]
  },
  {
   "cell_type": "code",
   "execution_count": null,
   "id": "753b5d90",
   "metadata": {},
   "outputs": [],
   "source": [
    "tokenizer = tiktoken.get_encoding(\"gpt2\")"
   ]
  },
  {
   "cell_type": "code",
   "execution_count": null,
   "id": "e4f3c0f1",
   "metadata": {},
   "outputs": [],
   "source": [
    "enc_text = tokenizer.encode( raw_text )\n",
    "print(enc_text)"
   ]
  },
  {
   "cell_type": "code",
   "execution_count": null,
   "id": "3cff8e5c",
   "metadata": {},
   "outputs": [],
   "source": [
    "vocab_size = 5\n",
    "output_dim = 4\n",
    "inputs = torch.nn.Embedding( vocab_size, output_dim )\n",
    "print( inputs.weight )"
   ]
  },
  {
   "cell_type": "code",
   "execution_count": null,
   "id": "14fa604c",
   "metadata": {},
   "outputs": [],
   "source": [
    "inputs = inputs.weight.data \n",
    "inputs"
   ]
  },
  {
   "cell_type": "code",
   "execution_count": null,
   "id": "f48673aa",
   "metadata": {},
   "outputs": [],
   "source": [
    "inputs.shape"
   ]
  },
  {
   "cell_type": "code",
   "execution_count": null,
   "id": "52ecd8a2",
   "metadata": {},
   "outputs": [],
   "source": [
    "for row in inputs:\n",
    "    print(row.tolist())"
   ]
  },
  {
   "cell_type": "code",
   "execution_count": null,
   "id": "744ab807",
   "metadata": {},
   "outputs": [],
   "source": [
    "x = torch.Tensor([1.1, 2.3])\n",
    "y = torch.Tensor([3.4,-2.1])\n"
   ]
  },
  {
   "cell_type": "code",
   "execution_count": null,
   "id": "9969af72",
   "metadata": {},
   "outputs": [],
   "source": [
    "1.1*3.4 + 2.3*(-2.1)"
   ]
  },
  {
   "cell_type": "code",
   "execution_count": null,
   "id": "3d0bd2e7",
   "metadata": {},
   "outputs": [],
   "source": [
    "torch.dot( x, y)"
   ]
  },
  {
   "cell_type": "code",
   "execution_count": null,
   "id": "ff8ed3cb",
   "metadata": {},
   "outputs": [],
   "source": [
    "query = inputs[2]\n",
    "print(query)"
   ]
  },
  {
   "cell_type": "code",
   "execution_count": null,
   "id": "ec8044f6",
   "metadata": {},
   "outputs": [],
   "source": [
    "for i in range( len( inputs )):\n",
    "    print( torch.dot( query, inputs[i] ) )"
   ]
  },
  {
   "cell_type": "code",
   "execution_count": null,
   "id": "8bc61b29",
   "metadata": {},
   "outputs": [],
   "source": [
    "attention_scores_2 = torch.zeros( len(inputs) )\n",
    "for i in range( len( inputs )):\n",
    "    attention_scores_2[i] = torch.dot( query, inputs[i] )\n",
    "print( attention_scores_2)"
   ]
  },
  {
   "cell_type": "code",
   "execution_count": null,
   "id": "2ea28496",
   "metadata": {},
   "outputs": [],
   "source": [
    "# normalize the attention scores using the softmax function:\n",
    "# def softmax(x):\n",
    "#     torch.exp(x) / torch.exp(x).sum()"
   ]
  },
  {
   "cell_type": "code",
   "execution_count": null,
   "id": "13bb65e2",
   "metadata": {},
   "outputs": [],
   "source": [
    "attention_scores_2 = torch.softmax( attention_scores_2, dim = 0 )\n",
    "attention_scores_2"
   ]
  },
  {
   "cell_type": "code",
   "execution_count": null,
   "id": "99231a39",
   "metadata": {},
   "outputs": [],
   "source": [
    "attention_scores_2.sum()"
   ]
  },
  {
   "cell_type": "code",
   "execution_count": null,
   "id": "4281d09e",
   "metadata": {},
   "outputs": [],
   "source": [
    "context_vector_2 = torch.zeros( query.shape )\n",
    "for i in range( len( attention_scores_2 ) ):\n",
    "    context_vector_2 += attention_scores_2[i]*inputs[i] \n",
    "context_vector_2"
   ]
  },
  {
   "cell_type": "code",
   "execution_count": null,
   "id": "b099939f",
   "metadata": {},
   "outputs": [],
   "source": []
  }
 ],
 "metadata": {
  "kernelspec": {
   "display_name": "Python 3 (ipykernel)",
   "language": "python",
   "name": "python3"
  },
  "language_info": {
   "codemirror_mode": {
    "name": "ipython",
    "version": 3
   },
   "file_extension": ".py",
   "mimetype": "text/x-python",
   "name": "python",
   "nbconvert_exporter": "python",
   "pygments_lexer": "ipython3",
   "version": "3.10.12"
  }
 },
 "nbformat": 4,
 "nbformat_minor": 5
}
