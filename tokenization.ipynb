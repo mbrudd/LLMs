{
 "cells": [
  {
   "cell_type": "markdown",
   "id": "f592fbb0",
   "metadata": {},
   "source": [
    "# Tokenization\n",
    "\n",
    "_Tokenization_ is the process of converting a body of text into individual _tokens_, e.g., words and punctuation characters. This is the first step for most Natural Language Processing (NLP) tasks, including preparing data for training an LLM. Let's see how it's done!"
   ]
  },
  {
   "cell_type": "markdown",
   "id": "09f17e49",
   "metadata": {},
   "source": [
    "## Some sample text"
   ]
  },
  {
   "cell_type": "code",
   "execution_count": 1,
   "id": "4bc42f87",
   "metadata": {},
   "outputs": [
    {
     "name": "stdout",
     "output_type": "stream",
     "text": [
      "This is a test! Or is this not a test? Test it to be sure. :)\n",
      "This sample text has 61 characters.\n"
     ]
    }
   ],
   "source": [
    "text = \"This is a test! Or is this not a test? Test it to be sure. :)\"\n",
    "print(text)\n",
    "print(f\"This sample text has {len(text)} characters.\")"
   ]
  },
  {
   "cell_type": "code",
   "execution_count": 2,
   "id": "e39fa51d",
   "metadata": {},
   "outputs": [
    {
     "name": "stdout",
     "output_type": "stream",
     "text": [
      "['This', 'is', 'a', 'test!', 'Or', 'is', 'this', 'not', 'a', 'test?', 'Test', 'it', 'to', 'be', 'sure.', ':)']\n"
     ]
    }
   ],
   "source": [
    "print( text.split() )"
   ]
  },
  {
   "cell_type": "code",
   "execution_count": 3,
   "id": "3a2bd7ae",
   "metadata": {},
   "outputs": [
    {
     "name": "stdout",
     "output_type": "stream",
     "text": [
      "\u001b[0;31mSignature:\u001b[0m \u001b[0mstr\u001b[0m\u001b[0;34m.\u001b[0m\u001b[0msplit\u001b[0m\u001b[0;34m(\u001b[0m\u001b[0mself\u001b[0m\u001b[0;34m,\u001b[0m \u001b[0;34m/\u001b[0m\u001b[0;34m,\u001b[0m \u001b[0msep\u001b[0m\u001b[0;34m=\u001b[0m\u001b[0;32mNone\u001b[0m\u001b[0;34m,\u001b[0m \u001b[0mmaxsplit\u001b[0m\u001b[0;34m=\u001b[0m\u001b[0;34m-\u001b[0m\u001b[0;36m1\u001b[0m\u001b[0;34m)\u001b[0m\u001b[0;34m\u001b[0m\u001b[0;34m\u001b[0m\u001b[0m\n",
      "\u001b[0;31mDocstring:\u001b[0m\n",
      "Return a list of the substrings in the string, using sep as the separator string.\n",
      "\n",
      "  sep\n",
      "    The separator used to split the string.\n",
      "\n",
      "    When set to None (the default value), will split on any whitespace\n",
      "    character (including \\n \\r \\t \\f and spaces) and will discard\n",
      "    empty strings from the result.\n",
      "  maxsplit\n",
      "    Maximum number of splits.\n",
      "    -1 (the default value) means no limit.\n",
      "\n",
      "Splitting starts at the front of the string and works to the end.\n",
      "\n",
      "Note, str.split() is mainly useful for data that has been intentionally\n",
      "delimited.  With natural text that includes punctuation, consider using\n",
      "the regular expression module.\n",
      "\u001b[0;31mType:\u001b[0m      method_descriptor"
     ]
    }
   ],
   "source": [
    "str.split?"
   ]
  },
  {
   "cell_type": "code",
   "execution_count": 4,
   "id": "3fa28134",
   "metadata": {},
   "outputs": [],
   "source": [
    "import re"
   ]
  },
  {
   "cell_type": "code",
   "execution_count": 5,
   "id": "d9f735a0",
   "metadata": {},
   "outputs": [
    {
     "name": "stdout",
     "output_type": "stream",
     "text": [
      "['!', ')', '.', ':', '?', 'Or', 'Test', 'This', 'a', 'be', 'is', 'it', 'not', 'sure', 'test', 'this', 'to']\n"
     ]
    }
   ],
   "source": [
    "tokens = re.split( r'([.?!:()]|\\s)', text)\n",
    "tokens = [ item for item in tokens if item.split() ]\n",
    "tokens = sorted( list( set( tokens ) ) )\n",
    "print(tokens)"
   ]
  },
  {
   "cell_type": "code",
   "execution_count": 6,
   "id": "7fb31ae0",
   "metadata": {},
   "outputs": [
    {
     "name": "stdout",
     "output_type": "stream",
     "text": [
      "dict_items([('!', 0), (')', 1), ('.', 2), (':', 3), ('?', 4), ('Or', 5), ('Test', 6), ('This', 7), ('a', 8), ('be', 9), ('is', 10), ('it', 11), ('not', 12), ('sure', 13), ('test', 14), ('this', 15), ('to', 16)])\n"
     ]
    }
   ],
   "source": [
    "vocab = { token:index for index, token in enumerate( tokens )}\n",
    "print( vocab.items())"
   ]
  },
  {
   "cell_type": "code",
   "execution_count": 7,
   "id": "529bfc23",
   "metadata": {},
   "outputs": [
    {
     "data": {
      "text/plain": [
       "6"
      ]
     },
     "execution_count": 7,
     "metadata": {},
     "output_type": "execute_result"
    }
   ],
   "source": [
    "vocab[\"Test\"]"
   ]
  },
  {
   "cell_type": "code",
   "execution_count": 8,
   "id": "757ab7ad",
   "metadata": {},
   "outputs": [
    {
     "name": "stdout",
     "output_type": "stream",
     "text": [
      "\u001b[0;31mInit signature:\u001b[0m \u001b[0menumerate\u001b[0m\u001b[0;34m(\u001b[0m\u001b[0miterable\u001b[0m\u001b[0;34m,\u001b[0m \u001b[0mstart\u001b[0m\u001b[0;34m=\u001b[0m\u001b[0;36m0\u001b[0m\u001b[0;34m)\u001b[0m\u001b[0;34m\u001b[0m\u001b[0;34m\u001b[0m\u001b[0m\n",
      "\u001b[0;31mDocstring:\u001b[0m     \n",
      "Return an enumerate object.\n",
      "\n",
      "  iterable\n",
      "    an object supporting iteration\n",
      "\n",
      "The enumerate object yields pairs containing a count (from start, which\n",
      "defaults to zero) and a value yielded by the iterable argument.\n",
      "\n",
      "enumerate is useful for obtaining an indexed list:\n",
      "    (0, seq[0]), (1, seq[1]), (2, seq[2]), ...\n",
      "\u001b[0;31mType:\u001b[0m           type\n",
      "\u001b[0;31mSubclasses:\u001b[0m     "
     ]
    }
   ],
   "source": [
    "enumerate?"
   ]
  },
  {
   "cell_type": "markdown",
   "id": "be2bb986",
   "metadata": {},
   "source": [
    "## Tokenizing a story"
   ]
  },
  {
   "cell_type": "code",
   "execution_count": 9,
   "id": "b24b4bc4",
   "metadata": {},
   "outputs": [
    {
     "name": "stdout",
     "output_type": "stream",
     "text": [
      "ABOUT fifteen years ago, on a date late in August or early in September, a train drew up at Wilsthor\n"
     ]
    }
   ],
   "source": [
    "with open( \"humphreys.txt\", \"r\" ) as f:\n",
    "    raw_text = f.read()\n",
    "print(raw_text[:100])"
   ]
  },
  {
   "cell_type": "code",
   "execution_count": 66,
   "id": "26b570f5",
   "metadata": {},
   "outputs": [
    {
     "name": "stdout",
     "output_type": "stream",
     "text": [
      "12198\n"
     ]
    }
   ],
   "source": [
    "tokens = re.split( r'([.?!:())\"\\'“”‘’^]|\\s)', raw_text)\n",
    "tokens = [ item for item in tokens if item.split() ]\n",
    "tokens.extend([\"<|unk|>\", \"<|endoftext|>\"])\n",
    "print( len(tokens) )\n"
   ]
  },
  {
   "cell_type": "code",
   "execution_count": 71,
   "id": "3077322e",
   "metadata": {},
   "outputs": [
    {
     "name": "stdout",
     "output_type": "stream",
     "text": [
      "\u001b[0;31mSignature:\u001b[0m \u001b[0mtokens\u001b[0m\u001b[0;34m.\u001b[0m\u001b[0mextend\u001b[0m\u001b[0;34m(\u001b[0m\u001b[0miterable\u001b[0m\u001b[0;34m,\u001b[0m \u001b[0;34m/\u001b[0m\u001b[0;34m)\u001b[0m\u001b[0;34m\u001b[0m\u001b[0;34m\u001b[0m\u001b[0m\n",
      "\u001b[0;31mDocstring:\u001b[0m Extend list by appending elements from the iterable.\n",
      "\u001b[0;31mType:\u001b[0m      builtin_function_or_method"
     ]
    }
   ],
   "source": [
    "tokens.extend?"
   ]
  },
  {
   "cell_type": "code",
   "execution_count": 67,
   "id": "487ff897",
   "metadata": {},
   "outputs": [
    {
     "name": "stdout",
     "output_type": "stream",
     "text": [
      "2783\n"
     ]
    }
   ],
   "source": [
    "tokens = sorted( list( set( tokens ) ) )\n",
    "print( len(tokens) )"
   ]
  },
  {
   "cell_type": "code",
   "execution_count": 69,
   "id": "1f755d79",
   "metadata": {},
   "outputs": [
    {
     "name": "stdout",
     "output_type": "stream",
     "text": [
      "['!', '\"', \"'\", '(', ')', ',', '.', '1770', '1780,', '1866,', '1870', ':', '<|endoftext|>', '<|unk|>', '?', 'A', 'ABOUT', 'Above', 'Absolon', 'Abulensis,']\n"
     ]
    }
   ],
   "source": [
    "print( tokens[:20])"
   ]
  },
  {
   "cell_type": "code",
   "execution_count": 70,
   "id": "8bf04503",
   "metadata": {},
   "outputs": [
    {
     "data": {
      "text/plain": [
       "dict_items([('!', 0), ('\"', 1), (\"'\", 2), ('(', 3), (')', 4), (',', 5), ('.', 6), ('1770', 7), ('1780,', 8), ('1866,', 9), ('1870', 10), (':', 11), ('<|endoftext|>', 12), ('<|unk|>', 13), ('?', 14), ('A', 15), ('ABOUT', 16), ('Above', 17), ('Absolon', 18), ('Abulensis,', 19), ('Accordingly', 20), ('Accordingly,', 21), ('Account', 22), ('Admirable', 23), ('Adventurer', 24), ('Advise', 25), ('After', 26), ('Age,', 27), ('Ah', 28), ('All', 29), ('Alley', 30), ('Alleys', 31), ('Almost', 32), ('Also', 33), ('And', 34), ('And,', 35), ('Another,', 36), ('Anticipations', 37), ('Anxieties', 38), ('Anyhow', 39), ('Anyhow,', 40), ('Are', 41), ('Ariadne', 42), ('Around', 43), ('As', 44), ('Ashes', 45), ('At', 46), ('Attick', 47), ('August', 48), ('Ay', 49), ('Band', 50), ('Bars', 51), ('Beasts', 52), ('Beds', 53), ('Before', 54), ('Bell', 55), ('Bentley', 56), ('Bentley,', 57), ('Body', 58), ('Book', 59), ('Brasnett', 60), ('Breast', 61), ('Breath', 62), ('Brother', 63), ('Busbury', 64), ('But', 65), ('But,', 66), ('C', 67), ('Cain', 68), ('Calton', 69), ('Calton,', 70), ('Calton;', 71), ('Caltons', 72), ('Can', 73), ('Candle', 74), ('Case', 75), ('Catalogue', 76), ('Centre', 77), ('Ceremonies,', 78), ('Certain', 79), ('Certainly,', 80), ('Chore,', 81), ('Clark', 82), ('Classics', 83), ('Clutterham', 84), ('Clutterham,', 85), ('Colosseum', 86), ('Companion', 87), ('Company', 88), ('Condition,', 89), ('Conference', 90), ('Consider', 91), ('Constructed', 92), ('Cooper', 93), ('Cooper,', 94), ('Coopers', 95), ('Could', 96), ('Country', 97), ('Course', 98), ('Court', 99), ('Covent', 100), ('Crack', 101), ('Cracking', 102), ('Creature', 103), ('Cries', 104), ('Curious', 105), ('Dante', 106), ('Darkness', 107), ('Darkness,', 108), ('Dawn', 109), ('Day', 110), ('Death', 111), ('Did', 112), ('Difficulty', 113), ('Disorder', 114), ('Disswasion', 115), ('Do', 116), ('Don', 117), ('Draco', 118), ('During', 119), ('Eastern', 120), ('Echo,', 121), ('Editions', 122), ('Elder', 123), ('Emblem', 124), ('England', 125), ('Errand', 126), ('Eventually', 127), ('Everything,', 128), ('Exertion', 129), ('Eyes', 130), ('Face,', 131), ('Faces', 132), ('Far', 133), ('Fashion', 134), ('Fathers,', 135), ('Fault', 136), ('Fear', 137), ('Fear,', 138), ('Feet', 139), ('Finder', 140), ('First', 141), ('Fits', 142), ('Followers', 143), ('For', 144), ('Forest', 145), ('Form', 146), ('Foster', 147), ('Foster,', 148), ('Friday—he', 149), ('Friends', 150), ('Friendship', 151), ('Gardens,', 152), ('Gate', 153), ('Gates,', 154), ('General', 155), ('George', 156), ('Glad', 157), ('Good-bye', 158), ('Good-night', 159), ('Government', 160), ('Grateful', 161), ('Guide', 162), ('Hall', 163), ('Hampshire—had', 164), ('Hampton', 165), ('Handel', 166), ('Hardly', 167), ('Harleian', 168), ('Have', 169), ('Hazard', 170), ('He', 171), ('Hearers', 172), ('Heart', 173), ('Her', 174), ('Hercules', 175), ('Here', 176), ('Hinnom', 177), ('His', 178), ('Holds', 179), ('Home,', 180), ('Horrour', 181), ('Hostanes', 182), ('Hound', 183), ('How', 184), ('However', 185), ('However,', 186), ('Humphreys', 187), ('Humphreys,', 188), ('Humphreys;', 189), ('Humphreys—just', 190), ('Humphreys—open', 191), ('Humphreys—that', 192), ('Humphreys—the', 193), ('I', 194), ('I,', 195), ('If', 196), ('Ill', 197), ('Image', 198), ('In', 199), ('Indies,', 200), ('Inhabitants', 201), ('Ink', 202), ('Inside', 203), ('Intelligence', 204), ('Irish', 205), ('Is', 206), ('It', 207), ('Italian', 208), ('Italian,', 209), ('Italy', 210), ('Itll', 211), ('Its', 212), ('James', 213), ('Jewel', 214), ('Jewel,', 215), ('Job,', 216), ('Just', 217), ('Labyrinth', 218), ('Labyrinth;', 219), ('Lady', 220), ('Later', 221), ('London', 222), ('Man', 223), ('Many,', 224), ('May', 225), ('Maze', 226), ('Maze,', 227), ('Mazes,', 228), ('Meaning', 229), ('Meaning,', 230), ('Means', 231), ('Midnight', 232), ('Midst', 233), ('Miscellany,', 234), ('Miss', 235), ('Moment', 236), ('Monday', 237), ('Morning,', 238), ('Mortal', 239), ('Most', 240), ('Mother', 241), ('Mourners', 242), ('Mr', 243), ('Mr,', 244), ('Mrs', 245), ('My', 246), ('Name', 247), ('Near', 248), ('Nearer', 249), ('Neighbour', 250), ('Never', 251), ('Next', 252), ('Night', 253), ('Night,', 254), ('No', 255), ('No,', 256), ('No-o,', 257), ('None', 258), ('Not', 259), ('Nothing', 260), ('Now', 261), ('Now,', 262), ('Noyse', 263), ('No—it', 264), ('O', 265), ('Odd', 266), ('Of', 267), ('Oh', 268), ('Oh,', 269), ('On', 270), ('Once', 271), ('One', 272), ('Only', 273), ('Ophiuchus,', 274), ('Or', 275), ('Ought', 276), ('Out', 277), ('Pace', 278), ('Pains', 279), ('Palisadoes', 280), ('Palmer', 281), ('Palmer,', 282), ('Parable', 283), ('Parallel', 284), ('Parish', 285), ('Patience', 286), ('Pause,', 287), ('Penetrans', 288), ('Perhaps', 289), ('Picart', 290), ('Piece', 291), ('Pineda', 292), ('Pit', 293), ('Pitch', 294), ('Pitfalls', 295), ('Pleasure', 296), ('Pleasures', 297), ('Price', 298), ('Prodigal', 299), ('Purpose', 300), ('Pursuers', 301), ('Quid', 302), ('Rarity', 303), ('Reader', 304), ('Really', 305), ('Really,', 306), ('Recital', 307), ('Recollection', 308), ('Recompence', 309), ('Rectory,', 310), ('Relation', 311), ('Religious', 312), ('Rest', 313), ('Roadway,', 314), ('Rome', 315), ('Rustling', 316), ('Sabbath,', 317), ('Satisfaction', 318), ('Scent', 319), ('Second', 320), ('Secretum', 321), ('September,', 322), ('She', 323), ('Shouting,', 324), ('Sibyl', 325), ('Snares,', 326), ('So', 327), ('Some', 328), ('Something', 329), ('Sometimes', 330), ('Son', 331), ('Sound', 332), ('Spirits', 333), ('Starts', 334), ('Still,', 335), ('Stillness', 336), ('Stomach', 337), ('Sun', 338), ('Susanna', 339), ('Swound', 340), ('T', 341), ('Tale,', 342), ('Talk', 343), ('Tea', 344), ('Tears', 345), ('Temple', 346), ('Thank', 347), ('That', 348), ('That,', 349), ('The', 350), ('Their', 351), ('Then', 352), ('There', 353), ('These', 354), ('These,', 355), ('Theseus', 356), ('Theseus,', 357), ('They', 358), ('Thickets;', 359), ('This', 360), ('Though', 361), ('Thus,', 362), ('Till', 363), ('Time', 364), ('Tivoli,', 365), ('To-day', 366), ('Topiary', 367), ('Tostatus', 368), ('Towards', 369), ('Trampling', 370), ('Trap,', 371), ('Treasure', 372), ('Troubles,', 373), ('Umphreys—these', 374), ('Unhappy', 375), ('Unless,', 376), ('Upon', 377), ('Upright,', 378), ('Very', 379), ('Voice', 380), ('Voice,', 381), ('Voyage', 382), ('Wallet,', 383), ('Wardrop', 384), ('Wardrop—I', 385), ('Way', 386), ('We', 387), ('Well', 388), ('Well,', 389), ('What', 390), ('What,', 391), ('When', 392), ('Where', 393), ('Whereupon', 394), ('Whether', 395), ('Whew', 396), ('Which', 397), ('Whispering,', 398), ('Who,', 399), ('Why,', 400), ('William', 401), ('Wilson', 402), ('Wilson,', 403), ('Wilson—I', 404), ('Wilsthorpe', 405), ('Wilsthorpe,', 406), ('With', 407), ('Wits', 408), ('Wizard', 409), ('World', 410), ('Would', 411), ('Yes', 412), ('Yes,', 413), ('You', 414), ('Your', 415), ('a', 416), ('ability', 417), ('able', 418), ('able,', 419), ('about', 420), ('above', 421), ('abroad', 422), ('absence', 423), ('absolute', 424), ('absorbed', 425), ('absorbing', 426), ('accessible,', 427), ('accommodate', 428), ('according', 429), ('accordingly,', 430), ('account,', 431), ('accustomed', 432), ('acquaintance', 433), ('across', 434), ('act', 435), ('acting', 436), ('ad', 437), ('add', 438), ('added', 439), ('address', 440), ('addressed', 441), ('addressing', 442), ('admirably', 443), ('admission', 444), ('adorned', 445), ('adventure', 446), ('adventured', 447), ('afar', 448), ('afraid', 449), ('after', 450), ('after-dinner', 451), ('afternoon', 452), ('afternoon,', 453), ('afternoon;', 454), ('afterwards', 455), ('again', 456), ('again,', 457), ('again;', 458), ('against', 459), ('age', 460), ('ago', 461), ('ago,', 462), ('agonising', 463), ('agree', 464), ('agreeable', 465), ('agreed', 466), ('ain', 467), ('airlessness', 468), ('alighted,', 469), ('alike,', 470), ('all', 471), ('all,', 472), ('alley,', 473), ('alleys', 474), ('allow', 475), ('allusion,', 476), ('almost', 477), ('alone', 478), ('alone,', 479), ('along', 480), ('already', 481), ('also', 482), ('also,', 483), ('altogether', 484), ('always', 485), ('am', 486), ('among', 487), ('an', 488), ('ancestor', 489), ('ancient', 490), ('and', 491), ('and,', 492), ('and—at', 493), ('angels', 494), ('announcement', 495), ('annoying,', 496), ('another', 497), ('answer', 498), ('answer,', 499), ('answering', 500), ('anxiety', 501), ('anxious', 502), ('any', 503), ('anything', 504), ('anythink', 505), ('apologies', 506), ('apparently', 507), ('appearance', 508), ('appeared,', 509), ('apple', 510), ('application', 511), ('applying', 512), ('approach', 513), ('approached', 514), ('appropriate', 515), ('approve', 516), ('aptitudes', 517), ('archway', 518), ('are', 519), ('aright,', 520), ('arms', 521), ('arms,', 522), ('arose', 523), ('around', 524), ('arrangement,', 525), ('arrived', 526), ('arrived,', 527), ('artists', 528), ('as', 529), ('as,', 530), ('ashamed', 531), ('ashes', 532), ('ask', 533), ('asked', 534), ('asked,', 535), ('asking', 536), ('assemblage', 537), ('assert', 538), ('assigned', 539), ('assist', 540), ('assist,', 541), ('associations', 542), ('assumed', 543), ('assure', 544), ('at', 545), ('attempt', 546), ('attempted', 547), ('attended', 548), ('attending', 549), ('attention', 550), ('attitude', 551), ('attract', 552), ('aught', 553), ('aunt', 554), ('author', 555), ('autumn', 556), ('available', 557), ('awaiting', 558), ('awaits', 559), ('away', 560), ('away,', 561), ('awkward,', 562), ('a—well,', 563), ('back', 564), ('back,', 565), ('background', 566), ('bad', 567), ('badly', 568), ('bailiff', 569), ('bailiff,', 570), ('ball', 571), ('basement,', 572), ('bat', 573), ('bat,', 574), ('be', 575), ('be,', 576), ('bear', 577), ('beard', 578), ('beaten', 579), ('beauty', 580), ('became', 581), ('because', 582), ('because,', 583), ('beckoned', 584), ('becoming', 585), ('becoming,', 586), ('bed', 587), ('bedding,', 588), ('bedroom', 589), ('been', 590), ('before', 591), ('before,', 592), ('began', 593), ('begin', 594), ('beginning', 595), ('begun', 596), ('behalf', 597), ('behind', 598), ('being', 599), ('believe', 600), ('belong', 601), ('below', 602), ('bending', 603), ('besides', 604), ('besides,', 605), ('best', 606), ('bestowed', 607), ('bet', 608), ('betake', 609), ('better', 610), ('between', 611), ('betwixt', 612), ('bewildered', 613), ('bewilderment', 614), ('bid', 615), ('binding,', 616), ('bindweed', 617), ('bit', 618), ('bits', 619), ('black', 620), ('black,', 621), ('blackish-grey', 622), ('blank', 623), ('block-puzzle', 624), ('blocks', 625), ('blow', 626), ('book', 627), ('books', 628), ('bore', 629), ('borrered', 630), ('borrowed', 631), ('both', 632), ('bottle', 633), ('bottom', 634), ('bought', 635), ('boundaries', 636), ('bowl', 637), ('boyhood', 638), ('brain', 639), ('brain,', 640), ('bramble-bush', 641), ('bramble-bush,', 642), ('brambles', 643), ('breadth', 644), ('break', 645), ('breezy', 646), ('brief', 647), ('bright,', 648), ('brilliant', 649), ('bring', 650), ('brink', 651), ('broke', 652), ('brought', 653), ('building', 654), ('building,', 655), ('built', 656), ('bunch', 657), ('burial', 658), ('burnt', 659), ('bush-thing', 660), ('business', 661), ('business,', 662), ('busy,', 663), ('but', 664), ('but,', 665), ('butler', 666), ('by', 667), ('by,', 668), ('calculated', 669), ('calendar', 670), ('call', 671), ('called', 672), ('calm', 673), ('calm,', 674), ('came', 675), ('came,', 676), ('can', 677), ('candles,', 678), ('cannot', 679), ('cannot,', 680), ('cap,', 681), ('car', 682), ('care', 683), ('careful', 684), ('carefully', 685), ('carrying', 686), ('cart', 687), ('cartridge', 688), ('case', 689), ('case,', 690), ('cast', 691), ('catalogue', 692), ('catch', 693), ('caught', 694), ('ceasing', 695), ('ceiling,', 696), ('celestial', 697), ('cellar', 698), ('central', 699), ('centre', 700), ('centre,', 701), ('century', 702), ('certainly', 703), ('certainly,', 704), ('chair', 705), ('chairs', 706), ('change', 707), ('change,', 708), ('changed', 709), ('changes', 710), ('character', 711), ('characteristic', 712), ('cheerful', 713), ('chest,—', 714), ('chief', 715), ('child', 716), ('child,', 717), ('chilly', 718), ('chisel', 719), ('church;', 720), ('churches', 721), ('circle', 722), ('circular', 723), ('circumstances', 724), ('civil', 725), ('claim', 726), ('clambered', 727), ('clasp', 728), ('clear', 729), ('clear,', 730), ('cleared', 731), ('clearing', 732), ('clearly', 733), ('clearness', 734), ('clock,', 735), ('close', 736), ('closed', 737), ('closely', 738), ('closely,', 739), ('club', 740), ('clue', 741), ('clump', 742), ('coffee', 743), ('coils', 744), ('cold', 745), ('collation', 746), ('collect', 747), ('collection', 748), ('colour', 749), ('colours', 750), ('column', 751), ('come', 752), ('come,', 753), ('comfortable', 754), ('coming', 755), ('commanded', 756), ('common', 757), ('commonly', 758), ('companion', 759), ('company,', 760), ('compare', 761), ('compass,', 762), ('compasses,', 763), ('complaint', 764), ('complete', 765), ('complete,', 766), ('completely', 767), ('compliments,', 768), ('composition', 769), ('concealed', 770), ('concealing', 771), ('conceits', 772), ('concussion', 773), ('condemnation', 774), ('condition', 775), ('conductor,', 776), ('confer', 777), ('confess,', 778), ('confident', 779), ('confident,', 780), ('confinement', 781), ('confirmed', 782), ('confusion,', 783), ('congenial', 784), ('congeniality', 785), ('conjecture', 786), ('connoisseurs,', 787), ('consciousness', 788), ('consequential', 789), ('consider', 790), ('considerable', 791), ('considerable—that', 792), ('considerably—and', 793), ('considered', 794), ('constant', 795), ('constellations,', 796), ('constructed', 797), ('constructor', 798), ('consult', 799), ('consulted', 800), ('contact', 801), ('contained', 802), ('contemplating', 803), ('contemplation', 804), ('continuance', 805), ('continued', 806), ('contribute', 807), ('contributed', 808), ('conveniency,', 809), ('conversation,', 810), ('convex', 811), ('conviction', 812), ('convinced', 813), ('convulsion', 814), ('cook-housekeeper', 815), ('copied', 816), ('copy', 817), ('copying', 818), ('copy—an', 819), ('cornice', 820), ('correcting', 821), ('cough', 822), ('could', 823), ('couldn', 824), ('counterpane', 825), ('country', 826), ('country;', 827), ('county;', 828), ('couple', 829), ('couple,', 830), ('course', 831), ('course,', 832), ('covered', 833), ('craned', 834), ('creditable—most', 835), ('creditable—of', 836), ('creeping', 837), ('cremation', 838), ('cries', 839), ('cross,', 840), ('cross-lines', 841), ('crouching', 842), ('crucial', 843), ('crushed', 844), ('cup', 845), ('cupboard', 846), ('cupboards', 847), ('curiosity', 848), ('curtains', 849), ('curve', 850), ('cut', 851), ('cutting', 852), ('cyphers', 853), ('d', 854), ('d,', 855), ('dancing', 856), ('dank', 857), ('dankness', 858), ('dare', 859), ('daresay', 860), ('dark', 861), ('darkness,', 862), ('dark—at', 863), ('date', 864), ('date,', 865), ('daughter,', 866), ('daunted', 867), ('day', 868), ('day,', 869), ('day;', 870), ('days', 871), ('dead,', 872), ('deal', 873), ('dealings', 874), ('dear', 875), ('dear,', 876), ('death', 877), ('death,', 878), ('decease', 879), ('deceased', 880), ('deceiving', 881), ('decency', 882), ('deciphered', 883), ('decoration', 884), ('deep', 885), ('deeply', 886), ('degree,', 887), ('delay;', 888), ('delayed', 889), ('delicious', 890), ('delighted', 891), ('delighted,', 892), ('demons', 893), ('demonstration,', 894), ('deprecation—not', 895), ('depressions', 896), ('depths', 897), ('derived', 898), ('described', 899), ('described,', 900), ('describes', 901), ('deserved', 902), ('desiderate', 903), ('designed', 904), ('desire', 905), ('desired', 906), ('despair', 907), ('despairing', 908), ('destroyed', 909), ('determination', 910), ('determine', 911), ('detriment', 912), ('detrimental', 913), ('dew;', 914), ('did', 915), ('didactic', 916), ('didn', 917), ('difference', 918), ('difficulty', 919), ('diffident,', 920), ('dined', 921), ('dining-room,', 922), ('dinner-time,', 923), ('direct', 924), ('directions—perhaps', 925), ('directly', 926), ('disappeared', 927), ('disguis', 928), ('disintegrating', 929), ('dislike', 930), ('dismissing', 931), ('disorder', 932), ('disquisition', 933), ('disregarding', 934), ('distance,', 935), ('distant', 936), ('distant,', 937), ('distinction', 938), ('distinguish', 939), ('distinguished', 940), ('district,', 941), ('do', 942), ('do;', 943), ('doctor', 944), ('doctor,', 945), ('does', 946), ('doesn', 947), ('dolere', 948), ('dome,', 949), ('domus', 950), ('don', 951), ('done', 952), ('done,', 953), ('door', 954), ('door,', 955), ('doover', 956), ('doubling,', 957), ('doubt', 958), ('doubted', 959), ('doubting', 960), ('down', 961), ('down,', 962), ('draw', 963), ('drawing', 964), ('drawing-board,', 965), ('drawing-room,', 966), ('dreadful', 967), ('drew', 968), ('drive,', 969), ('drove', 970), ('drowsy', 971), ('due', 972), ('dull', 973), ('duties', 974), ('each', 975), ('eager', 976), ('earlier', 977), ('earlier,', 978), ('early', 979), ('earnestly', 980), ('earth', 981), ('ease', 982), ('easier', 983), ('easily', 984), ('east', 985), ('echo', 986), ('edge', 987), ('effect', 988), ('effect,', 989), ('effort', 990), ('eight', 991), ('eighteen', 992), ('either', 993), ('either—through', 994), ('elaborate', 995), ('elderly', 996), ('elephant', 997), ('else', 998), ('else,', 999), ('embarked', 1000), ('emerge', 1001), ('emerged', 1002), ('employees,', 1003), ('employer', 1004), ('employment', 1005), ('empty', 1006), ('enable', 1007), ('enclosure', 1008), ('encounter', 1009), ('encountered', 1010), ('end', 1011), ('ends', 1012), ('endur', 1013), ('engage,', 1014), ('engaged', 1015), ('engagement', 1016), ('engraved', 1017), ('enjoyment', 1018), ('enlarged', 1019), ('enough', 1020), ('enough,', 1021), ('enrich', 1022), ('entangled', 1023), ('enter', 1024), ('entered', 1025), ('enthusiastically', 1026), ('entirely', 1027), ('entrance', 1028), ('entrance,', 1029), ('entry', 1030), ('episodes', 1031), ('epithet', 1032), ('equator', 1033), ('equipment', 1034), ('ere', 1035), ('escape', 1036), ('especially', 1037), ('estate', 1038), ('et', 1039), ('evading', 1040), ('even', 1041), ('evening', 1042), ('evening,', 1043), ('evening;', 1044), ('evenings', 1045), ('evenings—looking', 1046), ('event', 1047), ('events', 1048), ('ever', 1049), ('every', 1050), ('everything,', 1051), ('evident', 1052), ('evidently', 1053), ('evil,', 1054), ('examine', 1055), ('examined', 1056), ('excellent', 1057), ('except', 1058), ('exchange', 1059), ('excite', 1060), ('exciting', 1061), ('exclaimed', 1062), ('exhibition', 1063), ('expect', 1064), ('expectation', 1065), ('expected', 1066), ('expected,', 1067), ('expecting', 1068), ('expedient', 1069), ('experience,', 1070), ('experiencing', 1071), ('expert', 1072), ('explained', 1073), ('explanation', 1074), ('exploration', 1075), ('explored', 1076), ('exposed', 1077), ('express', 1078), ('expression', 1079), ('external', 1080), ('extract', 1081), ('extream', 1082), ('extreme', 1083), ('exuberant', 1084), ('eye', 1085), ('eye,', 1086), ('eyes', 1087), ('face', 1088), ('face—a', 1089), ('facing', 1090), ('fact', 1091), ('fact,', 1092), ('fading,', 1093), ('fail', 1094), ('fair', 1095), ('fall', 1096), ('fallen', 1097), ('falling', 1098), ('false', 1099), ('familiar', 1100), ('familiar;', 1101), ('fancied', 1102), ('fancy', 1103), ('far', 1104), ('far,', 1105), ('father', 1106), ('father,', 1107), ('fault', 1108), ('favourable', 1109), ('favoured', 1110), ('fearing', 1111), ('feature', 1112), ('featureless,', 1113), ('features', 1114), ('feel', 1115), ('feeling', 1116), ('feel—haven', 1117), ('feet', 1118), ('fell', 1119), ('fell,', 1120), ('fellow', 1121), ('felt', 1122), ('festivities', 1123), ('fever,', 1124), ('few', 1125), ('fiasco', 1126), ('fifteen', 1127), ('figure', 1128), ('figured', 1129), ('figures', 1130), ('filiis', 1131), ('filiorum', 1132), ('final', 1133), ('find', 1134), ('finding', 1135), ('fine', 1136), ('finely', 1137), ('finest,', 1138), ('finger', 1139), ('fingers', 1140), ('finish', 1141), ('finished', 1142), ('fireside', 1143), ('first', 1144), ('first,', 1145), ('first-rate', 1146), ('fit', 1147), ('fitting', 1148), ('five', 1149), ('fixing', 1150), ('flames', 1151), ('flash', 1152), ('flat', 1153), ('flavour', 1154), ('flee', 1155), ('flickering', 1156), ('flight', 1157), ('floor', 1158), ('flowers', 1159), ('flowers—but', 1160), ('foller', 1161), ('follow', 1162), ('followed', 1163), ('following', 1164), ('fond', 1165), ('foot', 1166), ('for', 1167), ('for,', 1168), ('for;', 1169), ('forbidding', 1170), ('forbore', 1171), ('forc', 1172), ('force', 1173), ('forced', 1174), ('foreign', 1175), ('forget', 1176), ('forget—something', 1177), ('forgive', 1178), ('forgiven', 1179), ('forgotten', 1180), ('form', 1181), ('form,', 1182), ('formed', 1183), ('former', 1184), ('forth', 1185), ('forty', 1186), ('forward', 1187), ('found', 1188), ('found,', 1189), ('four', 1190), ('fresh', 1191), ('friend', 1192), ('from', 1193), ('front', 1194), ('front-door', 1195), ('fruitless', 1196), ('full', 1197), ('fully', 1198), ('funeral', 1199), ('furniture', 1200), ('further', 1201), ('further,', 1202), ('furthermore,', 1203), ('future', 1204), ('gained', 1205), ('garden', 1206), ('garden-front', 1207), ('gardener', 1208), ('gardener,', 1209), ('gardeners', 1210), ('gardener—and', 1211), ('gardening', 1212), ('gardening,', 1213), ('gardens', 1214), ('gate', 1215), ('gate,', 1216), ('gate;', 1217), ('gates,', 1218), ('gathered', 1219), ('gauntlet—not', 1220), ('gave', 1221), ('gazed', 1222), ('general', 1223), ('generous', 1224), ('gentleman', 1225), ('gentleman;', 1226), ('gesture,—', 1227), ('get', 1228), ('getting', 1229), ('ghist', 1230), ('gifted', 1231), ('girl', 1232), ('git', 1233), ('give', 1234), ('glad', 1235), ('glance', 1236), ('gleam', 1237), ('glean', 1238), ('globe', 1239), ('globe,', 1240), ('globes,', 1241), ('globe—copper,', 1242), ('go', 1243), ('goes', 1244), ('going', 1245), ('golden', 1246), ('golf', 1247), ('gone', 1248), ('gone,', 1249), ('good', 1250), ('good-looking', 1251), ('goodbye', 1252), ('goosegrass', 1253), ('got', 1254), ('gradually', 1255), ('grand', 1256), ('grandfather', 1257), ('grandfather,', 1258), ('granting', 1259), ('grass', 1260), ('grateful', 1261), ('gratified', 1262), ('great', 1263), ('greatgrandfather', 1264), ('greatly', 1265), ('green', 1266), ('greeted', 1267), ('grief', 1268), ('grisly', 1269), ('ground', 1270), ('grounds', 1271), ('grown', 1272), ('growth', 1273), ('grubbed', 1274), ('guess', 1275), ('guessed', 1276), ('guide-marks', 1277), ('guile', 1278), ('had', 1279), ('had,', 1280), ('hair', 1281), ('half', 1282), ('half-mile', 1283), ('half-past', 1284), ('half-way', 1285), ('hall', 1286), ('hand', 1287), ('hand,', 1288), ('handbag', 1289), ('hands', 1290), ('handsome', 1291), ('hang', 1292), ('hanging', 1293), ('happened', 1294), ('happiest', 1295), ('happy', 1296), ('happy,', 1297), ('hard', 1298), ('hardly', 1299), ('harm', 1300), ('has', 1301), ('hastened', 1302), ('hastily', 1303), ('hat', 1304), ('hat,', 1305), ('hatched', 1306), ('hateful', 1307), ('hath', 1308), ('hats', 1309), ('have', 1310), ('have,', 1311), ('have;', 1312), ('haven', 1313), ('having', 1314), ('he', 1315), ('head', 1316), ('heading', 1317), ('heads', 1318), ('health', 1319), ('health—or,', 1320), ('hear', 1321), ('heard', 1322), ('heard,', 1323), ('hearing', 1324), ('heart', 1325), ('heartily,', 1326), ('heat', 1327), ('heat,', 1328), ('heavens', 1329), ('heavy', 1330), ('hedges,', 1331), ('height', 1332), ('height,', 1333), ('help', 1334), ('helped', 1335), ('helpless', 1336), ('hemisphere', 1337), ('her', 1338), ('here', 1339), ('here,', 1340), ('here—that', 1341), ('herself', 1342), ('her—wrote', 1343), ('hesitation', 1344), ('high', 1345), ('high,', 1346), ('hilloo', 1347), ('hills,', 1348), ('him', 1349), ('him,', 1350), ('him;', 1351), ('himself', 1352), ('himself,', 1353), ('his', 1354), ('hit', 1355), ('hitch', 1356), ('hole', 1357), ('hole,', 1358), ('holiday', 1359), ('hollow', 1360), ('holm-tree', 1361), ('home', 1362), ('honestly', 1363), ('hope', 1364), ('hoped', 1365), ('hopelessly', 1366), ('horror', 1367), ('horse', 1368), ('host', 1369), ('hot', 1370), ('hour', 1371), ('hour,', 1372), ('hours', 1373), ('house', 1374), ('house,', 1375), ('housekeeper', 1376), ('houses,', 1377), ('house—and', 1378), ('hovered', 1379), ('how', 1380), ('however,', 1381), ('human', 1382), ('humanly', 1383), ('hundreds', 1384), ('hung', 1385), ('hurried', 1386), ('idea', 1387), ('idea,', 1388), ('if', 1389), ('ill', 1390), ('illness—which,', 1391), ('imaginative', 1392), ('imbued', 1393), ('immediate', 1394), ('immediately', 1395), ('impassable', 1396), ('impatient,', 1397), ('impatiently', 1398), ('import', 1399), ('importance', 1400), ('imposing', 1401), ('impossible', 1402), ('impression', 1403), ('impressions', 1404), ('impressively', 1405), ('improved', 1406), ('improvement', 1407), ('improvement,', 1408), ('in', 1409), ('in,', 1410), ('in;', 1411), ('inarticulately', 1412), ('inasmuch', 1413), ('inch', 1414), ('inclined', 1415), ('include', 1416), ('incongruity', 1417), ('inconveniencing', 1418), ('increas', 1419), ('increased', 1420), ('indeed', 1421), ('indeed,', 1422), ('indeed;', 1423), ('indication', 1424), ('indistinct', 1425), ('inducted', 1426), ('infinite', 1427), ('inform', 1428), ('information', 1429), ('inherited—quite', 1430), ('injure', 1431), ('ink', 1432), ('inner', 1433), ('inquired', 1434), ('inscription', 1435), ('inscriptions,', 1436), ('inscription—what', 1437), ('inside', 1438), ('instant', 1439), ('insulator', 1440), ('intelligence', 1441), ('intention', 1442), ('interest', 1443), ('interested', 1444), ('interested—keenly', 1445), ('interested—to', 1446), ('interesting,', 1447), ('interfere', 1448), ('interfering', 1449), ('interiora', 1450), ('interrupted', 1451), ('interruption', 1452), ('interval', 1453), ('interview', 1454), ('intimated', 1455), ('into', 1456), ('intricate', 1457), ('inured', 1458), ('in—let', 1459), ('iron', 1460), ('irritated', 1461), ('irritation', 1462), ('is', 1463), ('is,', 1464), ('isn', 1465), ('is———', 1466), ('it', 1467), ('it,', 1468), ('it;', 1469), ('its', 1470), ('itself', 1471), ('job', 1472), ('join', 1473), ('joined', 1474), ('joke', 1475), ('journals', 1476), ('journey', 1477), ('judg', 1478), ('judge', 1479), ('judge,', 1480), ('judgment,', 1481), ('jungle', 1482), ('just', 1483), ('just,', 1484), ('justice', 1485), ('keen', 1486), ('keep', 1487), ('keeping', 1488), ('keeping;', 1489), ('kept', 1490), ('key', 1491), ('key,', 1492), ('keys', 1493), ('kick', 1494), ('kind', 1495), ('kindliness', 1496), ('kindly', 1497), ('kindness', 1498), ('knew', 1499), ('knew,', 1500), ('know', 1501), ('know,', 1502), ('know;', 1503), ('knowledge', 1504), ('knowledgeable', 1505), ('known', 1506), ('know——', 1507), ('label', 1508), ('laborious,', 1509), ('labyrinth', 1510), ('ladies', 1511), ('laid', 1512), ('lamp,', 1513), ('landscape', 1514), ('language,', 1515), ('large', 1516), ('last', 1517), ('last,', 1518), ('late', 1519), ('later', 1520), ('latest', 1521), ('latter', 1522), ('latter,', 1523), ('laugh', 1524), ('laughter,', 1525), ('laundry', 1526), ('lawns', 1527), ('lay', 1528), ('laying', 1529), ('laying-out', 1530), ('lays', 1531), ('lead', 1532), ('leaden', 1533), ('leading', 1534), ('leads', 1535), ('learn', 1536), ('learned', 1537), ('learnt', 1538), ('least', 1539), ('least,', 1540), ('leastways———', 1541), ('leave', 1542), ('led', 1543), ('left', 1544), ('legacies', 1545), ('legacy', 1546), ('less', 1547), ('lesser', 1548), ('lest', 1549), ('let', 1550), ('letter', 1551), ('letter,', 1552), ('lettered', 1553), ('letters', 1554), ('letters,', 1555), ('letting', 1556), ('liberal', 1557), ('liberties', 1558), ('library', 1559), ('library,', 1560), ('lies', 1561), ('life', 1562), ('life;', 1563), ('light', 1564), ('light,', 1565), ('lighted', 1566), ('like', 1567), ('liked', 1568), ('limited', 1569), ('line', 1570), ('linen,', 1571), ('lines', 1572), ('lingered', 1573), ('lips', 1574), ('listen', 1575), ('literature', 1576), ('little', 1577), ('lives', 1578), ('living', 1579), ('ll', 1580), ('lll', 1581), ('local', 1582), ('lock', 1583), ('locked', 1584), ('lodge', 1585), ('lodge,', 1586), ('lodge-keeper', 1587), ('long', 1588), ('long,', 1589), ('longed', 1590), ('look', 1591), ('looked', 1592), ('looking', 1593), ('loose', 1594), ('loss', 1595), ('lost', 1596), ('lot', 1597), ('loud', 1598), ('loudly,', 1599), ('lovely,', 1600), ('lower', 1601), ('luggage,', 1602), ('luncheon', 1603), ('luncheon,', 1604), ('lunch—not', 1605), ('lurk,', 1606), ('lying', 1607), ('m', 1608), ('made', 1609), ('magus', 1610), ('main', 1611), ('major', 1612), ('make', 1613), ('makin', 1614), ('making', 1615), ('man', 1616), ('man,', 1617), ('manage', 1618), ('manner', 1619), ('mansion,', 1620), ('manuscripts,', 1621), ('many', 1622), ('many,', 1623), ('marble', 1624), ('marginal', 1625), ('mark', 1626), ('marked', 1627), ('married', 1628), ('master', 1629), ('materials', 1630), ('matter', 1631), ('matters', 1632), ('mature', 1633), ('mausoleum', 1634), ('may', 1635), ('maze', 1636), ('maze,', 1637), ('maze;', 1638), ('mazes', 1639), ('mazes—I', 1640), ('maze—for', 1641), ('maze—the', 1642), ('me', 1643), ('me,', 1644), ('mean,', 1645), ('meanin', 1646), ('meaning', 1647), ('means', 1648), ('meant', 1649), ('meatear', 1650), ('meditations,', 1651), ('memory', 1652), ('men', 1653), ('mention', 1654), ('mention;', 1655), ('mentioned', 1656), ('mentioned,', 1657), ('merely', 1658), ('merrily', 1659), ('messenger', 1660), ('met,', 1661), ('metal', 1662), ('metal—copper,', 1663), ('metal—it', 1664), ('meum', 1665), ('meæ,', 1666), ('me——', 1667), ('middle', 1668), ('might', 1669), ('mihi', 1670), ('mind', 1671), ('mind,', 1672), ('mind—I', 1673), ('mine;', 1674), ('minutes', 1675), ('mislead', 1676), ('misled', 1677), ('missed', 1678), ('missing', 1679), ('mistakes,', 1680), ('misunderstand', 1681), ('moment', 1682), ('moment,', 1683), ('moments', 1684), ('monitor,', 1685), ('monk', 1686), ('months', 1687), ('moon', 1688), ('moonlight', 1689), ('more', 1690), ('moreover,', 1691), ('morning', 1692), ('morning,', 1693), ('morrow', 1694), ('mortal', 1695), ('mortis', 1696), ('most', 1697), ('motto', 1698), ('mound', 1699), ('mountains,', 1700), ('mouth,', 1701), ('move', 1702), ('move,', 1703), ('moved', 1704), ('movement', 1705), ('movement,', 1706), ('much', 1707), ('much,', 1708), ('muddled', 1709), ('multa', 1710), ('murmured', 1711), ('must', 1712), ('mustn', 1713), ('mutilated', 1714), ('muttered', 1715), ('my', 1716), ('myself', 1717), ('myself,', 1718), ('mysterious', 1719), ('mystery', 1720), ('name', 1721), ('name,', 1722), ('nasty', 1723), ('nature', 1724), ('nature,', 1725), ('nay,', 1726), ('near', 1727), ('nearer', 1728), ('nearly', 1729), ('neatly', 1730), ('necessary', 1731), ('need', 1732), ('needed', 1733), ('negative', 1734), ('neighbourhood', 1735), ('neighbourhood,', 1736), ('neither', 1737), ('nephew,', 1738), ('nettle-stings,', 1739), ('nettles', 1740), ('never', 1741), ('new', 1742), ('new,', 1743), ('news', 1744), ('next', 1745), ('nice', 1746), ('nicer', 1747), ('niece', 1748), ('night', 1749), ('night,', 1750), ('nine', 1751), ('no', 1752), ('no,', 1753), ('noiselessly', 1754), ('non', 1755), ('none', 1756), ('nor', 1757), ('not', 1758), ('not,', 1759), ('note', 1760), ('note—a', 1761), ('note—everything', 1762), ('nothing', 1763), ('nothing,', 1764), ('notice', 1765), ('noticed', 1766), ('novel', 1767), ('now', 1768), ('now,', 1769), ('now—it', 1770), ('now—such', 1771), ('nude', 1772), ('number', 1773), ('numbered', 1774), ('numbered,', 1775), ('numbers', 1776), ('numeral', 1777), ('nurses', 1778), ('nutshell,', 1779), ('o', 1780), ('obedience', 1781), ('objection', 1782), ('obliged', 1783), ('obscure', 1784), ('obscured', 1785), ('observ', 1786), ('observed', 1787), ('observing', 1788), ('obtrusive', 1789), ('obvious', 1790), ('obviously', 1791), ('obviously,', 1792), ('occasion', 1793), ('occasion,', 1794), ('occasional', 1795), ('occupation', 1796), ('occupied', 1797), ('occupy', 1798), ('occurs', 1799), ('odd', 1800), ('oddest', 1801), ('oddly', 1802), ('odious', 1803), ('of', 1804), ('of,', 1805), ('off', 1806), ('off,', 1807), ('off;', 1808), ('office', 1809), ('offices', 1810), ('often', 1811), ('of—er—tenancy—which', 1812), ('old', 1813), ('old-fashioned', 1814), ('older', 1815), ('omened', 1816), ('on', 1817), ('on,', 1818), ('once', 1819), ('once;', 1820), ('one', 1821), ('one,', 1822), ('one—be', 1823), ('only', 1824), ('only,', 1825), ('on—for', 1826), ('on—what', 1827), ('open', 1828), ('open,', 1829), ('opened', 1830), ('opening', 1831), ('opinion', 1832), ('opportunity', 1833), ('opportunity,', 1834), ('opposite', 1835), ('oppressed', 1836), ('or', 1837), ('or,', 1838), ('order', 1839), ('order,', 1840), ('ordinary', 1841), ('organised', 1842), ('original', 1843), ('original,', 1844), ('ornament', 1845), ('other', 1846), ('ought', 1847), ('our', 1848), ('out', 1849), ('out,', 1850), ('out,—', 1851), ('out-of-door', 1852), ('outer', 1853), ('outline,', 1854), ('outlined', 1855), ('outpost', 1856), ('outside', 1857), ('outside,', 1858), ('outspread', 1859), ('over', 1860), ('over-run', 1861), ('overstepped', 1862), ('owing', 1863), ('own', 1864), ('own,', 1865), ('packet', 1866), ('padlocked', 1867), ('padlock—a', 1868), ('pages', 1869), ('painted', 1870), ('painting', 1871), ('pale', 1872), ('pan,', 1873), ('pant', 1874), ('panting', 1875), ('paper', 1876), ('paper,', 1877), ('papers', 1878), ('parapet', 1879), ('parish', 1880), ('park', 1881), ('parsonage,', 1882), ('part', 1883), ('part,', 1884), ('partially', 1885), ('participation', 1886), ('particular', 1887), ('particularly', 1888), ('parties,', 1889), ('parting', 1890), ('party', 1891), ('pass', 1892), ('passage', 1893), ('passage,', 1894), ('passage;', 1895), ('passed', 1896), ('passenger', 1897), ('passengers', 1898), ('past', 1899), ('path', 1900), ('paths', 1901), ('patient', 1902), ('patina—engraved,', 1903), ('patriarchs', 1904), ('pause,', 1905), ('peculiar', 1906), ('peering', 1907), ('pencil', 1908), ('pencils', 1909), ('pencils,', 1910), ('penetrated', 1911), ('penny', 1912), ('pensive', 1913), ('people', 1914), ('perfectly,', 1915), ('perfume', 1916), ('perhaps', 1917), ('perhaps,', 1918), ('period', 1919), ('permit', 1920), ('permitted', 1921), ('persever', 1922), ('person', 1923), ('person,', 1924), ('personages', 1925), ('perspiring', 1926), ('persuaded', 1927), ('phrase', 1928), ('picked', 1929), ('picture-book,', 1930), ('pictures', 1931), ('pile', 1932), ('pipe', 1933), ('pity', 1934), ('place', 1935), ('place,', 1936), ('placed', 1937), ('places', 1938), ('plain', 1939), ('plainly', 1940), ('plan', 1941), ('plan,', 1942), ('plans', 1943), ('plate', 1944), ('plates', 1945), ('plates,', 1946), ('plays,', 1947), ('pleaded,', 1948), ('pleasant', 1949), ('pleasant,', 1950), ('pleasantry', 1951), ('please', 1952), ('please,', 1953), ('pleased', 1954), ('pleased,', 1955), ('pleasure', 1956), ('pleasure,', 1957), ('plunge', 1958), ('plunged', 1959), ('point', 1960), ('point,', 1961), ('pointed', 1962), ('pole', 1963), ('poor', 1964), ('pore', 1965), ('pored', 1966), ('portion', 1967), ('portrait', 1968), ('position', 1969), ('possess', 1970), ('posse—for', 1971), ('possibilities', 1972), ('possibility', 1973), ('possible', 1974), ('possibly', 1975), ('posts,', 1976), ('pounce', 1977), ('practically', 1978), ('preceded', 1979), ('precincts', 1980), ('predecessor', 1981), ('predisposition', 1982), ('prelude', 1983), ('prepared', 1984), ('prepared,', 1985), ('present,', 1986), ('press', 1987), ('pressed', 1988), ('pretty', 1989), ('princeps', 1990), ('probability', 1991), ('probable', 1992), ('probably', 1993), ('probate', 1994), ('proceeded', 1995), ('procurable', 1996), ('procure', 1997), ('procured', 1998), ('produced', 1999), ('profuse', 2000), ('progress', 2001), ('promise', 2002), ('proper', 2003), ('property', 2004), ('proportioned—a', 2005), ('proposition', 2006), ('propriety', 2007), ('prospect', 2008), ('proved', 2009), ('proverb', 2010), ('provided', 2011), ('publish', 2012), ('pulled', 2013), ('pulling', 2014), ('purpose', 2015), ('purpose,', 2016), ('purposely', 2017), ('purposes', 2018), ('pursue', 2019), ('pursued', 2020), ('pursuits', 2021), ('pushed', 2022), ('put', 2023), ('puzzle;', 2024), ('puzzled,', 2025), ('quantity', 2026), ('quarter', 2027), ('quarto,', 2028), ('question', 2029), ('quiet', 2030), ('quietly', 2031), ('quite', 2032), ('quo,', 2033), ('rain', 2034), ('rainy', 2035), ('raised', 2036), ('raisonné', 2037), ('ran', 2038), ('range', 2039), ('rare', 2040), ('rarer', 2041), ('rate', 2042), ('rather', 2043), ('re', 2044), ('reach', 2045), ('reached', 2046), ('read', 2047), ('read,', 2048), ('reading', 2049), ('ready', 2050), ('real', 2051), ('really', 2052), ('reason', 2053), ('reason,', 2054), ('reasonably', 2055), ('received', 2056), ('recent', 2057), ('reckon', 2058), ('reckoned', 2059), ('recollect', 2060), ('recollection', 2061), ('reconstruct', 2062), ('record', 2063), ('rector', 2064), ('red,', 2065), ('red-brick', 2066), ('red-letter', 2067), ('reflected', 2068), ('reflected,', 2069), ('regard', 2070), ('regret,', 2071), ('regular', 2072), ('regularly', 2073), ('rejoin', 2074), ('rejoycing', 2075), ('rejoycing,', 2076), ('relation', 2077), ('release', 2078), ('relief;', 2079), ('reliefs', 2080), ('remained', 2081), ('remark,', 2082), ('remarks', 2083), ('remember', 2084), ('remember,', 2085), ('remembered', 2086), ('reminded', 2087), ('reminds', 2088), ('remove', 2089), ('removed', 2090), ('render', 2091), ('renewed', 2092), ('repeated', 2093), ('reply', 2094), ('report', 2095), ('request', 2096), ('require', 2097), ('required', 2098), ('requiring;', 2099), ('resembled', 2100), ('resembling', 2101), ('resented', 2102), ('residence', 2103), ('respect', 2104), ('respectable', 2105), ('respected', 2106), ('rest', 2107), ('rested', 2108), ('resting-place', 2109), ('restless', 2110), ('result', 2111), ('retired', 2112), ('retracing', 2113), ('retreat', 2114), ('return', 2115), ('revelation', 2116), ('revive', 2117), ('reward', 2118), ('richest', 2119), ('ride', 2120), ('right', 2121), ('right,', 2122), ('right;', 2123), ('ring', 2124), ('rises', 2125), ('rising', 2126), ('road', 2127), ('robes', 2128), ('roll', 2129), ('rolling', 2130), ('roof', 2131), ('room', 2132), ('rooms', 2133), ('rose', 2134), ('rotten', 2135), ('rough', 2136), ('round', 2137), ('round,', 2138), ('rubbed', 2139), ('rubbing', 2140), ('ruined', 2141), ('ruminating', 2142), ('run', 2143), ('run,', 2144), ('running', 2145), ('s', 2146), ('sad', 2147), ('safe', 2148), ('said', 2149), ('said,', 2150), ('said;', 2151), ('said—that', 2152), ('same', 2153), ('satisfaction', 2154), ('satisfactory,', 2155), ('satisfied', 2156), ('save', 2157), ('saving', 2158), ('saw', 2159), ('saw,', 2160), ('say', 2161), ('say,', 2162), ('saying', 2163), ('says', 2164), ('says,', 2165), ('scale', 2166), ('scaling', 2167), ('scanning', 2168), ('scene', 2169), ('scene,', 2170), ('scheme', 2171), ('scientific', 2172), ('scratches,', 2173), ('scythes', 2174), ('se', 2175), ('season', 2176), ('seasonable,', 2177), ('seasons', 2178), ('second', 2179), ('seconded', 2180), ('secretary,', 2181), ('see', 2182), ('see,', 2183), ('seeing', 2184), ('seek', 2185), ('seem', 2186), ('seemed', 2187), ('seeming', 2188), ('seems', 2189), ('seen', 2190), ('seen,', 2191), ('sees', 2192), ('send', 2193), ('sense', 2194), ('sensible', 2195), ('sepulchral', 2196), ('series', 2197), ('sermons', 2198), ('serpent—Draco—encircled', 2199), ('servant', 2200), ('serve', 2201), ('set', 2202), ('settled', 2203), ('seventeenth', 2204), ('seventies', 2205), ('several,', 2206), ('shadow', 2207), ('shaggy', 2208), ('shaken', 2209), ('shaking', 2210), ('shall', 2211), ('shan', 2212), ('shape', 2213), ('she', 2214), ('she,', 2215), ('sheepish', 2216), ('sheet', 2217), ('shew', 2218), ('shift', 2219), ('shilling', 2220), ('shining', 2221), ('shiny', 2222), ('shipwreck', 2223), ('shock', 2224), ('shook', 2225), ('shop', 2226), ('short', 2227), ('short,', 2228), ('should', 2229), ('shouldn', 2230), ('shouts', 2231), ('show', 2232), ('showed', 2233), ('showed,', 2234), ('shower', 2235), ('showing', 2236), ('shrill', 2237), ('shrub', 2238), ('shrubbery', 2239), ('shrubbery,', 2240), ('shut', 2241), ('sides', 2242), ('sight', 2243), ('signosier', 2244), ('sill', 2245), ('similar', 2246), ('since', 2247), ('single', 2248), ('singular', 2249), ('sir', 2250), ('sir,', 2251), ('size', 2252), ('skies', 2253), ('sky-high', 2254), ('sleep', 2255), ('sleep,', 2256), ('slept', 2257), ('slept,', 2258), ('slight', 2259), ('slightly', 2260), ('slipped', 2261), ('slopes', 2262), ('slowly', 2263), ('small', 2264), ('smaller', 2265), ('smell', 2266), ('smiling', 2267), ('snaky', 2268), ('snuff', 2269), ('so', 2270), ('so,', 2271), ('soap,', 2272), ('solemn', 2273), ('solution', 2274), ('some', 2275), ('somebody', 2276), ('something', 2277), ('sometimes', 2278), ('somewhat', 2279), ('son', 2280), ('sonorous', 2281), ('soon', 2282), ('sore', 2283), ('sorry', 2284), ('sorry—dolebat', 2285), ('sort', 2286), ('sorts', 2287), ('sound;', 2288), ('sounds', 2289), ('source', 2290), ('space', 2291), ('spare', 2292), ('speaking,', 2293), ('special', 2294), ('specimen', 2295), ('speculations', 2296), ('spent', 2297), ('spite', 2298), ('splendid', 2299), ('spoken', 2300), ('spot', 2301), ('spring', 2302), ('squander', 2303), ('square', 2304), ('stables', 2305), ('stand', 2306), ('standing', 2307), ('standstill', 2308), ('stared', 2309), ('start', 2310), ('starting-point', 2311), ('stated', 2312), ('station', 2313), ('station,', 2314), ('stationed', 2315), ('stationmaster', 2316), ('statu', 2317), ('stay', 2318), ('step', 2319), ('stepped', 2320), ('steps', 2321), ('stick', 2322), ('sticks', 2323), ('still', 2324), ('still,', 2325), ('stillness;', 2326), ('stock', 2327), ('stone', 2328), ('stone,', 2329), ('stones', 2330), ('stood', 2331), ('stop', 2332), ('stop,', 2333), ('stopped', 2334), ('stopped,', 2335), ('store', 2336), ('stored', 2337), ('story', 2338), ('stout', 2339), ('straight', 2340), ('straining', 2341), ('strategy,', 2342), ('street', 2343), ('stretching', 2344), ('strikes', 2345), ('string', 2346), ('strolled', 2347), ('strong', 2348), ('stronger', 2349), ('stronger—a', 2350), ('struck', 2351), ('studious', 2352), ('study', 2353), ('stuff', 2354), ('stuffy', 2355), ('stumbled', 2356), ('stumbling-block—his', 2357), ('stumped', 2358), ('stupid', 2359), ('style', 2360), ('subject,', 2361), ('subjects', 2362), ('successfully', 2363), ('such', 2364), ('such-an-one', 2365), ('sudden', 2366), ('suddenly', 2367), ('suddent', 2368), ('suffer', 2369), ('suffered', 2370), ('sufficient', 2371), ('suggest', 2372), ('suggested', 2373), ('suggesting', 2374), ('suggestions', 2375), ('suggestion—decided', 2376), ('suit', 2377), ('summed', 2378), ('summer', 2379), ('summer-house', 2380), ('summit', 2381), ('summon', 2382), ('summoned', 2383), ('summons', 2384), ('sun', 2385), ('sundial;', 2386), ('sundials', 2387), ('superficial', 2388), ('suppos', 2389), ('suppose', 2390), ('suppose,', 2391), ('supposed', 2392), ('supposing', 2393), ('sure', 2394), ('sure,', 2395), ('sure;', 2396), ('surely', 2397), ('sure—will', 2398), ('surface', 2399), ('surprised', 2400), ('surprising', 2401), ('surrounded', 2402), ('survived;', 2403), ('sweat', 2404), ('sweet', 2405), ('switched', 2406), ('sworn', 2407), ('symptoms,', 2408), ('system,', 2409), ('systematic', 2410), ('t', 2411), ('t,', 2412), ('table', 2413), ('tablet', 2414), ('tail', 2415), ('take', 2416), ('taken', 2417), ('takin', 2418), ('taking', 2419), ('talk', 2420), ('tall', 2421), ('tape', 2422), ('tapped', 2423), ('tapping', 2424), ('taste', 2425), ('taste,', 2426), ('tea,', 2427), ('tea-time', 2428), ('teenets,', 2429), ('telegram', 2430), ('tell', 2431), ('temperament', 2432), ('temple', 2433), ('temple,', 2434), ('ten', 2435), ('tenebrarum', 2436), ('tentacles', 2437), ('terrestrial', 2438), ('terrible', 2439), ('terror', 2440), ('than', 2441), ('thank', 2442), ('thanked', 2443), ('thanks', 2444), ('thanks;', 2445), ('that', 2446), ('that,', 2447), ('that;', 2448), ('the', 2449), ('their', 2450), ('theirs', 2451), ('them', 2452), ('them,', 2453), ('them;', 2454), ('themselves', 2455), ('themselves,', 2456), ('them—and', 2457), ('then', 2458), ('then,', 2459), ('there', 2460), ('there,', 2461), ('thereabouts', 2462), ('therefore', 2463), ('thereof', 2464), ('these', 2465), ('they', 2466), ('thick', 2467), ('thick—and,', 2468), ('thin', 2469), ('thin,', 2470), ('thing', 2471), ('thing,', 2472), ('things', 2473), ('things,', 2474), ('think', 2475), ('think,', 2476), ('thinking', 2477), ('third', 2478), ('third,', 2479), ('thirty', 2480), ('this', 2481), ('this———', 2482), ('thorough', 2483), ('thoroughly', 2484), ('those', 2485), ('though', 2486), ('thought', 2487), ('thought,', 2488), ('thoughts', 2489), ('threatening', 2490), ('three', 2491), ('three-quarters', 2492), ('threw', 2493), ('throat', 2494), ('through', 2495), ('throw', 2496), ('thus', 2497), ('ticket', 2498), ('tied', 2499), ('tiles', 2500), ('till', 2501), ('time', 2502), ('time,', 2503), ('times', 2504), ('tired', 2505), ('tis', 2506), ('titles', 2507), ('to', 2508), ('to,', 2509), ('to-day,', 2510), ('to-morrow', 2511), ('to-night', 2512), ('together', 2513), ('together,', 2514), ('together;', 2515), ('told', 2516), ('told,', 2517), ('toll', 2518), ('too', 2519), ('too,', 2520), ('took', 2521), ('top', 2522), ('topic', 2523), ('topic,', 2524), ('topography', 2525), ('touching', 2526), ('tour', 2527), ('towards', 2528), ('town', 2529), ('towns—most', 2530), ('trace', 2531), ('traced', 2532), ('tracing', 2533), ('track', 2534), ('tradition', 2535), ('train', 2536), ('transactions', 2537), ('traveller', 2538), ('traversed', 2539), ('treacle,', 2540), ('tread', 2541), ('treasures', 2542), ('tree,', 2543), ('trees', 2544), ('trod', 2545), ('trouble', 2546), ('trouble,', 2547), ('troubled', 2548), ('true', 2549), ('truly', 2550), ('trust', 2551), ('trusted', 2552), ('try,', 2553), ('trying', 2554), ('tub', 2555), ('turfy', 2556), ('turn', 2557), ('turned', 2558), ('turning', 2559), ('turnings', 2560), ('twas', 2561), ('twenty', 2562), ('twice', 2563), ('twine', 2564), ('two', 2565), ('two,', 2566), ('tying', 2567), ('ugly', 2568), ('umbra', 2569), ('unable', 2570), ('unaided', 2571), ('unannealed', 2572), ('uncle', 2573), ('uncle,', 2574), ('uncle——', 2575), ('uncommon', 2576), ('undeniably', 2577), ('under', 2578), ('underside', 2579), ('understand', 2580), ('understood', 2581), ('undrawn', 2582), ('unexpectedly—a', 2583), ('unfamiliar', 2584), ('unfolded', 2585), ('unfortunate', 2586), ('unfortunately', 2587), ('unfortunates', 2588), ('unhealthy,', 2589), ('uninfluenced', 2590), ('unique', 2591), ('unknown', 2592), ('unless', 2593), ('unlike', 2594), ('unnerving', 2595), ('unorthodox', 2596), ('unpleasant', 2597), ('unreadableness', 2598), ('unsightly', 2599), ('until', 2600), ('untrimmed,', 2601), ('unusual', 2602), ('unusually', 2603), ('up', 2604), ('up,', 2605), ('up;', 2606), ('upon', 2607), ('upper', 2608), ('upsetting;', 2609), ('upwards', 2610), ('upwards—towards', 2611), ('urgent', 2612), ('us', 2613), ('us,', 2614), ('use', 2615), ('useless', 2616), ('using', 2617), ('using,', 2618), ('usually', 2619), ('usurped', 2620), ('utterly', 2621), ('valentudinarian', 2622), ('valley', 2623), ('vallis', 2624), ('vandalism', 2625), ('various', 2626), ('vault', 2627), ('ve', 2628), ('venture,', 2629), ('very', 2630), ('vexed', 2631), ('vibrate', 2632), ('view', 2633), ('viewing', 2634), ('views', 2635), ('views,', 2636), ('village', 2637), ('visible', 2638), ('visit', 2639), ('visit;', 2640), ('visiting', 2641), ('visitors', 2642), ('vitality', 2643), ('voice,', 2644), ('wait,', 2645), ('waiting', 2646), ('walk', 2647), ('walks,', 2648), ('wall', 2649), ('wall,', 2650), ('wanderings,', 2651), ('want', 2652), ('want,', 2653), ('wanted', 2654), ('wanted,', 2655), ('wanting', 2656), ('warm', 2657), ('was', 2658), ('was,', 2659), ('wasp', 2660), ('wasting', 2661), ('was—not', 2662), ('watch', 2663), ('waving', 2664), ('way', 2665), ('way,', 2666), ('we', 2667), ('we,', 2668), ('wearing', 2669), ('weather', 2670), ('weeds', 2671), ('weeks', 2672), ('weeping', 2673), ('welcome', 2674), ('well', 2675), ('well,', 2676), ('well-being;', 2677), ('well-nigh', 2678), ('went', 2679), ('were', 2680), ('west', 2681), ('wet', 2682), ('wet,', 2683), ('what', 2684), ('whatever', 2685), ('whatsoever', 2686), ('when', 2687), ('where', 2688), ('whereas', 2689), ('wherein', 2690), ('wherewith', 2691), ('whether', 2692), ('which', 2693), ('which,', 2694), ('while', 2695), ('while;', 2696), ('whisky', 2697), ('white', 2698), ('who', 2699), ('who,', 2700), ('whole', 2701), ('whole,', 2702), ('wholly', 2703), ('whom', 2704), ('whose', 2705), ('why', 2706), ('wide', 2707), ('wife', 2708), ('will', 2709), ('will,', 2710), ('wind', 2711), ('window', 2712), ('window,', 2713), ('windows', 2714), ('winds', 2715), ('winged', 2716), ('wings', 2717), ('wings,', 2718), ('winter', 2719), ('wish', 2720), ('wish,', 2721), ('wishes,', 2722), ('with', 2723), ('with,', 2724), ('within', 2725), ('without', 2726), ('women', 2727), ('won', 2728), ('wonder', 2729), ('wonderfully', 2730), ('wondering', 2731), ('wood', 2732), ('wooded', 2733), ('woods', 2734), ('woods,', 2735), ('word', 2736), ('words', 2737), ('words,', 2738), ('words—is', 2739), ('work', 2740), ('work;', 2741), ('worked', 2742), ('works', 2743), ('world', 2744), ('world—a', 2745), ('worn', 2746), ('worse—since', 2747), ('worth', 2748), ('wot', 2749), ('would', 2750), ('wouldn', 2751), ('writer', 2752), ('writhings', 2753), ('wrongly', 2754), ('wrought', 2755), ('year', 2756), ('years', 2757), ('years,', 2758), ('yes', 2759), ('yes,', 2760), ('yesterday,', 2761), ('yet', 2762), ('yet,', 2763), ('yet;', 2764), ('yet—you', 2765), ('yew', 2766), ('yew,', 2767), ('yon', 2768), ('you', 2769), ('you,', 2770), ('young', 2771), ('your', 2772), ('yours,', 2773), ('yourself', 2774), ('yourself,', 2775), ('—', 2776), ('—I', 2777), ('—would', 2778), ('‘', 2779), ('’', 2780), ('“', 2781), ('”', 2782)])"
      ]
     },
     "execution_count": 70,
     "metadata": {},
     "output_type": "execute_result"
    }
   ],
   "source": [
    "vocab = { token:index for index, token in enumerate(tokens)}\n",
    "vocab.items()"
   ]
  },
  {
   "cell_type": "code",
   "execution_count": 14,
   "id": "5c3bde2c",
   "metadata": {},
   "outputs": [
    {
     "name": "stdout",
     "output_type": "stream",
     "text": [
      "It deserved the epithet on the whole: but it was oddly proportioned—a very tall red-brick house, with a plain parapet concealing the roof almost entirely.\n"
     ]
    }
   ],
   "source": [
    "phrase = \"It deserved the epithet on the whole: but it was oddly proportioned—a very tall red-brick house, with a plain parapet concealing the roof almost entirely.\"\n",
    "print(phrase)"
   ]
  },
  {
   "cell_type": "code",
   "execution_count": 15,
   "id": "62e8e282",
   "metadata": {},
   "outputs": [
    {
     "name": "stdout",
     "output_type": "stream",
     "text": [
      "['It', 'deserved', 'the', 'epithet', 'on', 'the', 'whole', ':', 'but', 'it', 'was', 'oddly', 'proportioned—a', 'very', 'tall', 'red-brick', 'house,', 'with', 'a', 'plain', 'parapet', 'concealing', 'the', 'roof', 'almost', 'entirely', '.']\n"
     ]
    }
   ],
   "source": [
    "phrase = re.split( r'([.?!:())\"\\'“”‘’^]|\\s)', phrase)\n",
    "phrase = [ item for item in phrase if item.split() ]\n",
    "print(phrase)"
   ]
  },
  {
   "cell_type": "code",
   "execution_count": 16,
   "id": "00650e6f",
   "metadata": {},
   "outputs": [
    {
     "name": "stdout",
     "output_type": "stream",
     "text": [
      "[205, 900, 2447, 1030, 1815, 2447, 2699, 11, 662, 1465, 2656, 1800, 2003, 2628, 2419, 2064, 1373, 2721, 414, 1937, 1877, 769, 2447, 2129, 475, 1025, 6]\n"
     ]
    }
   ],
   "source": [
    "ids = [ vocab[token] for token in phrase]\n",
    "print(ids)"
   ]
  },
  {
   "cell_type": "code",
   "execution_count": 17,
   "id": "8d1f1912",
   "metadata": {},
   "outputs": [
    {
     "data": {
      "text/plain": [
       "2003"
      ]
     },
     "execution_count": 17,
     "metadata": {},
     "output_type": "execute_result"
    }
   ],
   "source": [
    "vocab[ \"proportioned—a\"]"
   ]
  },
  {
   "cell_type": "code",
   "execution_count": 18,
   "id": "488a372f",
   "metadata": {},
   "outputs": [
    {
     "data": {
      "text/plain": [
       "dict_items([(0, '!'), (1, '\"'), (2, \"'\"), (3, '('), (4, ')'), (5, ','), (6, '.'), (7, '1770'), (8, '1780,'), (9, '1866,'), (10, '1870'), (11, ':'), (12, '?'), (13, 'A'), (14, 'ABOUT'), (15, 'Above'), (16, 'Absolon'), (17, 'Abulensis,'), (18, 'Accordingly'), (19, 'Accordingly,'), (20, 'Account'), (21, 'Admirable'), (22, 'Adventurer'), (23, 'Advise'), (24, 'After'), (25, 'Age,'), (26, 'Ah'), (27, 'All'), (28, 'Alley'), (29, 'Alleys'), (30, 'Almost'), (31, 'Also'), (32, 'And'), (33, 'And,'), (34, 'Another,'), (35, 'Anticipations'), (36, 'Anxieties'), (37, 'Anyhow'), (38, 'Anyhow,'), (39, 'Are'), (40, 'Ariadne'), (41, 'Around'), (42, 'As'), (43, 'Ashes'), (44, 'At'), (45, 'Attick'), (46, 'August'), (47, 'Ay'), (48, 'Band'), (49, 'Bars'), (50, 'Beasts'), (51, 'Beds'), (52, 'Before'), (53, 'Bell'), (54, 'Bentley'), (55, 'Bentley,'), (56, 'Body'), (57, 'Book'), (58, 'Brasnett'), (59, 'Breast'), (60, 'Breath'), (61, 'Brother'), (62, 'Busbury'), (63, 'But'), (64, 'But,'), (65, 'C'), (66, 'Cain'), (67, 'Calton'), (68, 'Calton,'), (69, 'Calton;'), (70, 'Caltons'), (71, 'Can'), (72, 'Candle'), (73, 'Case'), (74, 'Catalogue'), (75, 'Centre'), (76, 'Ceremonies,'), (77, 'Certain'), (78, 'Certainly,'), (79, 'Chore,'), (80, 'Clark'), (81, 'Classics'), (82, 'Clutterham'), (83, 'Clutterham,'), (84, 'Colosseum'), (85, 'Companion'), (86, 'Company'), (87, 'Condition,'), (88, 'Conference'), (89, 'Consider'), (90, 'Constructed'), (91, 'Cooper'), (92, 'Cooper,'), (93, 'Coopers'), (94, 'Could'), (95, 'Country'), (96, 'Course'), (97, 'Court'), (98, 'Covent'), (99, 'Crack'), (100, 'Cracking'), (101, 'Creature'), (102, 'Cries'), (103, 'Curious'), (104, 'Dante'), (105, 'Darkness'), (106, 'Darkness,'), (107, 'Dawn'), (108, 'Day'), (109, 'Death'), (110, 'Did'), (111, 'Difficulty'), (112, 'Disorder'), (113, 'Disswasion'), (114, 'Do'), (115, 'Don'), (116, 'Draco'), (117, 'During'), (118, 'Eastern'), (119, 'Echo,'), (120, 'Editions'), (121, 'Elder'), (122, 'Emblem'), (123, 'England'), (124, 'Errand'), (125, 'Eventually'), (126, 'Everything,'), (127, 'Exertion'), (128, 'Eyes'), (129, 'Face,'), (130, 'Faces'), (131, 'Far'), (132, 'Fashion'), (133, 'Fathers,'), (134, 'Fault'), (135, 'Fear'), (136, 'Fear,'), (137, 'Feet'), (138, 'Finder'), (139, 'First'), (140, 'Fits'), (141, 'Followers'), (142, 'For'), (143, 'Forest'), (144, 'Form'), (145, 'Foster'), (146, 'Foster,'), (147, 'Friday—he'), (148, 'Friends'), (149, 'Friendship'), (150, 'Gardens,'), (151, 'Gate'), (152, 'Gates,'), (153, 'General'), (154, 'George'), (155, 'Glad'), (156, 'Good-bye'), (157, 'Good-night'), (158, 'Government'), (159, 'Grateful'), (160, 'Guide'), (161, 'Hall'), (162, 'Hampshire—had'), (163, 'Hampton'), (164, 'Handel'), (165, 'Hardly'), (166, 'Harleian'), (167, 'Have'), (168, 'Hazard'), (169, 'He'), (170, 'Hearers'), (171, 'Heart'), (172, 'Her'), (173, 'Hercules'), (174, 'Here'), (175, 'Hinnom'), (176, 'His'), (177, 'Holds'), (178, 'Home,'), (179, 'Horrour'), (180, 'Hostanes'), (181, 'Hound'), (182, 'How'), (183, 'However'), (184, 'However,'), (185, 'Humphreys'), (186, 'Humphreys,'), (187, 'Humphreys;'), (188, 'Humphreys—just'), (189, 'Humphreys—open'), (190, 'Humphreys—that'), (191, 'Humphreys—the'), (192, 'I'), (193, 'I,'), (194, 'If'), (195, 'Ill'), (196, 'Image'), (197, 'In'), (198, 'Indies,'), (199, 'Inhabitants'), (200, 'Ink'), (201, 'Inside'), (202, 'Intelligence'), (203, 'Irish'), (204, 'Is'), (205, 'It'), (206, 'Italian'), (207, 'Italian,'), (208, 'Italy'), (209, 'Itll'), (210, 'Its'), (211, 'James'), (212, 'Jewel'), (213, 'Jewel,'), (214, 'Job,'), (215, 'Just'), (216, 'Labyrinth'), (217, 'Labyrinth;'), (218, 'Lady'), (219, 'Later'), (220, 'London'), (221, 'Man'), (222, 'Many,'), (223, 'May'), (224, 'Maze'), (225, 'Maze,'), (226, 'Mazes,'), (227, 'Meaning'), (228, 'Meaning,'), (229, 'Means'), (230, 'Midnight'), (231, 'Midst'), (232, 'Miscellany,'), (233, 'Miss'), (234, 'Moment'), (235, 'Monday'), (236, 'Morning,'), (237, 'Mortal'), (238, 'Most'), (239, 'Mother'), (240, 'Mourners'), (241, 'Mr'), (242, 'Mr,'), (243, 'Mrs'), (244, 'My'), (245, 'Name'), (246, 'Near'), (247, 'Nearer'), (248, 'Neighbour'), (249, 'Never'), (250, 'Next'), (251, 'Night'), (252, 'Night,'), (253, 'No'), (254, 'No,'), (255, 'No-o,'), (256, 'None'), (257, 'Not'), (258, 'Nothing'), (259, 'Now'), (260, 'Now,'), (261, 'Noyse'), (262, 'No—it'), (263, 'O'), (264, 'Odd'), (265, 'Of'), (266, 'Oh'), (267, 'Oh,'), (268, 'On'), (269, 'Once'), (270, 'One'), (271, 'Only'), (272, 'Ophiuchus,'), (273, 'Or'), (274, 'Ought'), (275, 'Out'), (276, 'Pace'), (277, 'Pains'), (278, 'Palisadoes'), (279, 'Palmer'), (280, 'Palmer,'), (281, 'Parable'), (282, 'Parallel'), (283, 'Parish'), (284, 'Patience'), (285, 'Pause,'), (286, 'Penetrans'), (287, 'Perhaps'), (288, 'Picart'), (289, 'Piece'), (290, 'Pineda'), (291, 'Pit'), (292, 'Pitch'), (293, 'Pitfalls'), (294, 'Pleasure'), (295, 'Pleasures'), (296, 'Price'), (297, 'Prodigal'), (298, 'Purpose'), (299, 'Pursuers'), (300, 'Quid'), (301, 'Rarity'), (302, 'Reader'), (303, 'Really'), (304, 'Really,'), (305, 'Recital'), (306, 'Recollection'), (307, 'Recompence'), (308, 'Rectory,'), (309, 'Relation'), (310, 'Religious'), (311, 'Rest'), (312, 'Roadway,'), (313, 'Rome'), (314, 'Rustling'), (315, 'Sabbath,'), (316, 'Satisfaction'), (317, 'Scent'), (318, 'Second'), (319, 'Secretum'), (320, 'September,'), (321, 'She'), (322, 'Shouting,'), (323, 'Sibyl'), (324, 'Snares,'), (325, 'So'), (326, 'Some'), (327, 'Something'), (328, 'Sometimes'), (329, 'Son'), (330, 'Sound'), (331, 'Spirits'), (332, 'Starts'), (333, 'Still,'), (334, 'Stillness'), (335, 'Stomach'), (336, 'Sun'), (337, 'Susanna'), (338, 'Swound'), (339, 'T'), (340, 'Tale,'), (341, 'Talk'), (342, 'Tea'), (343, 'Tears'), (344, 'Temple'), (345, 'Thank'), (346, 'That'), (347, 'That,'), (348, 'The'), (349, 'Their'), (350, 'Then'), (351, 'There'), (352, 'These'), (353, 'These,'), (354, 'Theseus'), (355, 'Theseus,'), (356, 'They'), (357, 'Thickets;'), (358, 'This'), (359, 'Though'), (360, 'Thus,'), (361, 'Till'), (362, 'Time'), (363, 'Tivoli,'), (364, 'To-day'), (365, 'Topiary'), (366, 'Tostatus'), (367, 'Towards'), (368, 'Trampling'), (369, 'Trap,'), (370, 'Treasure'), (371, 'Troubles,'), (372, 'Umphreys—these'), (373, 'Unhappy'), (374, 'Unless,'), (375, 'Upon'), (376, 'Upright,'), (377, 'Very'), (378, 'Voice'), (379, 'Voice,'), (380, 'Voyage'), (381, 'Wallet,'), (382, 'Wardrop'), (383, 'Wardrop—I'), (384, 'Way'), (385, 'We'), (386, 'Well'), (387, 'Well,'), (388, 'What'), (389, 'What,'), (390, 'When'), (391, 'Where'), (392, 'Whereupon'), (393, 'Whether'), (394, 'Whew'), (395, 'Which'), (396, 'Whispering,'), (397, 'Who,'), (398, 'Why,'), (399, 'William'), (400, 'Wilson'), (401, 'Wilson,'), (402, 'Wilson—I'), (403, 'Wilsthorpe'), (404, 'Wilsthorpe,'), (405, 'With'), (406, 'Wits'), (407, 'Wizard'), (408, 'World'), (409, 'Would'), (410, 'Yes'), (411, 'Yes,'), (412, 'You'), (413, 'Your'), (414, 'a'), (415, 'ability'), (416, 'able'), (417, 'able,'), (418, 'about'), (419, 'above'), (420, 'abroad'), (421, 'absence'), (422, 'absolute'), (423, 'absorbed'), (424, 'absorbing'), (425, 'accessible,'), (426, 'accommodate'), (427, 'according'), (428, 'accordingly,'), (429, 'account,'), (430, 'accustomed'), (431, 'acquaintance'), (432, 'across'), (433, 'act'), (434, 'acting'), (435, 'ad'), (436, 'add'), (437, 'added'), (438, 'address'), (439, 'addressed'), (440, 'addressing'), (441, 'admirably'), (442, 'admission'), (443, 'adorned'), (444, 'adventure'), (445, 'adventured'), (446, 'afar'), (447, 'afraid'), (448, 'after'), (449, 'after-dinner'), (450, 'afternoon'), (451, 'afternoon,'), (452, 'afternoon;'), (453, 'afterwards'), (454, 'again'), (455, 'again,'), (456, 'again;'), (457, 'against'), (458, 'age'), (459, 'ago'), (460, 'ago,'), (461, 'agonising'), (462, 'agree'), (463, 'agreeable'), (464, 'agreed'), (465, 'ain'), (466, 'airlessness'), (467, 'alighted,'), (468, 'alike,'), (469, 'all'), (470, 'all,'), (471, 'alley,'), (472, 'alleys'), (473, 'allow'), (474, 'allusion,'), (475, 'almost'), (476, 'alone'), (477, 'alone,'), (478, 'along'), (479, 'already'), (480, 'also'), (481, 'also,'), (482, 'altogether'), (483, 'always'), (484, 'am'), (485, 'among'), (486, 'an'), (487, 'ancestor'), (488, 'ancient'), (489, 'and'), (490, 'and,'), (491, 'and—at'), (492, 'angels'), (493, 'announcement'), (494, 'annoying,'), (495, 'another'), (496, 'answer'), (497, 'answer,'), (498, 'answering'), (499, 'anxiety'), (500, 'anxious'), (501, 'any'), (502, 'anything'), (503, 'anythink'), (504, 'apologies'), (505, 'apparently'), (506, 'appearance'), (507, 'appeared,'), (508, 'apple'), (509, 'application'), (510, 'applying'), (511, 'approach'), (512, 'approached'), (513, 'appropriate'), (514, 'approve'), (515, 'aptitudes'), (516, 'archway'), (517, 'are'), (518, 'aright,'), (519, 'arms'), (520, 'arms,'), (521, 'arose'), (522, 'around'), (523, 'arrangement,'), (524, 'arrived'), (525, 'arrived,'), (526, 'artists'), (527, 'as'), (528, 'as,'), (529, 'ashamed'), (530, 'ashes'), (531, 'ask'), (532, 'asked'), (533, 'asked,'), (534, 'asking'), (535, 'assemblage'), (536, 'assert'), (537, 'assigned'), (538, 'assist'), (539, 'assist,'), (540, 'associations'), (541, 'assumed'), (542, 'assure'), (543, 'at'), (544, 'attempt'), (545, 'attempted'), (546, 'attended'), (547, 'attending'), (548, 'attention'), (549, 'attitude'), (550, 'attract'), (551, 'aught'), (552, 'aunt'), (553, 'author'), (554, 'autumn'), (555, 'available'), (556, 'awaiting'), (557, 'awaits'), (558, 'away'), (559, 'away,'), (560, 'awkward,'), (561, 'a—well,'), (562, 'back'), (563, 'back,'), (564, 'background'), (565, 'bad'), (566, 'badly'), (567, 'bailiff'), (568, 'bailiff,'), (569, 'ball'), (570, 'basement,'), (571, 'bat'), (572, 'bat,'), (573, 'be'), (574, 'be,'), (575, 'bear'), (576, 'beard'), (577, 'beaten'), (578, 'beauty'), (579, 'became'), (580, 'because'), (581, 'because,'), (582, 'beckoned'), (583, 'becoming'), (584, 'becoming,'), (585, 'bed'), (586, 'bedding,'), (587, 'bedroom'), (588, 'been'), (589, 'before'), (590, 'before,'), (591, 'began'), (592, 'begin'), (593, 'beginning'), (594, 'begun'), (595, 'behalf'), (596, 'behind'), (597, 'being'), (598, 'believe'), (599, 'belong'), (600, 'below'), (601, 'bending'), (602, 'besides'), (603, 'besides,'), (604, 'best'), (605, 'bestowed'), (606, 'bet'), (607, 'betake'), (608, 'better'), (609, 'between'), (610, 'betwixt'), (611, 'bewildered'), (612, 'bewilderment'), (613, 'bid'), (614, 'binding,'), (615, 'bindweed'), (616, 'bit'), (617, 'bits'), (618, 'black'), (619, 'black,'), (620, 'blackish-grey'), (621, 'blank'), (622, 'block-puzzle'), (623, 'blocks'), (624, 'blow'), (625, 'book'), (626, 'books'), (627, 'bore'), (628, 'borrered'), (629, 'borrowed'), (630, 'both'), (631, 'bottle'), (632, 'bottom'), (633, 'bought'), (634, 'boundaries'), (635, 'bowl'), (636, 'boyhood'), (637, 'brain'), (638, 'brain,'), (639, 'bramble-bush'), (640, 'bramble-bush,'), (641, 'brambles'), (642, 'breadth'), (643, 'break'), (644, 'breezy'), (645, 'brief'), (646, 'bright,'), (647, 'brilliant'), (648, 'bring'), (649, 'brink'), (650, 'broke'), (651, 'brought'), (652, 'building'), (653, 'building,'), (654, 'built'), (655, 'bunch'), (656, 'burial'), (657, 'burnt'), (658, 'bush-thing'), (659, 'business'), (660, 'business,'), (661, 'busy,'), (662, 'but'), (663, 'but,'), (664, 'butler'), (665, 'by'), (666, 'by,'), (667, 'calculated'), (668, 'calendar'), (669, 'call'), (670, 'called'), (671, 'calm'), (672, 'calm,'), (673, 'came'), (674, 'came,'), (675, 'can'), (676, 'candles,'), (677, 'cannot'), (678, 'cannot,'), (679, 'cap,'), (680, 'car'), (681, 'care'), (682, 'careful'), (683, 'carefully'), (684, 'carrying'), (685, 'cart'), (686, 'cartridge'), (687, 'case'), (688, 'case,'), (689, 'cast'), (690, 'catalogue'), (691, 'catch'), (692, 'caught'), (693, 'ceasing'), (694, 'ceiling,'), (695, 'celestial'), (696, 'cellar'), (697, 'central'), (698, 'centre'), (699, 'centre,'), (700, 'century'), (701, 'certainly'), (702, 'certainly,'), (703, 'chair'), (704, 'chairs'), (705, 'change'), (706, 'change,'), (707, 'changed'), (708, 'changes'), (709, 'character'), (710, 'characteristic'), (711, 'cheerful'), (712, 'chest,—'), (713, 'chief'), (714, 'child'), (715, 'child,'), (716, 'chilly'), (717, 'chisel'), (718, 'church;'), (719, 'churches'), (720, 'circle'), (721, 'circular'), (722, 'circumstances'), (723, 'civil'), (724, 'claim'), (725, 'clambered'), (726, 'clasp'), (727, 'clear'), (728, 'clear,'), (729, 'cleared'), (730, 'clearing'), (731, 'clearly'), (732, 'clearness'), (733, 'clock,'), (734, 'close'), (735, 'closed'), (736, 'closely'), (737, 'closely,'), (738, 'club'), (739, 'clue'), (740, 'clump'), (741, 'coffee'), (742, 'coils'), (743, 'cold'), (744, 'collation'), (745, 'collect'), (746, 'collection'), (747, 'colour'), (748, 'colours'), (749, 'column'), (750, 'come'), (751, 'come,'), (752, 'comfortable'), (753, 'coming'), (754, 'commanded'), (755, 'common'), (756, 'commonly'), (757, 'companion'), (758, 'company,'), (759, 'compare'), (760, 'compass,'), (761, 'compasses,'), (762, 'complaint'), (763, 'complete'), (764, 'complete,'), (765, 'completely'), (766, 'compliments,'), (767, 'composition'), (768, 'concealed'), (769, 'concealing'), (770, 'conceits'), (771, 'concussion'), (772, 'condemnation'), (773, 'condition'), (774, 'conductor,'), (775, 'confer'), (776, 'confess,'), (777, 'confident'), (778, 'confident,'), (779, 'confinement'), (780, 'confirmed'), (781, 'confusion,'), (782, 'congenial'), (783, 'congeniality'), (784, 'conjecture'), (785, 'connoisseurs,'), (786, 'consciousness'), (787, 'consequential'), (788, 'consider'), (789, 'considerable'), (790, 'considerable—that'), (791, 'considerably—and'), (792, 'considered'), (793, 'constant'), (794, 'constellations,'), (795, 'constructed'), (796, 'constructor'), (797, 'consult'), (798, 'consulted'), (799, 'contact'), (800, 'contained'), (801, 'contemplating'), (802, 'contemplation'), (803, 'continuance'), (804, 'continued'), (805, 'contribute'), (806, 'contributed'), (807, 'conveniency,'), (808, 'conversation,'), (809, 'convex'), (810, 'conviction'), (811, 'convinced'), (812, 'convulsion'), (813, 'cook-housekeeper'), (814, 'copied'), (815, 'copy'), (816, 'copying'), (817, 'copy—an'), (818, 'cornice'), (819, 'correcting'), (820, 'cough'), (821, 'could'), (822, 'couldn'), (823, 'counterpane'), (824, 'country'), (825, 'country;'), (826, 'county;'), (827, 'couple'), (828, 'couple,'), (829, 'course'), (830, 'course,'), (831, 'covered'), (832, 'craned'), (833, 'creditable—most'), (834, 'creditable—of'), (835, 'creeping'), (836, 'cremation'), (837, 'cries'), (838, 'cross,'), (839, 'cross-lines'), (840, 'crouching'), (841, 'crucial'), (842, 'crushed'), (843, 'cup'), (844, 'cupboard'), (845, 'cupboards'), (846, 'curiosity'), (847, 'curtains'), (848, 'curve'), (849, 'cut'), (850, 'cutting'), (851, 'cyphers'), (852, 'd'), (853, 'd,'), (854, 'dancing'), (855, 'dank'), (856, 'dankness'), (857, 'dare'), (858, 'daresay'), (859, 'dark'), (860, 'darkness,'), (861, 'dark—at'), (862, 'date'), (863, 'date,'), (864, 'daughter,'), (865, 'daunted'), (866, 'day'), (867, 'day,'), (868, 'day;'), (869, 'days'), (870, 'dead,'), (871, 'deal'), (872, 'dealings'), (873, 'dear'), (874, 'dear,'), (875, 'death'), (876, 'death,'), (877, 'decease'), (878, 'deceased'), (879, 'deceiving'), (880, 'decency'), (881, 'deciphered'), (882, 'decoration'), (883, 'deep'), (884, 'deeply'), (885, 'degree,'), (886, 'delay;'), (887, 'delayed'), (888, 'delicious'), (889, 'delighted'), (890, 'delighted,'), (891, 'demons'), (892, 'demonstration,'), (893, 'deprecation—not'), (894, 'depressions'), (895, 'depths'), (896, 'derived'), (897, 'described'), (898, 'described,'), (899, 'describes'), (900, 'deserved'), (901, 'desiderate'), (902, 'designed'), (903, 'desire'), (904, 'desired'), (905, 'despair'), (906, 'despairing'), (907, 'destroyed'), (908, 'determination'), (909, 'determine'), (910, 'detriment'), (911, 'detrimental'), (912, 'dew;'), (913, 'did'), (914, 'didactic'), (915, 'didn'), (916, 'difference'), (917, 'difficulty'), (918, 'diffident,'), (919, 'dined'), (920, 'dining-room,'), (921, 'dinner-time,'), (922, 'direct'), (923, 'directions—perhaps'), (924, 'directly'), (925, 'disappeared'), (926, 'disguis'), (927, 'disintegrating'), (928, 'dislike'), (929, 'dismissing'), (930, 'disorder'), (931, 'disquisition'), (932, 'disregarding'), (933, 'distance,'), (934, 'distant'), (935, 'distant,'), (936, 'distinction'), (937, 'distinguish'), (938, 'distinguished'), (939, 'district,'), (940, 'do'), (941, 'do;'), (942, 'doctor'), (943, 'doctor,'), (944, 'does'), (945, 'doesn'), (946, 'dolere'), (947, 'dome,'), (948, 'domus'), (949, 'don'), (950, 'done'), (951, 'done,'), (952, 'door'), (953, 'door,'), (954, 'doover'), (955, 'doubling,'), (956, 'doubt'), (957, 'doubted'), (958, 'doubting'), (959, 'down'), (960, 'down,'), (961, 'draw'), (962, 'drawing'), (963, 'drawing-board,'), (964, 'drawing-room,'), (965, 'dreadful'), (966, 'drew'), (967, 'drive,'), (968, 'drove'), (969, 'drowsy'), (970, 'due'), (971, 'dull'), (972, 'duties'), (973, 'each'), (974, 'eager'), (975, 'earlier'), (976, 'earlier,'), (977, 'early'), (978, 'earnestly'), (979, 'earth'), (980, 'ease'), (981, 'easier'), (982, 'easily'), (983, 'east'), (984, 'echo'), (985, 'edge'), (986, 'effect'), (987, 'effect,'), (988, 'effort'), (989, 'eight'), (990, 'eighteen'), (991, 'either'), (992, 'either—through'), (993, 'elaborate'), (994, 'elderly'), (995, 'elephant'), (996, 'else'), (997, 'else,'), (998, 'embarked'), (999, 'emerge'), (1000, 'emerged'), (1001, 'employees,'), (1002, 'employer'), (1003, 'employment'), (1004, 'empty'), (1005, 'enable'), (1006, 'enclosure'), (1007, 'encounter'), (1008, 'encountered'), (1009, 'end'), (1010, 'ends'), (1011, 'endur'), (1012, 'engage,'), (1013, 'engaged'), (1014, 'engagement'), (1015, 'engraved'), (1016, 'enjoyment'), (1017, 'enlarged'), (1018, 'enough'), (1019, 'enough,'), (1020, 'enrich'), (1021, 'entangled'), (1022, 'enter'), (1023, 'entered'), (1024, 'enthusiastically'), (1025, 'entirely'), (1026, 'entrance'), (1027, 'entrance,'), (1028, 'entry'), (1029, 'episodes'), (1030, 'epithet'), (1031, 'equator'), (1032, 'equipment'), (1033, 'ere'), (1034, 'escape'), (1035, 'especially'), (1036, 'estate'), (1037, 'et'), (1038, 'evading'), (1039, 'even'), (1040, 'evening'), (1041, 'evening,'), (1042, 'evening;'), (1043, 'evenings'), (1044, 'evenings—looking'), (1045, 'event'), (1046, 'events'), (1047, 'ever'), (1048, 'every'), (1049, 'everything,'), (1050, 'evident'), (1051, 'evidently'), (1052, 'evil,'), (1053, 'examine'), (1054, 'examined'), (1055, 'excellent'), (1056, 'except'), (1057, 'exchange'), (1058, 'excite'), (1059, 'exciting'), (1060, 'exclaimed'), (1061, 'exhibition'), (1062, 'expect'), (1063, 'expectation'), (1064, 'expected'), (1065, 'expected,'), (1066, 'expecting'), (1067, 'expedient'), (1068, 'experience,'), (1069, 'experiencing'), (1070, 'expert'), (1071, 'explained'), (1072, 'explanation'), (1073, 'exploration'), (1074, 'explored'), (1075, 'exposed'), (1076, 'express'), (1077, 'expression'), (1078, 'external'), (1079, 'extract'), (1080, 'extream'), (1081, 'extreme'), (1082, 'exuberant'), (1083, 'eye'), (1084, 'eye,'), (1085, 'eyes'), (1086, 'face'), (1087, 'face—a'), (1088, 'facing'), (1089, 'fact'), (1090, 'fact,'), (1091, 'fading,'), (1092, 'fail'), (1093, 'fair'), (1094, 'fall'), (1095, 'fallen'), (1096, 'falling'), (1097, 'false'), (1098, 'familiar'), (1099, 'familiar;'), (1100, 'fancied'), (1101, 'fancy'), (1102, 'far'), (1103, 'far,'), (1104, 'father'), (1105, 'father,'), (1106, 'fault'), (1107, 'favourable'), (1108, 'favoured'), (1109, 'fearing'), (1110, 'feature'), (1111, 'featureless,'), (1112, 'features'), (1113, 'feel'), (1114, 'feeling'), (1115, 'feel—haven'), (1116, 'feet'), (1117, 'fell'), (1118, 'fell,'), (1119, 'fellow'), (1120, 'felt'), (1121, 'festivities'), (1122, 'fever,'), (1123, 'few'), (1124, 'fiasco'), (1125, 'fifteen'), (1126, 'figure'), (1127, 'figured'), (1128, 'figures'), (1129, 'filiis'), (1130, 'filiorum'), (1131, 'final'), (1132, 'find'), (1133, 'finding'), (1134, 'fine'), (1135, 'finely'), (1136, 'finest,'), (1137, 'finger'), (1138, 'fingers'), (1139, 'finish'), (1140, 'finished'), (1141, 'fireside'), (1142, 'first'), (1143, 'first,'), (1144, 'first-rate'), (1145, 'fit'), (1146, 'fitting'), (1147, 'five'), (1148, 'fixing'), (1149, 'flames'), (1150, 'flash'), (1151, 'flat'), (1152, 'flavour'), (1153, 'flee'), (1154, 'flickering'), (1155, 'flight'), (1156, 'floor'), (1157, 'flowers'), (1158, 'flowers—but'), (1159, 'foller'), (1160, 'follow'), (1161, 'followed'), (1162, 'following'), (1163, 'fond'), (1164, 'foot'), (1165, 'for'), (1166, 'for,'), (1167, 'for;'), (1168, 'forbidding'), (1169, 'forbore'), (1170, 'forc'), (1171, 'force'), (1172, 'forced'), (1173, 'foreign'), (1174, 'forget'), (1175, 'forget—something'), (1176, 'forgive'), (1177, 'forgiven'), (1178, 'forgotten'), (1179, 'form'), (1180, 'form,'), (1181, 'formed'), (1182, 'former'), (1183, 'forth'), (1184, 'forty'), (1185, 'forward'), (1186, 'found'), (1187, 'found,'), (1188, 'four'), (1189, 'fresh'), (1190, 'friend'), (1191, 'from'), (1192, 'front'), (1193, 'front-door'), (1194, 'fruitless'), (1195, 'full'), (1196, 'fully'), (1197, 'funeral'), (1198, 'furniture'), (1199, 'further'), (1200, 'further,'), (1201, 'furthermore,'), (1202, 'future'), (1203, 'gained'), (1204, 'garden'), (1205, 'garden-front'), (1206, 'gardener'), (1207, 'gardener,'), (1208, 'gardeners'), (1209, 'gardener—and'), (1210, 'gardening'), (1211, 'gardening,'), (1212, 'gardens'), (1213, 'gate'), (1214, 'gate,'), (1215, 'gate;'), (1216, 'gates,'), (1217, 'gathered'), (1218, 'gauntlet—not'), (1219, 'gave'), (1220, 'gazed'), (1221, 'general'), (1222, 'generous'), (1223, 'gentleman'), (1224, 'gentleman;'), (1225, 'gesture,—'), (1226, 'get'), (1227, 'getting'), (1228, 'ghist'), (1229, 'gifted'), (1230, 'girl'), (1231, 'git'), (1232, 'give'), (1233, 'glad'), (1234, 'glance'), (1235, 'gleam'), (1236, 'glean'), (1237, 'globe'), (1238, 'globe,'), (1239, 'globes,'), (1240, 'globe—copper,'), (1241, 'go'), (1242, 'goes'), (1243, 'going'), (1244, 'golden'), (1245, 'golf'), (1246, 'gone'), (1247, 'gone,'), (1248, 'good'), (1249, 'good-looking'), (1250, 'goodbye'), (1251, 'goosegrass'), (1252, 'got'), (1253, 'gradually'), (1254, 'grand'), (1255, 'grandfather'), (1256, 'grandfather,'), (1257, 'granting'), (1258, 'grass'), (1259, 'grateful'), (1260, 'gratified'), (1261, 'great'), (1262, 'greatgrandfather'), (1263, 'greatly'), (1264, 'green'), (1265, 'greeted'), (1266, 'grief'), (1267, 'grisly'), (1268, 'ground'), (1269, 'grounds'), (1270, 'grown'), (1271, 'growth'), (1272, 'grubbed'), (1273, 'guess'), (1274, 'guessed'), (1275, 'guide-marks'), (1276, 'guile'), (1277, 'had'), (1278, 'had,'), (1279, 'hair'), (1280, 'half'), (1281, 'half-mile'), (1282, 'half-past'), (1283, 'half-way'), (1284, 'hall'), (1285, 'hand'), (1286, 'hand,'), (1287, 'handbag'), (1288, 'hands'), (1289, 'handsome'), (1290, 'hang'), (1291, 'hanging'), (1292, 'happened'), (1293, 'happiest'), (1294, 'happy'), (1295, 'happy,'), (1296, 'hard'), (1297, 'hardly'), (1298, 'harm'), (1299, 'has'), (1300, 'hastened'), (1301, 'hastily'), (1302, 'hat'), (1303, 'hat,'), (1304, 'hatched'), (1305, 'hateful'), (1306, 'hath'), (1307, 'hats'), (1308, 'have'), (1309, 'have,'), (1310, 'have;'), (1311, 'haven'), (1312, 'having'), (1313, 'he'), (1314, 'head'), (1315, 'heading'), (1316, 'heads'), (1317, 'health'), (1318, 'health—or,'), (1319, 'hear'), (1320, 'heard'), (1321, 'heard,'), (1322, 'hearing'), (1323, 'heart'), (1324, 'heartily,'), (1325, 'heat'), (1326, 'heat,'), (1327, 'heavens'), (1328, 'heavy'), (1329, 'hedges,'), (1330, 'height'), (1331, 'height,'), (1332, 'help'), (1333, 'helped'), (1334, 'helpless'), (1335, 'hemisphere'), (1336, 'her'), (1337, 'here'), (1338, 'here,'), (1339, 'here—that'), (1340, 'herself'), (1341, 'her—wrote'), (1342, 'hesitation'), (1343, 'high'), (1344, 'high,'), (1345, 'hilloo'), (1346, 'hills,'), (1347, 'him'), (1348, 'him,'), (1349, 'him;'), (1350, 'himself'), (1351, 'himself,'), (1352, 'his'), (1353, 'hit'), (1354, 'hitch'), (1355, 'hole'), (1356, 'hole,'), (1357, 'holiday'), (1358, 'hollow'), (1359, 'holm-tree'), (1360, 'home'), (1361, 'honestly'), (1362, 'hope'), (1363, 'hoped'), (1364, 'hopelessly'), (1365, 'horror'), (1366, 'horse'), (1367, 'host'), (1368, 'hot'), (1369, 'hour'), (1370, 'hour,'), (1371, 'hours'), (1372, 'house'), (1373, 'house,'), (1374, 'housekeeper'), (1375, 'houses,'), (1376, 'house—and'), (1377, 'hovered'), (1378, 'how'), (1379, 'however,'), (1380, 'human'), (1381, 'humanly'), (1382, 'hundreds'), (1383, 'hung'), (1384, 'hurried'), (1385, 'idea'), (1386, 'idea,'), (1387, 'if'), (1388, 'ill'), (1389, 'illness—which,'), (1390, 'imaginative'), (1391, 'imbued'), (1392, 'immediate'), (1393, 'immediately'), (1394, 'impassable'), (1395, 'impatient,'), (1396, 'impatiently'), (1397, 'import'), (1398, 'importance'), (1399, 'imposing'), (1400, 'impossible'), (1401, 'impression'), (1402, 'impressions'), (1403, 'impressively'), (1404, 'improved'), (1405, 'improvement'), (1406, 'improvement,'), (1407, 'in'), (1408, 'in,'), (1409, 'in;'), (1410, 'inarticulately'), (1411, 'inasmuch'), (1412, 'inch'), (1413, 'inclined'), (1414, 'include'), (1415, 'incongruity'), (1416, 'inconveniencing'), (1417, 'increas'), (1418, 'increased'), (1419, 'indeed'), (1420, 'indeed,'), (1421, 'indeed;'), (1422, 'indication'), (1423, 'indistinct'), (1424, 'inducted'), (1425, 'infinite'), (1426, 'inform'), (1427, 'information'), (1428, 'inherited—quite'), (1429, 'injure'), (1430, 'ink'), (1431, 'inner'), (1432, 'inquired'), (1433, 'inscription'), (1434, 'inscriptions,'), (1435, 'inscription—what'), (1436, 'inside'), (1437, 'instant'), (1438, 'insulator'), (1439, 'intelligence'), (1440, 'intention'), (1441, 'interest'), (1442, 'interested'), (1443, 'interested—keenly'), (1444, 'interested—to'), (1445, 'interesting,'), (1446, 'interfere'), (1447, 'interfering'), (1448, 'interiora'), (1449, 'interrupted'), (1450, 'interruption'), (1451, 'interval'), (1452, 'interview'), (1453, 'intimated'), (1454, 'into'), (1455, 'intricate'), (1456, 'inured'), (1457, 'in—let'), (1458, 'iron'), (1459, 'irritated'), (1460, 'irritation'), (1461, 'is'), (1462, 'is,'), (1463, 'isn'), (1464, 'is———'), (1465, 'it'), (1466, 'it,'), (1467, 'it;'), (1468, 'its'), (1469, 'itself'), (1470, 'job'), (1471, 'join'), (1472, 'joined'), (1473, 'joke'), (1474, 'journals'), (1475, 'journey'), (1476, 'judg'), (1477, 'judge'), (1478, 'judge,'), (1479, 'judgment,'), (1480, 'jungle'), (1481, 'just'), (1482, 'just,'), (1483, 'justice'), (1484, 'keen'), (1485, 'keep'), (1486, 'keeping'), (1487, 'keeping;'), (1488, 'kept'), (1489, 'key'), (1490, 'key,'), (1491, 'keys'), (1492, 'kick'), (1493, 'kind'), (1494, 'kindliness'), (1495, 'kindly'), (1496, 'kindness'), (1497, 'knew'), (1498, 'knew,'), (1499, 'know'), (1500, 'know,'), (1501, 'know;'), (1502, 'knowledge'), (1503, 'knowledgeable'), (1504, 'known'), (1505, 'know——'), (1506, 'label'), (1507, 'laborious,'), (1508, 'labyrinth'), (1509, 'ladies'), (1510, 'laid'), (1511, 'lamp,'), (1512, 'landscape'), (1513, 'language,'), (1514, 'large'), (1515, 'last'), (1516, 'last,'), (1517, 'late'), (1518, 'later'), (1519, 'latest'), (1520, 'latter'), (1521, 'latter,'), (1522, 'laugh'), (1523, 'laughter,'), (1524, 'laundry'), (1525, 'lawns'), (1526, 'lay'), (1527, 'laying'), (1528, 'laying-out'), (1529, 'lays'), (1530, 'lead'), (1531, 'leaden'), (1532, 'leading'), (1533, 'leads'), (1534, 'learn'), (1535, 'learned'), (1536, 'learnt'), (1537, 'least'), (1538, 'least,'), (1539, 'leastways———'), (1540, 'leave'), (1541, 'led'), (1542, 'left'), (1543, 'legacies'), (1544, 'legacy'), (1545, 'less'), (1546, 'lesser'), (1547, 'lest'), (1548, 'let'), (1549, 'letter'), (1550, 'letter,'), (1551, 'lettered'), (1552, 'letters'), (1553, 'letters,'), (1554, 'letting'), (1555, 'liberal'), (1556, 'liberties'), (1557, 'library'), (1558, 'library,'), (1559, 'lies'), (1560, 'life'), (1561, 'life;'), (1562, 'light'), (1563, 'light,'), (1564, 'lighted'), (1565, 'like'), (1566, 'liked'), (1567, 'limited'), (1568, 'line'), (1569, 'linen,'), (1570, 'lines'), (1571, 'lingered'), (1572, 'lips'), (1573, 'listen'), (1574, 'literature'), (1575, 'little'), (1576, 'lives'), (1577, 'living'), (1578, 'll'), (1579, 'lll'), (1580, 'local'), (1581, 'lock'), (1582, 'locked'), (1583, 'lodge'), (1584, 'lodge,'), (1585, 'lodge-keeper'), (1586, 'long'), (1587, 'long,'), (1588, 'longed'), (1589, 'look'), (1590, 'looked'), (1591, 'looking'), (1592, 'loose'), (1593, 'loss'), (1594, 'lost'), (1595, 'lot'), (1596, 'loud'), (1597, 'loudly,'), (1598, 'lovely,'), (1599, 'lower'), (1600, 'luggage,'), (1601, 'luncheon'), (1602, 'luncheon,'), (1603, 'lunch—not'), (1604, 'lurk,'), (1605, 'lying'), (1606, 'm'), (1607, 'made'), (1608, 'magus'), (1609, 'main'), (1610, 'major'), (1611, 'make'), (1612, 'makin'), (1613, 'making'), (1614, 'man'), (1615, 'man,'), (1616, 'manage'), (1617, 'manner'), (1618, 'mansion,'), (1619, 'manuscripts,'), (1620, 'many'), (1621, 'many,'), (1622, 'marble'), (1623, 'marginal'), (1624, 'mark'), (1625, 'marked'), (1626, 'married'), (1627, 'master'), (1628, 'materials'), (1629, 'matter'), (1630, 'matters'), (1631, 'mature'), (1632, 'mausoleum'), (1633, 'may'), (1634, 'maze'), (1635, 'maze,'), (1636, 'maze;'), (1637, 'mazes'), (1638, 'mazes—I'), (1639, 'maze—for'), (1640, 'maze—the'), (1641, 'me'), (1642, 'me,'), (1643, 'mean,'), (1644, 'meanin'), (1645, 'meaning'), (1646, 'means'), (1647, 'meant'), (1648, 'meatear'), (1649, 'meditations,'), (1650, 'memory'), (1651, 'men'), (1652, 'mention'), (1653, 'mention;'), (1654, 'mentioned'), (1655, 'mentioned,'), (1656, 'merely'), (1657, 'merrily'), (1658, 'messenger'), (1659, 'met,'), (1660, 'metal'), (1661, 'metal—copper,'), (1662, 'metal—it'), (1663, 'meum'), (1664, 'meæ,'), (1665, 'me——'), (1666, 'middle'), (1667, 'might'), (1668, 'mihi'), (1669, 'mind'), (1670, 'mind,'), (1671, 'mind—I'), (1672, 'mine;'), (1673, 'minutes'), (1674, 'mislead'), (1675, 'misled'), (1676, 'missed'), (1677, 'missing'), (1678, 'mistakes,'), (1679, 'misunderstand'), (1680, 'moment'), (1681, 'moment,'), (1682, 'moments'), (1683, 'monitor,'), (1684, 'monk'), (1685, 'months'), (1686, 'moon'), (1687, 'moonlight'), (1688, 'more'), (1689, 'moreover,'), (1690, 'morning'), (1691, 'morning,'), (1692, 'morrow'), (1693, 'mortal'), (1694, 'mortis'), (1695, 'most'), (1696, 'motto'), (1697, 'mound'), (1698, 'mountains,'), (1699, 'mouth,'), (1700, 'move'), (1701, 'move,'), (1702, 'moved'), (1703, 'movement'), (1704, 'movement,'), (1705, 'much'), (1706, 'much,'), (1707, 'muddled'), (1708, 'multa'), (1709, 'murmured'), (1710, 'must'), (1711, 'mustn'), (1712, 'mutilated'), (1713, 'muttered'), (1714, 'my'), (1715, 'myself'), (1716, 'myself,'), (1717, 'mysterious'), (1718, 'mystery'), (1719, 'name'), (1720, 'name,'), (1721, 'nasty'), (1722, 'nature'), (1723, 'nature,'), (1724, 'nay,'), (1725, 'near'), (1726, 'nearer'), (1727, 'nearly'), (1728, 'neatly'), (1729, 'necessary'), (1730, 'need'), (1731, 'needed'), (1732, 'negative'), (1733, 'neighbourhood'), (1734, 'neighbourhood,'), (1735, 'neither'), (1736, 'nephew,'), (1737, 'nettle-stings,'), (1738, 'nettles'), (1739, 'never'), (1740, 'new'), (1741, 'new,'), (1742, 'news'), (1743, 'next'), (1744, 'nice'), (1745, 'nicer'), (1746, 'niece'), (1747, 'night'), (1748, 'night,'), (1749, 'nine'), (1750, 'no'), (1751, 'no,'), (1752, 'noiselessly'), (1753, 'non'), (1754, 'none'), (1755, 'nor'), (1756, 'not'), (1757, 'not,'), (1758, 'note'), (1759, 'note—a'), (1760, 'note—everything'), (1761, 'nothing'), (1762, 'nothing,'), (1763, 'notice'), (1764, 'noticed'), (1765, 'novel'), (1766, 'now'), (1767, 'now,'), (1768, 'now—it'), (1769, 'now—such'), (1770, 'nude'), (1771, 'number'), (1772, 'numbered'), (1773, 'numbered,'), (1774, 'numbers'), (1775, 'numeral'), (1776, 'nurses'), (1777, 'nutshell,'), (1778, 'o'), (1779, 'obedience'), (1780, 'objection'), (1781, 'obliged'), (1782, 'obscure'), (1783, 'obscured'), (1784, 'observ'), (1785, 'observed'), (1786, 'observing'), (1787, 'obtrusive'), (1788, 'obvious'), (1789, 'obviously'), (1790, 'obviously,'), (1791, 'occasion'), (1792, 'occasion,'), (1793, 'occasional'), (1794, 'occupation'), (1795, 'occupied'), (1796, 'occupy'), (1797, 'occurs'), (1798, 'odd'), (1799, 'oddest'), (1800, 'oddly'), (1801, 'odious'), (1802, 'of'), (1803, 'of,'), (1804, 'off'), (1805, 'off,'), (1806, 'off;'), (1807, 'office'), (1808, 'offices'), (1809, 'often'), (1810, 'of—er—tenancy—which'), (1811, 'old'), (1812, 'old-fashioned'), (1813, 'older'), (1814, 'omened'), (1815, 'on'), (1816, 'on,'), (1817, 'once'), (1818, 'once;'), (1819, 'one'), (1820, 'one,'), (1821, 'one—be'), (1822, 'only'), (1823, 'only,'), (1824, 'on—for'), (1825, 'on—what'), (1826, 'open'), (1827, 'open,'), (1828, 'opened'), (1829, 'opening'), (1830, 'opinion'), (1831, 'opportunity'), (1832, 'opportunity,'), (1833, 'opposite'), (1834, 'oppressed'), (1835, 'or'), (1836, 'or,'), (1837, 'order'), (1838, 'order,'), (1839, 'ordinary'), (1840, 'organised'), (1841, 'original'), (1842, 'original,'), (1843, 'ornament'), (1844, 'other'), (1845, 'ought'), (1846, 'our'), (1847, 'out'), (1848, 'out,'), (1849, 'out,—'), (1850, 'out-of-door'), (1851, 'outer'), (1852, 'outline,'), (1853, 'outlined'), (1854, 'outpost'), (1855, 'outside'), (1856, 'outside,'), (1857, 'outspread'), (1858, 'over'), (1859, 'over-run'), (1860, 'overstepped'), (1861, 'owing'), (1862, 'own'), (1863, 'own,'), (1864, 'packet'), (1865, 'padlocked'), (1866, 'padlock—a'), (1867, 'pages'), (1868, 'painted'), (1869, 'painting'), (1870, 'pale'), (1871, 'pan,'), (1872, 'pant'), (1873, 'panting'), (1874, 'paper'), (1875, 'paper,'), (1876, 'papers'), (1877, 'parapet'), (1878, 'parish'), (1879, 'park'), (1880, 'parsonage,'), (1881, 'part'), (1882, 'part,'), (1883, 'partially'), (1884, 'participation'), (1885, 'particular'), (1886, 'particularly'), (1887, 'parties,'), (1888, 'parting'), (1889, 'party'), (1890, 'pass'), (1891, 'passage'), (1892, 'passage,'), (1893, 'passage;'), (1894, 'passed'), (1895, 'passenger'), (1896, 'passengers'), (1897, 'past'), (1898, 'path'), (1899, 'paths'), (1900, 'patient'), (1901, 'patina—engraved,'), (1902, 'patriarchs'), (1903, 'pause,'), (1904, 'peculiar'), (1905, 'peering'), (1906, 'pencil'), (1907, 'pencils'), (1908, 'pencils,'), (1909, 'penetrated'), (1910, 'penny'), (1911, 'pensive'), (1912, 'people'), (1913, 'perfectly,'), (1914, 'perfume'), (1915, 'perhaps'), (1916, 'perhaps,'), (1917, 'period'), (1918, 'permit'), (1919, 'permitted'), (1920, 'persever'), (1921, 'person'), (1922, 'person,'), (1923, 'personages'), (1924, 'perspiring'), (1925, 'persuaded'), (1926, 'phrase'), (1927, 'picked'), (1928, 'picture-book,'), (1929, 'pictures'), (1930, 'pile'), (1931, 'pipe'), (1932, 'pity'), (1933, 'place'), (1934, 'place,'), (1935, 'placed'), (1936, 'places'), (1937, 'plain'), (1938, 'plainly'), (1939, 'plan'), (1940, 'plan,'), (1941, 'plans'), (1942, 'plate'), (1943, 'plates'), (1944, 'plates,'), (1945, 'plays,'), (1946, 'pleaded,'), (1947, 'pleasant'), (1948, 'pleasant,'), (1949, 'pleasantry'), (1950, 'please'), (1951, 'please,'), (1952, 'pleased'), (1953, 'pleased,'), (1954, 'pleasure'), (1955, 'pleasure,'), (1956, 'plunge'), (1957, 'plunged'), (1958, 'point'), (1959, 'point,'), (1960, 'pointed'), (1961, 'pole'), (1962, 'poor'), (1963, 'pore'), (1964, 'pored'), (1965, 'portion'), (1966, 'portrait'), (1967, 'position'), (1968, 'possess'), (1969, 'posse—for'), (1970, 'possibilities'), (1971, 'possibility'), (1972, 'possible'), (1973, 'possibly'), (1974, 'posts,'), (1975, 'pounce'), (1976, 'practically'), (1977, 'preceded'), (1978, 'precincts'), (1979, 'predecessor'), (1980, 'predisposition'), (1981, 'prelude'), (1982, 'prepared'), (1983, 'prepared,'), (1984, 'present,'), (1985, 'press'), (1986, 'pressed'), (1987, 'pretty'), (1988, 'princeps'), (1989, 'probability'), (1990, 'probable'), (1991, 'probably'), (1992, 'probate'), (1993, 'proceeded'), (1994, 'procurable'), (1995, 'procure'), (1996, 'procured'), (1997, 'produced'), (1998, 'profuse'), (1999, 'progress'), (2000, 'promise'), (2001, 'proper'), (2002, 'property'), (2003, 'proportioned—a'), (2004, 'proposition'), (2005, 'propriety'), (2006, 'prospect'), (2007, 'proved'), (2008, 'proverb'), (2009, 'provided'), (2010, 'publish'), (2011, 'pulled'), (2012, 'pulling'), (2013, 'purpose'), (2014, 'purpose,'), (2015, 'purposely'), (2016, 'purposes'), (2017, 'pursue'), (2018, 'pursued'), (2019, 'pursuits'), (2020, 'pushed'), (2021, 'put'), (2022, 'puzzle;'), (2023, 'puzzled,'), (2024, 'quantity'), (2025, 'quarter'), (2026, 'quarto,'), (2027, 'question'), (2028, 'quiet'), (2029, 'quietly'), (2030, 'quite'), (2031, 'quo,'), (2032, 'rain'), (2033, 'rainy'), (2034, 'raised'), (2035, 'raisonné'), (2036, 'ran'), (2037, 'range'), (2038, 'rare'), (2039, 'rarer'), (2040, 'rate'), (2041, 'rather'), (2042, 're'), (2043, 'reach'), (2044, 'reached'), (2045, 'read'), (2046, 'read,'), (2047, 'reading'), (2048, 'ready'), (2049, 'real'), (2050, 'really'), (2051, 'reason'), (2052, 'reason,'), (2053, 'reasonably'), (2054, 'received'), (2055, 'recent'), (2056, 'reckon'), (2057, 'reckoned'), (2058, 'recollect'), (2059, 'recollection'), (2060, 'reconstruct'), (2061, 'record'), (2062, 'rector'), (2063, 'red,'), (2064, 'red-brick'), (2065, 'red-letter'), (2066, 'reflected'), (2067, 'reflected,'), (2068, 'regard'), (2069, 'regret,'), (2070, 'regular'), (2071, 'regularly'), (2072, 'rejoin'), (2073, 'rejoycing'), (2074, 'rejoycing,'), (2075, 'relation'), (2076, 'release'), (2077, 'relief;'), (2078, 'reliefs'), (2079, 'remained'), (2080, 'remark,'), (2081, 'remarks'), (2082, 'remember'), (2083, 'remember,'), (2084, 'remembered'), (2085, 'reminded'), (2086, 'reminds'), (2087, 'remove'), (2088, 'removed'), (2089, 'render'), (2090, 'renewed'), (2091, 'repeated'), (2092, 'reply'), (2093, 'report'), (2094, 'request'), (2095, 'require'), (2096, 'required'), (2097, 'requiring;'), (2098, 'resembled'), (2099, 'resembling'), (2100, 'resented'), (2101, 'residence'), (2102, 'respect'), (2103, 'respectable'), (2104, 'respected'), (2105, 'rest'), (2106, 'rested'), (2107, 'resting-place'), (2108, 'restless'), (2109, 'result'), (2110, 'retired'), (2111, 'retracing'), (2112, 'retreat'), (2113, 'return'), (2114, 'revelation'), (2115, 'revive'), (2116, 'reward'), (2117, 'richest'), (2118, 'ride'), (2119, 'right'), (2120, 'right,'), (2121, 'right;'), (2122, 'ring'), (2123, 'rises'), (2124, 'rising'), (2125, 'road'), (2126, 'robes'), (2127, 'roll'), (2128, 'rolling'), (2129, 'roof'), (2130, 'room'), (2131, 'rooms'), (2132, 'rose'), (2133, 'rotten'), (2134, 'rough'), (2135, 'round'), (2136, 'round,'), (2137, 'rubbed'), (2138, 'rubbing'), (2139, 'ruined'), (2140, 'ruminating'), (2141, 'run'), (2142, 'run,'), (2143, 'running'), (2144, 's'), (2145, 'sad'), (2146, 'safe'), (2147, 'said'), (2148, 'said,'), (2149, 'said;'), (2150, 'said—that'), (2151, 'same'), (2152, 'satisfaction'), (2153, 'satisfactory,'), (2154, 'satisfied'), (2155, 'save'), (2156, 'saving'), (2157, 'saw'), (2158, 'saw,'), (2159, 'say'), (2160, 'say,'), (2161, 'saying'), (2162, 'says'), (2163, 'says,'), (2164, 'scale'), (2165, 'scaling'), (2166, 'scanning'), (2167, 'scene'), (2168, 'scene,'), (2169, 'scheme'), (2170, 'scientific'), (2171, 'scratches,'), (2172, 'scythes'), (2173, 'se'), (2174, 'season'), (2175, 'seasonable,'), (2176, 'seasons'), (2177, 'second'), (2178, 'seconded'), (2179, 'secretary,'), (2180, 'see'), (2181, 'see,'), (2182, 'seeing'), (2183, 'seek'), (2184, 'seem'), (2185, 'seemed'), (2186, 'seeming'), (2187, 'seems'), (2188, 'seen'), (2189, 'seen,'), (2190, 'sees'), (2191, 'send'), (2192, 'sense'), (2193, 'sensible'), (2194, 'sepulchral'), (2195, 'series'), (2196, 'sermons'), (2197, 'serpent—Draco—encircled'), (2198, 'servant'), (2199, 'serve'), (2200, 'set'), (2201, 'settled'), (2202, 'seventeenth'), (2203, 'seventies'), (2204, 'several,'), (2205, 'shadow'), (2206, 'shaggy'), (2207, 'shaken'), (2208, 'shaking'), (2209, 'shall'), (2210, 'shan'), (2211, 'shape'), (2212, 'she'), (2213, 'she,'), (2214, 'sheepish'), (2215, 'sheet'), (2216, 'shew'), (2217, 'shift'), (2218, 'shilling'), (2219, 'shining'), (2220, 'shiny'), (2221, 'shipwreck'), (2222, 'shock'), (2223, 'shook'), (2224, 'shop'), (2225, 'short'), (2226, 'short,'), (2227, 'should'), (2228, 'shouldn'), (2229, 'shouts'), (2230, 'show'), (2231, 'showed'), (2232, 'showed,'), (2233, 'shower'), (2234, 'showing'), (2235, 'shrill'), (2236, 'shrub'), (2237, 'shrubbery'), (2238, 'shrubbery,'), (2239, 'shut'), (2240, 'sides'), (2241, 'sight'), (2242, 'signosier'), (2243, 'sill'), (2244, 'similar'), (2245, 'since'), (2246, 'single'), (2247, 'singular'), (2248, 'sir'), (2249, 'sir,'), (2250, 'size'), (2251, 'skies'), (2252, 'sky-high'), (2253, 'sleep'), (2254, 'sleep,'), (2255, 'slept'), (2256, 'slept,'), (2257, 'slight'), (2258, 'slightly'), (2259, 'slipped'), (2260, 'slopes'), (2261, 'slowly'), (2262, 'small'), (2263, 'smaller'), (2264, 'smell'), (2265, 'smiling'), (2266, 'snaky'), (2267, 'snuff'), (2268, 'so'), (2269, 'so,'), (2270, 'soap,'), (2271, 'solemn'), (2272, 'solution'), (2273, 'some'), (2274, 'somebody'), (2275, 'something'), (2276, 'sometimes'), (2277, 'somewhat'), (2278, 'son'), (2279, 'sonorous'), (2280, 'soon'), (2281, 'sore'), (2282, 'sorry'), (2283, 'sorry—dolebat'), (2284, 'sort'), (2285, 'sorts'), (2286, 'sound;'), (2287, 'sounds'), (2288, 'source'), (2289, 'space'), (2290, 'spare'), (2291, 'speaking,'), (2292, 'special'), (2293, 'specimen'), (2294, 'speculations'), (2295, 'spent'), (2296, 'spite'), (2297, 'splendid'), (2298, 'spoken'), (2299, 'spot'), (2300, 'spring'), (2301, 'squander'), (2302, 'square'), (2303, 'stables'), (2304, 'stand'), (2305, 'standing'), (2306, 'standstill'), (2307, 'stared'), (2308, 'start'), (2309, 'starting-point'), (2310, 'stated'), (2311, 'station'), (2312, 'station,'), (2313, 'stationed'), (2314, 'stationmaster'), (2315, 'statu'), (2316, 'stay'), (2317, 'step'), (2318, 'stepped'), (2319, 'steps'), (2320, 'stick'), (2321, 'sticks'), (2322, 'still'), (2323, 'still,'), (2324, 'stillness;'), (2325, 'stock'), (2326, 'stone'), (2327, 'stone,'), (2328, 'stones'), (2329, 'stood'), (2330, 'stop'), (2331, 'stop,'), (2332, 'stopped'), (2333, 'stopped,'), (2334, 'store'), (2335, 'stored'), (2336, 'story'), (2337, 'stout'), (2338, 'straight'), (2339, 'straining'), (2340, 'strategy,'), (2341, 'street'), (2342, 'stretching'), (2343, 'strikes'), (2344, 'string'), (2345, 'strolled'), (2346, 'strong'), (2347, 'stronger'), (2348, 'stronger—a'), (2349, 'struck'), (2350, 'studious'), (2351, 'study'), (2352, 'stuff'), (2353, 'stuffy'), (2354, 'stumbled'), (2355, 'stumbling-block—his'), (2356, 'stumped'), (2357, 'stupid'), (2358, 'style'), (2359, 'subject,'), (2360, 'subjects'), (2361, 'successfully'), (2362, 'such'), (2363, 'such-an-one'), (2364, 'sudden'), (2365, 'suddenly'), (2366, 'suddent'), (2367, 'suffer'), (2368, 'suffered'), (2369, 'sufficient'), (2370, 'suggest'), (2371, 'suggested'), (2372, 'suggesting'), (2373, 'suggestions'), (2374, 'suggestion—decided'), (2375, 'suit'), (2376, 'summed'), (2377, 'summer'), (2378, 'summer-house'), (2379, 'summit'), (2380, 'summon'), (2381, 'summoned'), (2382, 'summons'), (2383, 'sun'), (2384, 'sundial;'), (2385, 'sundials'), (2386, 'superficial'), (2387, 'suppos'), (2388, 'suppose'), (2389, 'suppose,'), (2390, 'supposed'), (2391, 'supposing'), (2392, 'sure'), (2393, 'sure,'), (2394, 'sure;'), (2395, 'surely'), (2396, 'sure—will'), (2397, 'surface'), (2398, 'surprised'), (2399, 'surprising'), (2400, 'surrounded'), (2401, 'survived;'), (2402, 'sweat'), (2403, 'sweet'), (2404, 'switched'), (2405, 'sworn'), (2406, 'symptoms,'), (2407, 'system,'), (2408, 'systematic'), (2409, 't'), (2410, 't,'), (2411, 'table'), (2412, 'tablet'), (2413, 'tail'), (2414, 'take'), (2415, 'taken'), (2416, 'takin'), (2417, 'taking'), (2418, 'talk'), (2419, 'tall'), (2420, 'tape'), (2421, 'tapped'), (2422, 'tapping'), (2423, 'taste'), (2424, 'taste,'), (2425, 'tea,'), (2426, 'tea-time'), (2427, 'teenets,'), (2428, 'telegram'), (2429, 'tell'), (2430, 'temperament'), (2431, 'temple'), (2432, 'temple,'), (2433, 'ten'), (2434, 'tenebrarum'), (2435, 'tentacles'), (2436, 'terrestrial'), (2437, 'terrible'), (2438, 'terror'), (2439, 'than'), (2440, 'thank'), (2441, 'thanked'), (2442, 'thanks'), (2443, 'thanks;'), (2444, 'that'), (2445, 'that,'), (2446, 'that;'), (2447, 'the'), (2448, 'their'), (2449, 'theirs'), (2450, 'them'), (2451, 'them,'), (2452, 'them;'), (2453, 'themselves'), (2454, 'themselves,'), (2455, 'them—and'), (2456, 'then'), (2457, 'then,'), (2458, 'there'), (2459, 'there,'), (2460, 'thereabouts'), (2461, 'therefore'), (2462, 'thereof'), (2463, 'these'), (2464, 'they'), (2465, 'thick'), (2466, 'thick—and,'), (2467, 'thin'), (2468, 'thin,'), (2469, 'thing'), (2470, 'thing,'), (2471, 'things'), (2472, 'things,'), (2473, 'think'), (2474, 'think,'), (2475, 'thinking'), (2476, 'third'), (2477, 'third,'), (2478, 'thirty'), (2479, 'this'), (2480, 'this———'), (2481, 'thorough'), (2482, 'thoroughly'), (2483, 'those'), (2484, 'though'), (2485, 'thought'), (2486, 'thought,'), (2487, 'thoughts'), (2488, 'threatening'), (2489, 'three'), (2490, 'three-quarters'), (2491, 'threw'), (2492, 'throat'), (2493, 'through'), (2494, 'throw'), (2495, 'thus'), (2496, 'ticket'), (2497, 'tied'), (2498, 'tiles'), (2499, 'till'), (2500, 'time'), (2501, 'time,'), (2502, 'times'), (2503, 'tired'), (2504, 'tis'), (2505, 'titles'), (2506, 'to'), (2507, 'to,'), (2508, 'to-day,'), (2509, 'to-morrow'), (2510, 'to-night'), (2511, 'together'), (2512, 'together,'), (2513, 'together;'), (2514, 'told'), (2515, 'told,'), (2516, 'toll'), (2517, 'too'), (2518, 'too,'), (2519, 'took'), (2520, 'top'), (2521, 'topic'), (2522, 'topic,'), (2523, 'topography'), (2524, 'touching'), (2525, 'tour'), (2526, 'towards'), (2527, 'town'), (2528, 'towns—most'), (2529, 'trace'), (2530, 'traced'), (2531, 'tracing'), (2532, 'track'), (2533, 'tradition'), (2534, 'train'), (2535, 'transactions'), (2536, 'traveller'), (2537, 'traversed'), (2538, 'treacle,'), (2539, 'tread'), (2540, 'treasures'), (2541, 'tree,'), (2542, 'trees'), (2543, 'trod'), (2544, 'trouble'), (2545, 'trouble,'), (2546, 'troubled'), (2547, 'true'), (2548, 'truly'), (2549, 'trust'), (2550, 'trusted'), (2551, 'try,'), (2552, 'trying'), (2553, 'tub'), (2554, 'turfy'), (2555, 'turn'), (2556, 'turned'), (2557, 'turning'), (2558, 'turnings'), (2559, 'twas'), (2560, 'twenty'), (2561, 'twice'), (2562, 'twine'), (2563, 'two'), (2564, 'two,'), (2565, 'tying'), (2566, 'ugly'), (2567, 'umbra'), (2568, 'unable'), (2569, 'unaided'), (2570, 'unannealed'), (2571, 'uncle'), (2572, 'uncle,'), (2573, 'uncle——'), (2574, 'uncommon'), (2575, 'undeniably'), (2576, 'under'), (2577, 'underside'), (2578, 'understand'), (2579, 'understood'), (2580, 'undrawn'), (2581, 'unexpectedly—a'), (2582, 'unfamiliar'), (2583, 'unfolded'), (2584, 'unfortunate'), (2585, 'unfortunately'), (2586, 'unfortunates'), (2587, 'unhealthy,'), (2588, 'uninfluenced'), (2589, 'unique'), (2590, 'unknown'), (2591, 'unless'), (2592, 'unlike'), (2593, 'unnerving'), (2594, 'unorthodox'), (2595, 'unpleasant'), (2596, 'unreadableness'), (2597, 'unsightly'), (2598, 'until'), (2599, 'untrimmed,'), (2600, 'unusual'), (2601, 'unusually'), (2602, 'up'), (2603, 'up,'), (2604, 'up;'), (2605, 'upon'), (2606, 'upper'), (2607, 'upsetting;'), (2608, 'upwards'), (2609, 'upwards—towards'), (2610, 'urgent'), (2611, 'us'), (2612, 'us,'), (2613, 'use'), (2614, 'useless'), (2615, 'using'), (2616, 'using,'), (2617, 'usually'), (2618, 'usurped'), (2619, 'utterly'), (2620, 'valentudinarian'), (2621, 'valley'), (2622, 'vallis'), (2623, 'vandalism'), (2624, 'various'), (2625, 'vault'), (2626, 've'), (2627, 'venture,'), (2628, 'very'), (2629, 'vexed'), (2630, 'vibrate'), (2631, 'view'), (2632, 'viewing'), (2633, 'views'), (2634, 'views,'), (2635, 'village'), (2636, 'visible'), (2637, 'visit'), (2638, 'visit;'), (2639, 'visiting'), (2640, 'visitors'), (2641, 'vitality'), (2642, 'voice,'), (2643, 'wait,'), (2644, 'waiting'), (2645, 'walk'), (2646, 'walks,'), (2647, 'wall'), (2648, 'wall,'), (2649, 'wanderings,'), (2650, 'want'), (2651, 'want,'), (2652, 'wanted'), (2653, 'wanted,'), (2654, 'wanting'), (2655, 'warm'), (2656, 'was'), (2657, 'was,'), (2658, 'wasp'), (2659, 'wasting'), (2660, 'was—not'), (2661, 'watch'), (2662, 'waving'), (2663, 'way'), (2664, 'way,'), (2665, 'we'), (2666, 'we,'), (2667, 'wearing'), (2668, 'weather'), (2669, 'weeds'), (2670, 'weeks'), (2671, 'weeping'), (2672, 'welcome'), (2673, 'well'), (2674, 'well,'), (2675, 'well-being;'), (2676, 'well-nigh'), (2677, 'went'), (2678, 'were'), (2679, 'west'), (2680, 'wet'), (2681, 'wet,'), (2682, 'what'), (2683, 'whatever'), (2684, 'whatsoever'), (2685, 'when'), (2686, 'where'), (2687, 'whereas'), (2688, 'wherein'), (2689, 'wherewith'), (2690, 'whether'), (2691, 'which'), (2692, 'which,'), (2693, 'while'), (2694, 'while;'), (2695, 'whisky'), (2696, 'white'), (2697, 'who'), (2698, 'who,'), (2699, 'whole'), (2700, 'whole,'), (2701, 'wholly'), (2702, 'whom'), (2703, 'whose'), (2704, 'why'), (2705, 'wide'), (2706, 'wife'), (2707, 'will'), (2708, 'will,'), (2709, 'wind'), (2710, 'window'), (2711, 'window,'), (2712, 'windows'), (2713, 'winds'), (2714, 'winged'), (2715, 'wings'), (2716, 'wings,'), (2717, 'winter'), (2718, 'wish'), (2719, 'wish,'), (2720, 'wishes,'), (2721, 'with'), (2722, 'with,'), (2723, 'within'), (2724, 'without'), (2725, 'women'), (2726, 'won'), (2727, 'wonder'), (2728, 'wonderfully'), (2729, 'wondering'), (2730, 'wood'), (2731, 'wooded'), (2732, 'woods'), (2733, 'woods,'), (2734, 'word'), (2735, 'words'), (2736, 'words,'), (2737, 'words—is'), (2738, 'work'), (2739, 'work;'), (2740, 'worked'), (2741, 'works'), (2742, 'world'), (2743, 'world—a'), (2744, 'worn'), (2745, 'worse—since'), (2746, 'worth'), (2747, 'wot'), (2748, 'would'), (2749, 'wouldn'), (2750, 'writer'), (2751, 'writhings'), (2752, 'wrongly'), (2753, 'wrought'), (2754, 'year'), (2755, 'years'), (2756, 'years,'), (2757, 'yes'), (2758, 'yes,'), (2759, 'yesterday,'), (2760, 'yet'), (2761, 'yet,'), (2762, 'yet;'), (2763, 'yet—you'), (2764, 'yew'), (2765, 'yew,'), (2766, 'yon'), (2767, 'you'), (2768, 'you,'), (2769, 'young'), (2770, 'your'), (2771, 'yours,'), (2772, 'yourself'), (2773, 'yourself,'), (2774, '—'), (2775, '—I'), (2776, '—would'), (2777, '‘'), (2778, '’'), (2779, '“'), (2780, '”')])"
      ]
     },
     "execution_count": 18,
     "metadata": {},
     "output_type": "execute_result"
    }
   ],
   "source": [
    "reverse_vocab = {index:token for token,index in vocab.items()}\n",
    "reverse_vocab.items()"
   ]
  },
  {
   "cell_type": "code",
   "execution_count": 19,
   "id": "bb114e77",
   "metadata": {},
   "outputs": [
    {
     "name": "stdout",
     "output_type": "stream",
     "text": [
      "It deserved the epithet on the whole : but it was oddly proportioned—a very tall red-brick house, with a plain parapet concealing the roof almost entirely .\n"
     ]
    }
   ],
   "source": [
    "print( \" \".join([ reverse_vocab[id] for id in ids]))"
   ]
  },
  {
   "cell_type": "code",
   "execution_count": 79,
   "id": "e06eba80",
   "metadata": {},
   "outputs": [],
   "source": [
    "class SimpleTokenizer:\n",
    "    def __init__(self, vocab):\n",
    "        self.str_to_int = vocab\n",
    "        self.int_to_str = {index:token for token, index in vocab.items()}\n",
    "\n",
    "    def encode(self, text):\n",
    "        tokens = re.split( r'([.?!:())\"\\'“”‘’^]|\\s)', text)\n",
    "        tokens = [ item if item in self.str_to_int else \"<|unk|>\" for item in tokens if item.split() ]\n",
    "        ids = [ self.str_to_int[token] for token in tokens]\n",
    "        return ids\n",
    "\n",
    "    def decode(self, ids):\n",
    "        text = \" \".join([self.int_to_str[id] for id in ids])\n",
    "        text = re.sub( r'\\s+([.?!:())\"\\'“”‘’^])', r'\\1', text )\n",
    "        return text\n"
   ]
  },
  {
   "cell_type": "code",
   "execution_count": 80,
   "id": "dbaeb9d4",
   "metadata": {},
   "outputs": [],
   "source": [
    "tokenizer = SimpleTokenizer(vocab)"
   ]
  },
  {
   "cell_type": "code",
   "execution_count": 81,
   "id": "dd3907d7",
   "metadata": {},
   "outputs": [],
   "source": [
    "phrase = \"It deserved the epithet on the whole: but it was oddly proportioned—a very tall red-brick house, with a plain parapet concealing the roof almost entirely.\""
   ]
  },
  {
   "cell_type": "code",
   "execution_count": 82,
   "id": "8efa720f",
   "metadata": {},
   "outputs": [
    {
     "name": "stdout",
     "output_type": "stream",
     "text": [
      "[207, 902, 2449, 1032, 1817, 2449, 2701, 11, 664, 1467, 2658, 1802, 2005, 2630, 2421, 2066, 1375, 2723, 416, 1939, 1879, 771, 2449, 2131, 477, 1027, 6]\n"
     ]
    }
   ],
   "source": [
    "ids = tokenizer.encode( phrase )\n",
    "print(ids)"
   ]
  },
  {
   "cell_type": "code",
   "execution_count": 83,
   "id": "214bc6d8",
   "metadata": {},
   "outputs": [
    {
     "name": "stdout",
     "output_type": "stream",
     "text": [
      "It deserved the epithet on the whole: but it was oddly proportioned—a very tall red-brick house, with a plain parapet concealing the roof almost entirely.\n"
     ]
    }
   ],
   "source": [
    "text = tokenizer.decode(ids)\n",
    "print(text)"
   ]
  },
  {
   "cell_type": "code",
   "execution_count": 84,
   "id": "cf5539a6",
   "metadata": {},
   "outputs": [],
   "source": [
    "phrase = \"Murderer! And he had tried to help humanity. This was his reward.\""
   ]
  },
  {
   "cell_type": "code",
   "execution_count": 85,
   "id": "d4fe7a14",
   "metadata": {},
   "outputs": [
    {
     "name": "stdout",
     "output_type": "stream",
     "text": [
      "[13, 0, 34, 1315, 1279, 13, 2508, 1334, 13, 6, 360, 2658, 1354, 2118, 6]\n"
     ]
    }
   ],
   "source": [
    "ids = tokenizer.encode( phrase )\n",
    "print(ids)"
   ]
  },
  {
   "cell_type": "code",
   "execution_count": 86,
   "id": "9d3fb985",
   "metadata": {},
   "outputs": [
    {
     "name": "stdout",
     "output_type": "stream",
     "text": [
      "<|unk|>! And he had <|unk|> to help <|unk|>. This was his reward.\n"
     ]
    }
   ],
   "source": [
    "text = tokenizer.decode(ids)\n",
    "print(text)"
   ]
  },
  {
   "cell_type": "code",
   "execution_count": 87,
   "id": "0cf4d107",
   "metadata": {},
   "outputs": [],
   "source": [
    "import tiktoken"
   ]
  },
  {
   "cell_type": "code",
   "execution_count": 88,
   "id": "28da180d",
   "metadata": {},
   "outputs": [],
   "source": [
    "tokenizer = tiktoken.get_encoding(\"gpt2\")"
   ]
  },
  {
   "cell_type": "code",
   "execution_count": 89,
   "id": "8ef04528",
   "metadata": {},
   "outputs": [
    {
     "name": "stdout",
     "output_type": "stream",
     "text": [
      "[44, 2799, 11882, 0, 843, 339, 550, 3088, 284, 1037, 9265, 13, 770, 373, 465, 6721, 13]\n"
     ]
    }
   ],
   "source": [
    "ids = tokenizer.encode(phrase)\n",
    "print(ids)"
   ]
  },
  {
   "cell_type": "code",
   "execution_count": 93,
   "id": "3af28a0d",
   "metadata": {},
   "outputs": [],
   "source": [
    "phrase = \"I'll get you tokenizer try this: “”‘’ sfdgjhsdfjzshfd\""
   ]
  },
  {
   "cell_type": "code",
   "execution_count": 94,
   "id": "a44957a5",
   "metadata": {},
   "outputs": [
    {
     "name": "stdout",
     "output_type": "stream",
     "text": [
      "[40, 1183, 651, 345, 11241, 7509, 1949, 428, 25, 564, 250, 447, 251, 447, 246, 447, 247, 264, 16344, 70, 73, 11994, 7568, 73, 89, 1477, 16344]\n"
     ]
    }
   ],
   "source": [
    "ids = tokenizer.encode(phrase)\n",
    "print(ids)"
   ]
  },
  {
   "cell_type": "code",
   "execution_count": 95,
   "id": "00f916be",
   "metadata": {},
   "outputs": [
    {
     "data": {
      "text/plain": [
       "\"I'll get you tokenizer try this: “”‘’ sfdgjhsdfjzshfd\""
      ]
     },
     "execution_count": 95,
     "metadata": {},
     "output_type": "execute_result"
    }
   ],
   "source": [
    "tokenizer.decode(ids)"
   ]
  },
  {
   "cell_type": "code",
   "execution_count": null,
   "id": "c12d0723",
   "metadata": {},
   "outputs": [],
   "source": []
  }
 ],
 "metadata": {
  "kernelspec": {
   "display_name": "Python 3 (ipykernel)",
   "language": "python",
   "name": "python3"
  },
  "language_info": {
   "codemirror_mode": {
    "name": "ipython",
    "version": 3
   },
   "file_extension": ".py",
   "mimetype": "text/x-python",
   "name": "python",
   "nbconvert_exporter": "python",
   "pygments_lexer": "ipython3",
   "version": "3.10.12"
  }
 },
 "nbformat": 4,
 "nbformat_minor": 5
}
