{
  "cells": [
    {
      "cell_type": "markdown",
      "metadata": {
        "id": "view-in-github",
        "colab_type": "text"
      },
      "source": [
        "<a href=\"https://colab.research.google.com/github/mbrudd/LLMs/blob/main/Attention%20mechanisms%2C%20part%201.ipynb\" target=\"_parent\"><img src=\"https://colab.research.google.com/assets/colab-badge.svg\" alt=\"Open In Colab\"/></a>"
      ]
    },
    {
      "cell_type": "code",
      "execution_count": 1,
      "id": "ecb13cc5",
      "metadata": {
        "id": "ecb13cc5"
      },
      "outputs": [],
      "source": [
        "import torch\n",
        "import tiktoken"
      ]
    },
    {
      "cell_type": "code",
      "execution_count": 2,
      "id": "069ae6cb",
      "metadata": {
        "id": "069ae6cb"
      },
      "outputs": [],
      "source": [
        "raw_text = \"This is my dog Hazel\""
      ]
    },
    {
      "cell_type": "code",
      "execution_count": 3,
      "id": "753b5d90",
      "metadata": {
        "id": "753b5d90"
      },
      "outputs": [],
      "source": [
        "tokenizer = tiktoken.get_encoding(\"gpt2\")"
      ]
    },
    {
      "cell_type": "code",
      "execution_count": 4,
      "id": "e4f3c0f1",
      "metadata": {
        "colab": {
          "base_uri": "https://localhost:8080/"
        },
        "id": "e4f3c0f1",
        "outputId": "347be13e-80e8-411c-bf0e-1f74b4362103"
      },
      "outputs": [
        {
          "output_type": "stream",
          "name": "stdout",
          "text": [
            "[1212, 318, 616, 3290, 42805]\n"
          ]
        }
      ],
      "source": [
        "enc_text = tokenizer.encode( raw_text )\n",
        "print(enc_text)"
      ]
    },
    {
      "cell_type": "code",
      "execution_count": 5,
      "id": "3cff8e5c",
      "metadata": {
        "colab": {
          "base_uri": "https://localhost:8080/"
        },
        "id": "3cff8e5c",
        "outputId": "f035f534-01f8-4ba5-99a2-df526017cdc5"
      },
      "outputs": [
        {
          "output_type": "stream",
          "name": "stdout",
          "text": [
            "Parameter containing:\n",
            "tensor([[-0.1704, -1.4671,  0.4426, -1.6024, -0.3176,  0.2850,  0.1077,  1.0498],\n",
            "        [-0.5343,  0.5473,  1.6653,  0.9196, -1.3672,  0.3858,  0.0546, -0.1150],\n",
            "        [ 0.2694, -0.6523,  0.4049,  0.3974, -0.5747, -0.5147, -1.6517, -0.2605],\n",
            "        [-0.5086, -0.0952,  0.6344, -1.0397,  1.4200, -0.1959, -0.9147,  1.5092]],\n",
            "       requires_grad=True)\n"
          ]
        }
      ],
      "source": [
        "vocab_size = 4\n",
        "output_dim = 8\n",
        "inputs = torch.nn.Embedding( vocab_size, output_dim )\n",
        "print( inputs.weight )"
      ]
    },
    {
      "cell_type": "code",
      "execution_count": 6,
      "id": "14fa604c",
      "metadata": {
        "colab": {
          "base_uri": "https://localhost:8080/"
        },
        "id": "14fa604c",
        "outputId": "c694b236-82e3-41e8-eaaa-1fe9ab13b146"
      },
      "outputs": [
        {
          "output_type": "execute_result",
          "data": {
            "text/plain": [
              "tensor([[-0.1704, -1.4671,  0.4426, -1.6024, -0.3176,  0.2850,  0.1077,  1.0498],\n",
              "        [-0.5343,  0.5473,  1.6653,  0.9196, -1.3672,  0.3858,  0.0546, -0.1150],\n",
              "        [ 0.2694, -0.6523,  0.4049,  0.3974, -0.5747, -0.5147, -1.6517, -0.2605],\n",
              "        [-0.5086, -0.0952,  0.6344, -1.0397,  1.4200, -0.1959, -0.9147,  1.5092]])"
            ]
          },
          "metadata": {},
          "execution_count": 6
        }
      ],
      "source": [
        "inputs = inputs.weight.data\n",
        "inputs"
      ]
    },
    {
      "cell_type": "code",
      "execution_count": 7,
      "id": "f48673aa",
      "metadata": {
        "colab": {
          "base_uri": "https://localhost:8080/"
        },
        "id": "f48673aa",
        "outputId": "10ce8eb2-2798-414a-f80a-9ab6706e4c22"
      },
      "outputs": [
        {
          "output_type": "execute_result",
          "data": {
            "text/plain": [
              "torch.Size([4, 8])"
            ]
          },
          "metadata": {},
          "execution_count": 7
        }
      ],
      "source": [
        "inputs.shape"
      ]
    },
    {
      "cell_type": "code",
      "execution_count": 8,
      "id": "52ecd8a2",
      "metadata": {
        "colab": {
          "base_uri": "https://localhost:8080/"
        },
        "id": "52ecd8a2",
        "outputId": "5f50e7d9-c52d-4b7f-e00c-6e60285fa581"
      },
      "outputs": [
        {
          "output_type": "stream",
          "name": "stdout",
          "text": [
            "[-0.17037160694599152, -1.4670987129211426, 0.44257688522338867, -1.6024442911148071, -0.31758782267570496, 0.2850172817707062, 0.10768774151802063, 1.0497959852218628]\n",
            "[-0.5343101620674133, 0.547331690788269, 1.6653246879577637, 0.9196138978004456, -1.367247462272644, 0.38575413823127747, 0.054583583027124405, -0.11504777520895004]\n",
            "[0.26936084032058716, -0.6523193120956421, 0.40489014983177185, 0.3973643183708191, -0.5746732950210571, -0.5147222280502319, -1.6516999006271362, -0.26049181818962097]\n",
            "[-0.5086283087730408, -0.09520038217306137, 0.6343787908554077, -1.03965425491333, 1.4199848175048828, -0.1959317922592163, -0.9146639704704285, 1.509229302406311]\n"
          ]
        }
      ],
      "source": [
        "for row in inputs:\n",
        "    print(row.tolist())"
      ]
    },
    {
      "cell_type": "code",
      "execution_count": 9,
      "id": "744ab807",
      "metadata": {
        "id": "744ab807"
      },
      "outputs": [],
      "source": [
        "x = torch.Tensor([1.1, 2.3])\n",
        "y = torch.Tensor([3.4,-2.1])\n"
      ]
    },
    {
      "cell_type": "code",
      "execution_count": 10,
      "id": "9969af72",
      "metadata": {
        "colab": {
          "base_uri": "https://localhost:8080/"
        },
        "id": "9969af72",
        "outputId": "228cd8b2-ff4f-4e13-dc0b-86aaf597f323"
      },
      "outputs": [
        {
          "output_type": "execute_result",
          "data": {
            "text/plain": [
              "-1.0899999999999999"
            ]
          },
          "metadata": {},
          "execution_count": 10
        }
      ],
      "source": [
        "1.1*3.4 + 2.3*(-2.1)"
      ]
    },
    {
      "cell_type": "code",
      "execution_count": 11,
      "id": "3d0bd2e7",
      "metadata": {
        "colab": {
          "base_uri": "https://localhost:8080/"
        },
        "id": "3d0bd2e7",
        "outputId": "ce0b1939-a126-4b98-b38f-657410a7a1f8"
      },
      "outputs": [
        {
          "output_type": "execute_result",
          "data": {
            "text/plain": [
              "tensor(-1.0900)"
            ]
          },
          "metadata": {},
          "execution_count": 11
        }
      ],
      "source": [
        "torch.dot( x, y)"
      ]
    },
    {
      "cell_type": "code",
      "execution_count": 12,
      "id": "ff8ed3cb",
      "metadata": {
        "colab": {
          "base_uri": "https://localhost:8080/"
        },
        "id": "ff8ed3cb",
        "outputId": "efa55f6d-b147-4dfa-f69d-0179453e2bd2"
      },
      "outputs": [
        {
          "output_type": "stream",
          "name": "stdout",
          "text": [
            "tensor([ 0.2694, -0.6523,  0.4049,  0.3974, -0.5747, -0.5147, -1.6517, -0.2605])\n"
          ]
        }
      ],
      "source": [
        "query = inputs[2]\n",
        "print(query)"
      ]
    },
    {
      "cell_type": "code",
      "execution_count": 13,
      "id": "ec8044f6",
      "metadata": {
        "colab": {
          "base_uri": "https://localhost:8080/"
        },
        "id": "ec8044f6",
        "outputId": "b39943c7-086b-4cbc-9bcb-25993cdfaff9"
      },
      "outputs": [
        {
          "output_type": "stream",
          "name": "stdout",
          "text": [
            "tensor(0.0380)\n",
            "tensor(1.0657)\n",
            "tensor(4.2111)\n",
            "tensor(0.1713)\n"
          ]
        }
      ],
      "source": [
        "for i in range( len( inputs )):\n",
        "    print( torch.dot( query, inputs[i] ) )"
      ]
    },
    {
      "cell_type": "code",
      "execution_count": 14,
      "id": "8bc61b29",
      "metadata": {
        "colab": {
          "base_uri": "https://localhost:8080/"
        },
        "id": "8bc61b29",
        "outputId": "cc71da99-cfea-4ad5-b80f-7e0c5b1acc21"
      },
      "outputs": [
        {
          "output_type": "stream",
          "name": "stdout",
          "text": [
            "tensor([0.0380, 1.0657, 4.2111, 0.1713])\n"
          ]
        }
      ],
      "source": [
        "attention_scores_2 = torch.zeros( len(inputs) )\n",
        "for i in range( len( inputs )):\n",
        "    attention_scores_2[i] = torch.dot( query, inputs[i] )\n",
        "print( attention_scores_2)"
      ]
    },
    {
      "cell_type": "code",
      "execution_count": 15,
      "id": "2ea28496",
      "metadata": {
        "id": "2ea28496"
      },
      "outputs": [],
      "source": [
        "# normalize the attention scores using the softmax function:\n",
        "# def softmax(x):\n",
        "#     torch.exp(x) / torch.exp(x).sum()"
      ]
    },
    {
      "cell_type": "code",
      "execution_count": 16,
      "id": "13bb65e2",
      "metadata": {
        "colab": {
          "base_uri": "https://localhost:8080/"
        },
        "id": "13bb65e2",
        "outputId": "ffdfa6cd-ea2c-4c9f-b418-51be62be5057"
      },
      "outputs": [
        {
          "output_type": "execute_result",
          "data": {
            "text/plain": [
              "tensor([0.0143, 0.0400, 0.9293, 0.0164])"
            ]
          },
          "metadata": {},
          "execution_count": 16
        }
      ],
      "source": [
        "attention_weights_2 = torch.softmax( attention_scores_2, dim = 0 )\n",
        "attention_weights_2"
      ]
    },
    {
      "cell_type": "code",
      "execution_count": 17,
      "id": "99231a39",
      "metadata": {
        "colab": {
          "base_uri": "https://localhost:8080/"
        },
        "id": "99231a39",
        "outputId": "b1cb9c57-a979-461e-ea00-07c0e28deb66"
      },
      "outputs": [
        {
          "output_type": "execute_result",
          "data": {
            "text/plain": [
              "tensor(1.)"
            ]
          },
          "metadata": {},
          "execution_count": 17
        }
      ],
      "source": [
        "attention_weights_2.sum()"
      ]
    },
    {
      "cell_type": "code",
      "execution_count": 18,
      "id": "4281d09e",
      "metadata": {
        "colab": {
          "base_uri": "https://localhost:8080/"
        },
        "id": "4281d09e",
        "outputId": "6da7b3f2-80e2-429b-eac0-6691213d3a55"
      },
      "outputs": [
        {
          "output_type": "execute_result",
          "data": {
            "text/plain": [
              "tensor([ 0.2182, -0.6069,  0.4596,  0.3661, -0.5701, -0.4620, -1.5462, -0.2070])"
            ]
          },
          "metadata": {},
          "execution_count": 18
        }
      ],
      "source": [
        "context_vector_2 = torch.zeros( query.shape )\n",
        "for i in range( len( attention_weights_2 ) ):\n",
        "    context_vector_2 += attention_weights_2[i]*inputs[i]\n",
        "context_vector_2"
      ]
    },
    {
      "cell_type": "code",
      "source": [
        "inputs"
      ],
      "metadata": {
        "colab": {
          "base_uri": "https://localhost:8080/"
        },
        "id": "zU5taTSbgnn_",
        "outputId": "cc2e8684-8d4a-444d-925e-6c2d6516d153"
      },
      "id": "zU5taTSbgnn_",
      "execution_count": 19,
      "outputs": [
        {
          "output_type": "execute_result",
          "data": {
            "text/plain": [
              "tensor([[-0.1704, -1.4671,  0.4426, -1.6024, -0.3176,  0.2850,  0.1077,  1.0498],\n",
              "        [-0.5343,  0.5473,  1.6653,  0.9196, -1.3672,  0.3858,  0.0546, -0.1150],\n",
              "        [ 0.2694, -0.6523,  0.4049,  0.3974, -0.5747, -0.5147, -1.6517, -0.2605],\n",
              "        [-0.5086, -0.0952,  0.6344, -1.0397,  1.4200, -0.1959, -0.9147,  1.5092]])"
            ]
          },
          "metadata": {},
          "execution_count": 19
        }
      ]
    },
    {
      "cell_type": "code",
      "source": [
        "inputs.T"
      ],
      "metadata": {
        "colab": {
          "base_uri": "https://localhost:8080/"
        },
        "id": "IFmdnq32gq50",
        "outputId": "3d23fc28-6bcc-4f5d-d7f8-aaecba57eb4c"
      },
      "id": "IFmdnq32gq50",
      "execution_count": 20,
      "outputs": [
        {
          "output_type": "execute_result",
          "data": {
            "text/plain": [
              "tensor([[-0.1704, -0.5343,  0.2694, -0.5086],\n",
              "        [-1.4671,  0.5473, -0.6523, -0.0952],\n",
              "        [ 0.4426,  1.6653,  0.4049,  0.6344],\n",
              "        [-1.6024,  0.9196,  0.3974, -1.0397],\n",
              "        [-0.3176, -1.3672, -0.5747,  1.4200],\n",
              "        [ 0.2850,  0.3858, -0.5147, -0.1959],\n",
              "        [ 0.1077,  0.0546, -1.6517, -0.9147],\n",
              "        [ 1.0498, -0.1150, -0.2605,  1.5092]])"
            ]
          },
          "metadata": {},
          "execution_count": 20
        }
      ]
    },
    {
      "cell_type": "code",
      "execution_count": 21,
      "id": "b099939f",
      "metadata": {
        "colab": {
          "base_uri": "https://localhost:8080/"
        },
        "id": "b099939f",
        "outputId": "1cc8873e-7ad6-44fd-d59f-71f3d2901618"
      },
      "outputs": [
        {
          "output_type": "execute_result",
          "data": {
            "text/plain": [
              "tensor([[ 6.2409, -1.0193,  0.0380,  3.1521],\n",
              "        [-1.0193,  6.2384,  1.0657, -1.9206],\n",
              "        [ 0.0380,  1.0657,  4.2111,  0.1713],\n",
              "        [ 3.1521, -1.9206,  0.1713,  6.9202]])"
            ]
          },
          "metadata": {},
          "execution_count": 21
        }
      ],
      "source": [
        "# get all of the attention scores via a matrix multiplication:\n",
        "attention_scores = inputs @ inputs.T\n",
        "attention_scores"
      ]
    },
    {
      "cell_type": "code",
      "source": [
        "attention_weights = torch.softmax( attention_scores, dim = -1 )\n",
        "attention_weights"
      ],
      "metadata": {
        "colab": {
          "base_uri": "https://localhost:8080/"
        },
        "id": "y63T3p7TgZvl",
        "outputId": "8079fe86-9fce-4af8-ba3c-4fd0f26c9bc1"
      },
      "id": "y63T3p7TgZvl",
      "execution_count": 22,
      "outputs": [
        {
          "output_type": "execute_result",
          "data": {
            "text/plain": [
              "tensor([[9.5394e-01, 6.7062e-04, 1.9305e-03, 4.3461e-02],\n",
              "        [7.0005e-04, 9.9338e-01, 5.6316e-03, 2.8425e-04],\n",
              "        [1.4317e-02, 4.0009e-02, 9.2932e-01, 1.6357e-02],\n",
              "        [2.2546e-02, 1.4126e-04, 1.1442e-03, 9.7617e-01]])"
            ]
          },
          "metadata": {},
          "execution_count": 22
        }
      ]
    },
    {
      "cell_type": "code",
      "source": [
        "attention_weights[0].sum()"
      ],
      "metadata": {
        "colab": {
          "base_uri": "https://localhost:8080/"
        },
        "id": "Gl7K2gNAhGJx",
        "outputId": "2874f4c4-b745-429c-a436-d016306acc9b"
      },
      "id": "Gl7K2gNAhGJx",
      "execution_count": 23,
      "outputs": [
        {
          "output_type": "execute_result",
          "data": {
            "text/plain": [
              "tensor(1.)"
            ]
          },
          "metadata": {},
          "execution_count": 23
        }
      ]
    },
    {
      "cell_type": "code",
      "source": [
        "context_vectors = attention_weights @ inputs\n",
        "context_vectors"
      ],
      "metadata": {
        "colab": {
          "base_uri": "https://localhost:8080/"
        },
        "id": "4JouXe6KhJVG",
        "outputId": "36914172-0b41-4857-926e-be66cf78480b"
      },
      "id": "4JouXe6KhJVG",
      "execution_count": 24,
      "outputs": [
        {
          "output_type": "execute_result",
          "data": {
            "text/plain": [
              "tensor([[-0.1845, -1.4046,  0.4517, -1.5724, -0.2433,  0.2626,  0.0598,  1.0665],\n",
              "        [-0.5295,  0.5390,  1.6571,  0.9144, -1.3613,  0.3804,  0.0447, -0.1146],\n",
              "        [ 0.2182, -0.6069,  0.4596,  0.3661, -0.5701, -0.4620, -1.5462, -0.2070],\n",
              "        [-0.5001, -0.1267,  0.6299, -1.0504,  1.3781, -0.1854, -0.8923,  1.4966]])"
            ]
          },
          "metadata": {},
          "execution_count": 24
        }
      ]
    },
    {
      "cell_type": "code",
      "source": [],
      "metadata": {
        "id": "ik363mQchhgZ"
      },
      "id": "ik363mQchhgZ",
      "execution_count": 24,
      "outputs": []
    }
  ],
  "metadata": {
    "kernelspec": {
      "display_name": "Python 3 (ipykernel)",
      "language": "python",
      "name": "python3"
    },
    "language_info": {
      "codemirror_mode": {
        "name": "ipython",
        "version": 3
      },
      "file_extension": ".py",
      "mimetype": "text/x-python",
      "name": "python",
      "nbconvert_exporter": "python",
      "pygments_lexer": "ipython3",
      "version": "3.10.12"
    },
    "colab": {
      "provenance": [],
      "include_colab_link": true
    }
  },
  "nbformat": 4,
  "nbformat_minor": 5
}